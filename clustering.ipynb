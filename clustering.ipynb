{
 "cells": [
  {
   "cell_type": "code",
   "execution_count": 27,
   "metadata": {},
   "outputs": [],
   "source": [
    "#coding utf8\n",
    "import pandas as pd\n",
    "import numpy as np\n",
    "import matplotlib.pyplot as plt\n",
    "import seaborn as sns\n",
    "import matplotlib.pyplot as plt\n",
    "from sklearn.linear_model import LinearRegression\n",
    "import tensorflow as tf\n",
    "import keras_tuner as kt\n",
    "from scipy.io import loadmat\n",
    "from tensorflow import keras\n",
    "from tensorflow.keras import layers, metrics\n",
    "from sklearn.ensemble import RandomForestRegressor, HistGradientBoostingRegressor, AdaBoostRegressor, ExtraTreesRegressor\n",
    "from sklearn.cluster import KMeans, DBSCAN\n",
    "from sklearn.decomposition import PCA\n",
    "from sklearn.manifold import TSNE\n",
    "from sklearn import svm\n",
    "import statsmodels.api as sm\n",
    "from pylab import rcParams\n",
    "from statsmodels.graphics.tsaplots import plot_acf, plot_pacf\n",
    "from statsmodels.tsa.arima.model import ARIMA\n",
    "from sklearn.feature_selection import mutual_info_regression, f_regression, r_regression\n",
    "import sklearn\n",
    "from mpl_toolkits.mplot3d import Axes3D\n",
    "#from PyIF import te_compute as te\n",
    "#from neuralprophet import NeuralProphet"
   ]
  },
  {
   "cell_type": "code",
   "execution_count": 76,
   "metadata": {},
   "outputs": [],
   "source": [
    "'''\n",
    "Functions for loading in and combining data\n",
    "'''\n",
    "\n",
    "def load_df(file_name, sheet = 'Sheet 1'):\n",
    "    '''\n",
    "    Load a file into a data frame that is quarterly from the Eurostat website\n",
    "    '''\n",
    "    df = pd.read_excel(file_name, sheet_name=sheet)\n",
    "    df = df.loc[:, ~df.columns.str.contains('^Unnamed')]\n",
    "    df.replace(':', np.nan, inplace=True)\n",
    "    df.index = df.iloc[:, 0]\n",
    "    df.drop(df.columns[[0]], axis=1, inplace=True)\n",
    "    for i in df.columns[:]:\n",
    "        df[i] = df[i].apply(pd.to_numeric, errors=\"coerce\")\n",
    "    df.interpolate(method='linear', inplace=True, axis = 1)\n",
    "    df.sort_index(inplace=True)\n",
    "    df = df.rename({'Germany (until 1990 former territory of the FRG)': 'Germany'})\n",
    "    return df\n",
    "\n",
    "def create_per_employeer(GDP_df, HW_df, employees_df):\n",
    "    ''' \n",
    "    Inputs: GDP, hours worked, and employees dataframes\n",
    "    Output: dataframe with per-employee GDP and per hour worked GDP\n",
    "    '''\n",
    "    cols =(list(set(GDP_df.columns) and set(employees_df.columns) and set(HW_df.columns)))\n",
    "    cols.sort()\n",
    "    idx = cols.pop()\n",
    "    per_employee_df = pd.DataFrame(index=GDP_df.index, columns=cols)\n",
    "    per_HW_df = pd.DataFrame(index=GDP_df.index, columns=cols)\n",
    "    for i in cols:\n",
    "        per_employee_df[i] = GDP_df[i]/employees_df[i]\n",
    "        per_HW_df[i] = per_employee_df[i]/HW_df[i]\n",
    "    return per_employee_df, per_HW_df\n",
    "\n",
    "def country_code_to_name(df):\n",
    "    '''\n",
    "    Renames country codes to country names\n",
    "    '''\n",
    "    df = df.rename({'AUT': 'Austria', 'BEL': 'Belgium', 'DEU': 'Germany','EST': 'Estonia','FIN': 'Finland','ESP': 'Spain','FRA': 'France','GRC': 'Greece','IRL': 'Ireland','ITA': 'Italy','LTU': 'Lithuania','LUX': 'Luxembourg','LVA': 'Latvia','PRT': 'Portugal','NLD': 'Netherlands','SVK': 'Slovakia','SVN': 'Slovenia','ISL': 'Iceland','GBR': 'United Kingdom','CHE': 'Switzerland','CZE': 'Cezch Republic','DNK': 'Denmark','HUN': 'Hungary','NOR': 'Norway','POL': 'Poland','SWE': 'Sweden'})\n",
    "    return df\n",
    "\n",
    "def yearly_to_quarterly(df):\n",
    "    '''\n",
    "    Inputs: df\n",
    "    Converts the data from yearly to quarterly\n",
    "    Outputs: quarterly_df\n",
    "    '''\n",
    "    data = df.to_numpy(dtype=np.float64)\n",
    "    data = np.repeat(data, 4, axis = 1)\n",
    "    quarterly_df = pd.DataFrame(data)\n",
    "    quarterly_df.index = df.index\n",
    "    quarterly_df.columns = GDP_df.columns[(int(df.columns[0]) - 1975)*4:(int(df.columns[-1]) - 2021)*4]\n",
    "    return quarterly_df\n",
    "\n",
    "def match_df(dfs):\n",
    "    ''' \n",
    "    Input : dataframes\n",
    "    This function matches dataframes by their index and column \n",
    "    Output: matched dataframes\n",
    "    '''\n",
    "    idx = set(dfs[0].index)\n",
    "    cols = set(dfs[0].columns)\n",
    "    for i in dfs:\n",
    "        idx = idx.intersection(set(i.index))\n",
    "        cols = cols.intersection(set(i.columns))\n",
    "    cols = list(cols)\n",
    "    idx = list(idx)\n",
    "    cols.sort()\n",
    "    idx.sort()\n",
    "    for i in range(len(dfs)):\n",
    "        dfs[i] = dfs[i].loc[idx]\n",
    "        dfs[i] = dfs[i][cols]\n",
    "    return dfs\n",
    "\n",
    "def to_datetime(df):\n",
    "    df.columns = [w.replace('-Q1','-01') for w in df.columns]\n",
    "    df.columns = [w.replace('-Q2','-04') for w in df.columns]\n",
    "    df.columns = [w.replace('-Q3', '-07') for w in df.columns]\n",
    "    df.columns = [w.replace('-Q4', '-10') for w in df.columns]\n",
    "    for i in df.columns[:]:\n",
    "        i = np.datetime64(i)\n",
    "    df.columns = pd.to_datetime(df.columns)\n",
    "    return df\n",
    "\n",
    "def extend_df(dfs):\n",
    "    idx = set(dfs[0].index)\n",
    "    cols = set(dfs[0].columns)\n",
    "    for i in dfs:\n",
    "        idx = idx.union(set(i.index))\n",
    "        cols = cols.union(set(i.columns))\n",
    "    cols = list(cols)\n",
    "    idx = list(idx)\n",
    "    cols.sort()\n",
    "    idx.sort()\n",
    "    for i in range(len(dfs)):\n",
    "        dfs[i] = dfs[i].reindex(index=idx, columns=cols)\n",
    "        dfs[i] = dfs[i].loc[idx]\n",
    "        dfs[i] = dfs[i][cols]\n",
    "        dfs[i] = to_datetime(dfs[i])\n",
    "        dfs[i].interpolate(method='polynomial', order = 5, inplace = True, limit = 100, limit_direction = 'both', axis = 1)\n",
    "        dfs[i].fillna(0)\n",
    "    return dfs\n",
    "\n",
    "\n",
    "'''\n",
    "Functions for RNN time series prediction\n",
    "'''\n",
    "\n",
    "def process_data(X, y, split_point, time_step, data_memory):\n",
    "    '''\n",
    "    Inputs: X, y, split_point, time_step, data_memory\n",
    "    Splits data into training and testing data\n",
    "    Outputs: X_train, X_test, y_train, y_test\n",
    "    '''\n",
    "    X_norm, X_attrs, y_norm, y_attrs = normalise(X, y)\n",
    "    split_point = int(X_norm.shape[0] *split_point)\n",
    "    y_norm = np.roll(y_norm, -time_step)\n",
    "    nrows = X_norm.shape[0]\n",
    "    samples = X_norm.shape[1]\n",
    "    X_norm = np.repeat(X_norm, data_memory, 0).reshape(nrows, data_memory, samples)\n",
    "    x_train, x_test, y_train, y_test = train_test_split(X_norm, y_norm, split_point)\n",
    "    return x_train, x_test, y_train, y_test, nrows, samples, X_norm, y_norm, X_attrs, y_attrs\n",
    "\n",
    "def normalise(X, y):\n",
    "    '''\n",
    "    Inputs: X, y\n",
    "    Normalises the data by subtracting the mean and dividing by the standard deviation\n",
    "    Outputs : X_norm, y_norm, X_attrs, y_attrs\n",
    "    '''\n",
    "    X_attrs = np.zeros((X.shape[-1], 2))\n",
    "    y_attrs = np.zeros((y.shape[-1], 2))\n",
    "    X_norm = np.zeros(X.shape)\n",
    "    y_norm = np.zeros(y.shape)\n",
    "    for i in range(X.shape[-1]):\n",
    "        X_attrs[i, :] = [np.mean(X[:, i]), np.var(X[:, i])]\n",
    "        X_norm[:, i] = (X[:, i] - np.mean(X[:, i]))/np.var(X[:, i])**0.5\n",
    "    for i in range(y.shape[-1]):\n",
    "        y_attrs[i, :] = [np.mean(y[:, i]), np.var(y[:, i])]\n",
    "        y_norm[:, i] = (y[:, i] - np.mean(y[:, i]))/np.var(y[:, i])**0.5 \n",
    "    return X_norm, X_attrs, y_norm, y_attrs\n",
    "\n",
    "def train_test_split(X, y, split_point):\n",
    "    '''\n",
    "    Splits the data into training and testing data\n",
    "    '''\n",
    "    x_train = X[:split_point, :, :]\n",
    "    x_test = X[split_point:, :, :]\n",
    "    y_train = y[:split_point]\n",
    "    y_test = y[split_point:]\n",
    "    return x_train, x_test, y_train, y_test\n",
    "        \n",
    "def create_model(layers, input_shape, print_summary):\n",
    "    '''\n",
    "    Creates a model with the specified layers\n",
    "    '''\n",
    "    model = keras.Sequential(layers)\n",
    "    model.build(input_shape=input_shape)\n",
    "    model.compile(loss='mse', optimizer='adam', metrics = [tf.keras.metrics.MeanSquaredError()])\n",
    "    if print_summary:\n",
    "        model.summary()\n",
    "    return model\n",
    "\n",
    "def run_model(X, y, time_step, data_memory, epochs, batch_size, model_layer, split_point):\n",
    "    '''\n",
    "    Inputs: X, y, time_step, data_memory, epochs, batch_size, model_layer, split_point\n",
    "    Runs the model on the data\n",
    "    Outputs: model, history\n",
    "    '''\n",
    "    x_train, x_test, y_train, y_test, nrows, samples, X_norm, y_norm, X_attrs, y_attrs = process_data(X, y, split_point, time_step, data_memory)\n",
    "    input_shape = (x_train.shape[0], data_memory, samples)\n",
    "    model = create_model(model_layer, input_shape, print_summary)\n",
    "    history = model.fit(x_train, y_train, validation_split = 0.1, epochs= epochs , batch_size=batch_size)\n",
    "    y_pred_norm = np.concatenate((model.predict(x_train[:, :, :]), model.predict(x_test[:, :, :])))\n",
    "    y_pred_norm = np.roll(y_pred_norm, 1, axis = 1)\n",
    "    y_pred = y_pred_norm *y_attrs[:, 1]**0.5 + y_attrs[:, 0]\n",
    "    return y_pred, history\n",
    "\n",
    "'''\n",
    "Regression stuff\n",
    "'''\n",
    "\n",
    "def run_regr(X, y, t, regr, colours):\n",
    "    regr.fit(X, y)\n",
    "    nrows = X.shape[0]\n",
    "    y_reg = np.zeros(nrows)  \n",
    "    for i in range(nrows):\n",
    "        y_reg[i] = regr.predict(np.array([X[i, :]]))\n",
    "    total_loss, loss = cal_loss(y, y_reg, nrows)\n",
    "    plt.plot(t, y, colours[0], t, y_reg, colours[1])    \n",
    "    return regr, total_loss, loss\n",
    "\n",
    "def cal_loss(y, y_reg, nrows):\n",
    "    abs_loss, per_loss = np.zeros(nrows), np.zeros(nrows)\n",
    "    for i in range(nrows):\n",
    "        abs_loss[i] = np.abs(y[i] - y_reg[i])\n",
    "        if y[i] > 0:\n",
    "            per_loss[i] = abs_loss[i] / y[i]\n",
    "    total_loss, loss = np.sum(abs_loss)/ nrows, np.sum(per_loss)/ nrows\n",
    "    return total_loss, loss\n",
    "\n",
    "def scatter2d(X, y):\n",
    "\n",
    "    import plotly.express as px\n",
    "    fig = px.scatter(X, x=X[:,0], y=X[:,1],\n",
    "              color=y)\n",
    "    fig.show()\n",
    "        \n",
    "def scatter3d(X, y):\n",
    "\n",
    "    import plotly.express as px\n",
    "    fig = px.scatter_3d(X, x=X[:,0], y=X[:,1], z=X[:,2],\n",
    "              color=y)\n",
    "    fig.show()"
   ]
  },
  {
   "cell_type": "code",
   "execution_count": 77,
   "metadata": {},
   "outputs": [],
   "source": [
    "'''\n",
    "Loads in gross domestic product, hours worked and employees data\n",
    "Returns GDP per employee and GDP per hour worked\n",
    "'''\n",
    "GDP_df =  load_df('./data/GDP_per_quarter_2.xlsx') * 1e6\n",
    "HW_df = load_df('./data/hours_worked.xlsx')\n",
    "employees_df = load_df('./data/Employees.xlsx') * 1e3\n",
    "per_employee_df, per_HW_df = create_per_employeer(GDP_df, HW_df, employees_df)\n",
    "\n",
    "#per_HW_df.iloc[4, :].T.plot(legend = False)\n",
    "\n",
    "'''\n",
    "Depression data\n",
    "'''\n",
    "dep_df = pd.read_csv('data/depression_by_age.csv') \n",
    "dep_df = dep_df.drop(['Prevalence - Depressive disorders - Sex: Both - Age: 10 to 14 (Percent)','Prevalence - Depressive disorders - Sex: Both - Age: All Ages (Percent)','Prevalence - Depressive disorders - Sex: Both - Age: 70+ years (Percent)','Prevalence - Depressive disorders - Sex: Both - Age: Age-standardized (Percent)', 'Prevalence - Depressive disorders - Sex: Both - Age: 15-49 years (Percent)'],axis=1)\n",
    "a = ['Belgium','Bulgaria','Denmark','Germany','Estonia','Ireland','Greece','Spain','France','Croatia','Italy','Cyprus','Latvia','Lithuania','Luxemburg','Hungary','Malta','Netherlands','Austria','Poland','Portugal','Romania','Slovenia','Slovakia','Finland','Sweden','Iceland','Norway','Switzerland','United Kingdom','Montenegro','North Macedonia','Serbia','Turkey']\n",
    "dep_df = dep_df[dep_df['Entity'].isin(a)]\n",
    "dep_df['Age:15-69_depression_average']=dep_df.iloc[:,3:7].mean(axis=1,skipna=True)\n",
    "dep_df = dep_df.pivot_table('Age:15-69_depression_average', ['Entity', 'Code'], 'Year')\n",
    "dep_df = dep_df.reset_index('Code')\n",
    "del dep_df['Code']\n",
    "dep_quarterly_df = yearly_to_quarterly(dep_df)\n",
    "\n",
    "'''\n",
    "Education data\n",
    "'''\n",
    "education_dfs = [None] * 4\n",
    "for i in range(4):\n",
    "    education_dfs[i] = load_df('./data/Education.xlsx', 'Sheet ' + str(4*i + 1))\n",
    "    education_dfs[i] = yearly_to_quarterly(education_dfs[i])\n",
    "    education_dfs[i] = education_dfs[i].rename({'Germany (until 1990 former territory of the FRG)': 'Germany'})\n",
    "    \n",
    "\n",
    "'''\n",
    "Inflation data\n",
    "'''\n",
    "inf_df = pd.read_csv('data/Quarterly_infilation.csv')\n",
    "inf_df =inf_df.drop(['SUBJECT', 'MEASURE','FREQUENCY','Flag Codes'], axis=1)\n",
    "inf_df = inf_df.pivot_table('Value', ['LOCATION', 'INDICATOR'], 'TIME')\n",
    "inf_df = country_code_to_name(inf_df)\n",
    "inf_df = inf_df.reset_index('INDICATOR')\n",
    "del inf_df['INDICATOR']\n",
    "inf_df = inf_df.rename({'Germany (until 1990 former territory of the FRG)': 'Germany'})\n",
    "\n",
    "'''\n",
    "Unemployment data\n",
    "'''\n",
    "unem_df = pd.read_csv('./data/unem.csv')\n",
    "unem_df.fillna(0)\n",
    "unem_df = unem_df[['LOCATION', 'TIME', 'Value']]\n",
    "unem_df = unem_df.pivot_table('Value',  ['LOCATION'],'TIME')\n",
    "unem_df = country_code_to_name(unem_df)\n",
    "\n",
    "'''\n",
    "Combine all dataframes and create a numpy array of the data\n",
    "Data = [Country, Time, Feature]\n",
    "'''\n",
    "dfs = [per_employee_df, per_HW_df] + education_dfs + [inf_df, unem_df, dep_quarterly_df]\n",
    "matched_dfs = match_df(dfs)\n",
    "data = np.zeros((len(matched_dfs[0].index), len(matched_dfs[0].columns),  len(matched_dfs)))\n",
    "for i in range(len(matched_dfs)):\n",
    "    data[:, :, i] = matched_dfs[i].to_numpy(dtype=np.float64)\n",
    "# matched_dfs[1]"
   ]
  },
  {
   "cell_type": "code",
   "execution_count": 78,
   "metadata": {},
   "outputs": [
    {
     "data": {
      "text/html": [
       "<div>\n",
       "<style scoped>\n",
       "    .dataframe tbody tr th:only-of-type {\n",
       "        vertical-align: middle;\n",
       "    }\n",
       "\n",
       "    .dataframe tbody tr th {\n",
       "        vertical-align: top;\n",
       "    }\n",
       "\n",
       "    .dataframe thead th {\n",
       "        text-align: right;\n",
       "    }\n",
       "</style>\n",
       "<table border=\"1\" class=\"dataframe\">\n",
       "  <thead>\n",
       "    <tr style=\"text-align: right;\">\n",
       "      <th></th>\n",
       "      <th>2008-Q1</th>\n",
       "      <th>2008-Q2</th>\n",
       "      <th>2008-Q3</th>\n",
       "      <th>2008-Q4</th>\n",
       "      <th>2009-Q1</th>\n",
       "      <th>2009-Q2</th>\n",
       "      <th>2009-Q3</th>\n",
       "      <th>2009-Q4</th>\n",
       "      <th>2010-Q1</th>\n",
       "      <th>2010-Q2</th>\n",
       "      <th>...</th>\n",
       "      <th>2017-Q3</th>\n",
       "      <th>2017-Q4</th>\n",
       "      <th>2018-Q1</th>\n",
       "      <th>2018-Q2</th>\n",
       "      <th>2018-Q3</th>\n",
       "      <th>2018-Q4</th>\n",
       "      <th>2019-Q1</th>\n",
       "      <th>2019-Q2</th>\n",
       "      <th>2019-Q3</th>\n",
       "      <th>2019-Q4</th>\n",
       "    </tr>\n",
       "    <tr>\n",
       "      <th>Entity</th>\n",
       "      <th></th>\n",
       "      <th></th>\n",
       "      <th></th>\n",
       "      <th></th>\n",
       "      <th></th>\n",
       "      <th></th>\n",
       "      <th></th>\n",
       "      <th></th>\n",
       "      <th></th>\n",
       "      <th></th>\n",
       "      <th></th>\n",
       "      <th></th>\n",
       "      <th></th>\n",
       "      <th></th>\n",
       "      <th></th>\n",
       "      <th></th>\n",
       "      <th></th>\n",
       "      <th></th>\n",
       "      <th></th>\n",
       "      <th></th>\n",
       "      <th></th>\n",
       "    </tr>\n",
       "  </thead>\n",
       "  <tbody>\n",
       "    <tr>\n",
       "      <th>Austria</th>\n",
       "      <td>3.932948</td>\n",
       "      <td>3.932948</td>\n",
       "      <td>3.932948</td>\n",
       "      <td>3.932948</td>\n",
       "      <td>3.894398</td>\n",
       "      <td>3.894398</td>\n",
       "      <td>3.894398</td>\n",
       "      <td>3.894398</td>\n",
       "      <td>3.874706</td>\n",
       "      <td>3.874706</td>\n",
       "      <td>...</td>\n",
       "      <td>3.904541</td>\n",
       "      <td>3.904541</td>\n",
       "      <td>3.909877</td>\n",
       "      <td>3.909877</td>\n",
       "      <td>3.909877</td>\n",
       "      <td>3.909877</td>\n",
       "      <td>3.919968</td>\n",
       "      <td>3.919968</td>\n",
       "      <td>3.919968</td>\n",
       "      <td>3.919968</td>\n",
       "    </tr>\n",
       "    <tr>\n",
       "      <th>Belgium</th>\n",
       "      <td>4.470518</td>\n",
       "      <td>4.470518</td>\n",
       "      <td>4.470518</td>\n",
       "      <td>4.470518</td>\n",
       "      <td>4.529200</td>\n",
       "      <td>4.529200</td>\n",
       "      <td>4.529200</td>\n",
       "      <td>4.529200</td>\n",
       "      <td>4.556212</td>\n",
       "      <td>4.556212</td>\n",
       "      <td>...</td>\n",
       "      <td>4.373711</td>\n",
       "      <td>4.373711</td>\n",
       "      <td>4.381408</td>\n",
       "      <td>4.381408</td>\n",
       "      <td>4.381408</td>\n",
       "      <td>4.381408</td>\n",
       "      <td>4.395594</td>\n",
       "      <td>4.395594</td>\n",
       "      <td>4.395594</td>\n",
       "      <td>4.395594</td>\n",
       "    </tr>\n",
       "    <tr>\n",
       "      <th>Estonia</th>\n",
       "      <td>4.093089</td>\n",
       "      <td>4.093089</td>\n",
       "      <td>4.093089</td>\n",
       "      <td>4.093089</td>\n",
       "      <td>4.002988</td>\n",
       "      <td>4.002988</td>\n",
       "      <td>4.002988</td>\n",
       "      <td>4.002988</td>\n",
       "      <td>3.930319</td>\n",
       "      <td>3.930319</td>\n",
       "      <td>...</td>\n",
       "      <td>3.690929</td>\n",
       "      <td>3.690929</td>\n",
       "      <td>3.701515</td>\n",
       "      <td>3.701515</td>\n",
       "      <td>3.701515</td>\n",
       "      <td>3.701515</td>\n",
       "      <td>3.718065</td>\n",
       "      <td>3.718065</td>\n",
       "      <td>3.718065</td>\n",
       "      <td>3.718065</td>\n",
       "    </tr>\n",
       "    <tr>\n",
       "      <th>Finland</th>\n",
       "      <td>6.216123</td>\n",
       "      <td>6.216123</td>\n",
       "      <td>6.216123</td>\n",
       "      <td>6.216123</td>\n",
       "      <td>6.213358</td>\n",
       "      <td>6.213358</td>\n",
       "      <td>6.213358</td>\n",
       "      <td>6.213358</td>\n",
       "      <td>6.196769</td>\n",
       "      <td>6.196769</td>\n",
       "      <td>...</td>\n",
       "      <td>5.759037</td>\n",
       "      <td>5.759037</td>\n",
       "      <td>5.772166</td>\n",
       "      <td>5.772166</td>\n",
       "      <td>5.772166</td>\n",
       "      <td>5.772166</td>\n",
       "      <td>5.793236</td>\n",
       "      <td>5.793236</td>\n",
       "      <td>5.793236</td>\n",
       "      <td>5.793236</td>\n",
       "    </tr>\n",
       "    <tr>\n",
       "      <th>France</th>\n",
       "      <td>4.720823</td>\n",
       "      <td>4.720823</td>\n",
       "      <td>4.720823</td>\n",
       "      <td>4.720823</td>\n",
       "      <td>4.656159</td>\n",
       "      <td>4.656159</td>\n",
       "      <td>4.656159</td>\n",
       "      <td>4.656159</td>\n",
       "      <td>4.618401</td>\n",
       "      <td>4.618401</td>\n",
       "      <td>...</td>\n",
       "      <td>4.559817</td>\n",
       "      <td>4.559817</td>\n",
       "      <td>4.572124</td>\n",
       "      <td>4.572124</td>\n",
       "      <td>4.572124</td>\n",
       "      <td>4.572124</td>\n",
       "      <td>4.604383</td>\n",
       "      <td>4.604383</td>\n",
       "      <td>4.604383</td>\n",
       "      <td>4.604383</td>\n",
       "    </tr>\n",
       "    <tr>\n",
       "      <th>Germany</th>\n",
       "      <td>4.634948</td>\n",
       "      <td>4.634948</td>\n",
       "      <td>4.634948</td>\n",
       "      <td>4.634948</td>\n",
       "      <td>4.626955</td>\n",
       "      <td>4.626955</td>\n",
       "      <td>4.626955</td>\n",
       "      <td>4.626955</td>\n",
       "      <td>4.622184</td>\n",
       "      <td>4.622184</td>\n",
       "      <td>...</td>\n",
       "      <td>4.432185</td>\n",
       "      <td>4.432185</td>\n",
       "      <td>4.322971</td>\n",
       "      <td>4.322971</td>\n",
       "      <td>4.322971</td>\n",
       "      <td>4.322971</td>\n",
       "      <td>4.201171</td>\n",
       "      <td>4.201171</td>\n",
       "      <td>4.201171</td>\n",
       "      <td>4.201171</td>\n",
       "    </tr>\n",
       "    <tr>\n",
       "      <th>Greece</th>\n",
       "      <td>6.787959</td>\n",
       "      <td>6.787959</td>\n",
       "      <td>6.787959</td>\n",
       "      <td>6.787959</td>\n",
       "      <td>6.777206</td>\n",
       "      <td>6.777206</td>\n",
       "      <td>6.777206</td>\n",
       "      <td>6.777206</td>\n",
       "      <td>6.763624</td>\n",
       "      <td>6.763624</td>\n",
       "      <td>...</td>\n",
       "      <td>5.990507</td>\n",
       "      <td>5.990507</td>\n",
       "      <td>6.029512</td>\n",
       "      <td>6.029512</td>\n",
       "      <td>6.029512</td>\n",
       "      <td>6.029512</td>\n",
       "      <td>6.113405</td>\n",
       "      <td>6.113405</td>\n",
       "      <td>6.113405</td>\n",
       "      <td>6.113405</td>\n",
       "    </tr>\n",
       "    <tr>\n",
       "      <th>Ireland</th>\n",
       "      <td>5.243573</td>\n",
       "      <td>5.243573</td>\n",
       "      <td>5.243573</td>\n",
       "      <td>5.243573</td>\n",
       "      <td>5.240653</td>\n",
       "      <td>5.240653</td>\n",
       "      <td>5.240653</td>\n",
       "      <td>5.240653</td>\n",
       "      <td>5.235530</td>\n",
       "      <td>5.235530</td>\n",
       "      <td>...</td>\n",
       "      <td>5.725124</td>\n",
       "      <td>5.725124</td>\n",
       "      <td>5.726337</td>\n",
       "      <td>5.726337</td>\n",
       "      <td>5.726337</td>\n",
       "      <td>5.726337</td>\n",
       "      <td>5.688510</td>\n",
       "      <td>5.688510</td>\n",
       "      <td>5.688510</td>\n",
       "      <td>5.688510</td>\n",
       "    </tr>\n",
       "    <tr>\n",
       "      <th>Italy</th>\n",
       "      <td>4.267409</td>\n",
       "      <td>4.267409</td>\n",
       "      <td>4.267409</td>\n",
       "      <td>4.267409</td>\n",
       "      <td>4.156614</td>\n",
       "      <td>4.156614</td>\n",
       "      <td>4.156614</td>\n",
       "      <td>4.156614</td>\n",
       "      <td>4.111459</td>\n",
       "      <td>4.111459</td>\n",
       "      <td>...</td>\n",
       "      <td>4.263645</td>\n",
       "      <td>4.263645</td>\n",
       "      <td>4.297771</td>\n",
       "      <td>4.297771</td>\n",
       "      <td>4.297771</td>\n",
       "      <td>4.297771</td>\n",
       "      <td>4.368157</td>\n",
       "      <td>4.368157</td>\n",
       "      <td>4.368157</td>\n",
       "      <td>4.368157</td>\n",
       "    </tr>\n",
       "    <tr>\n",
       "      <th>Latvia</th>\n",
       "      <td>3.953395</td>\n",
       "      <td>3.953395</td>\n",
       "      <td>3.953395</td>\n",
       "      <td>3.953395</td>\n",
       "      <td>3.887468</td>\n",
       "      <td>3.887468</td>\n",
       "      <td>3.887468</td>\n",
       "      <td>3.887468</td>\n",
       "      <td>3.854642</td>\n",
       "      <td>3.854642</td>\n",
       "      <td>...</td>\n",
       "      <td>3.838283</td>\n",
       "      <td>3.838283</td>\n",
       "      <td>3.844814</td>\n",
       "      <td>3.844814</td>\n",
       "      <td>3.844814</td>\n",
       "      <td>3.844814</td>\n",
       "      <td>3.847041</td>\n",
       "      <td>3.847041</td>\n",
       "      <td>3.847041</td>\n",
       "      <td>3.847041</td>\n",
       "    </tr>\n",
       "    <tr>\n",
       "      <th>Lithuania</th>\n",
       "      <td>4.393624</td>\n",
       "      <td>4.393624</td>\n",
       "      <td>4.393624</td>\n",
       "      <td>4.393624</td>\n",
       "      <td>4.344092</td>\n",
       "      <td>4.344092</td>\n",
       "      <td>4.344092</td>\n",
       "      <td>4.344092</td>\n",
       "      <td>4.305447</td>\n",
       "      <td>4.305447</td>\n",
       "      <td>...</td>\n",
       "      <td>4.220238</td>\n",
       "      <td>4.220238</td>\n",
       "      <td>4.217820</td>\n",
       "      <td>4.217820</td>\n",
       "      <td>4.217820</td>\n",
       "      <td>4.217820</td>\n",
       "      <td>4.206985</td>\n",
       "      <td>4.206985</td>\n",
       "      <td>4.206985</td>\n",
       "      <td>4.206985</td>\n",
       "    </tr>\n",
       "    <tr>\n",
       "      <th>Netherlands</th>\n",
       "      <td>4.532882</td>\n",
       "      <td>4.532882</td>\n",
       "      <td>4.532882</td>\n",
       "      <td>4.532882</td>\n",
       "      <td>4.513514</td>\n",
       "      <td>4.513514</td>\n",
       "      <td>4.513514</td>\n",
       "      <td>4.513514</td>\n",
       "      <td>4.492159</td>\n",
       "      <td>4.492159</td>\n",
       "      <td>...</td>\n",
       "      <td>4.328845</td>\n",
       "      <td>4.328845</td>\n",
       "      <td>4.354301</td>\n",
       "      <td>4.354301</td>\n",
       "      <td>4.354301</td>\n",
       "      <td>4.354301</td>\n",
       "      <td>4.389337</td>\n",
       "      <td>4.389337</td>\n",
       "      <td>4.389337</td>\n",
       "      <td>4.389337</td>\n",
       "    </tr>\n",
       "    <tr>\n",
       "      <th>Portugal</th>\n",
       "      <td>5.625110</td>\n",
       "      <td>5.625110</td>\n",
       "      <td>5.625110</td>\n",
       "      <td>5.625110</td>\n",
       "      <td>5.607180</td>\n",
       "      <td>5.607180</td>\n",
       "      <td>5.607180</td>\n",
       "      <td>5.607180</td>\n",
       "      <td>5.579912</td>\n",
       "      <td>5.579912</td>\n",
       "      <td>...</td>\n",
       "      <td>4.998166</td>\n",
       "      <td>4.998166</td>\n",
       "      <td>5.003271</td>\n",
       "      <td>5.003271</td>\n",
       "      <td>5.003271</td>\n",
       "      <td>5.003271</td>\n",
       "      <td>5.019963</td>\n",
       "      <td>5.019963</td>\n",
       "      <td>5.019963</td>\n",
       "      <td>5.019963</td>\n",
       "    </tr>\n",
       "    <tr>\n",
       "      <th>Slovenia</th>\n",
       "      <td>3.654411</td>\n",
       "      <td>3.654411</td>\n",
       "      <td>3.654411</td>\n",
       "      <td>3.654411</td>\n",
       "      <td>3.586759</td>\n",
       "      <td>3.586759</td>\n",
       "      <td>3.586759</td>\n",
       "      <td>3.586759</td>\n",
       "      <td>3.538172</td>\n",
       "      <td>3.538172</td>\n",
       "      <td>...</td>\n",
       "      <td>3.405300</td>\n",
       "      <td>3.405300</td>\n",
       "      <td>3.409315</td>\n",
       "      <td>3.409315</td>\n",
       "      <td>3.409315</td>\n",
       "      <td>3.409315</td>\n",
       "      <td>3.418644</td>\n",
       "      <td>3.418644</td>\n",
       "      <td>3.418644</td>\n",
       "      <td>3.418644</td>\n",
       "    </tr>\n",
       "    <tr>\n",
       "      <th>Spain</th>\n",
       "      <td>4.712447</td>\n",
       "      <td>4.712447</td>\n",
       "      <td>4.712447</td>\n",
       "      <td>4.712447</td>\n",
       "      <td>4.931512</td>\n",
       "      <td>4.931512</td>\n",
       "      <td>4.931512</td>\n",
       "      <td>4.931512</td>\n",
       "      <td>5.091058</td>\n",
       "      <td>5.091058</td>\n",
       "      <td>...</td>\n",
       "      <td>5.601251</td>\n",
       "      <td>5.601251</td>\n",
       "      <td>5.644055</td>\n",
       "      <td>5.644055</td>\n",
       "      <td>5.644055</td>\n",
       "      <td>5.644055</td>\n",
       "      <td>5.693994</td>\n",
       "      <td>5.693994</td>\n",
       "      <td>5.693994</td>\n",
       "      <td>5.693994</td>\n",
       "    </tr>\n",
       "  </tbody>\n",
       "</table>\n",
       "<p>15 rows × 48 columns</p>\n",
       "</div>"
      ],
      "text/plain": [
       "              2008-Q1   2008-Q2   2008-Q3   2008-Q4   2009-Q1   2009-Q2  \\\n",
       "Entity                                                                    \n",
       "Austria      3.932948  3.932948  3.932948  3.932948  3.894398  3.894398   \n",
       "Belgium      4.470518  4.470518  4.470518  4.470518  4.529200  4.529200   \n",
       "Estonia      4.093089  4.093089  4.093089  4.093089  4.002988  4.002988   \n",
       "Finland      6.216123  6.216123  6.216123  6.216123  6.213358  6.213358   \n",
       "France       4.720823  4.720823  4.720823  4.720823  4.656159  4.656159   \n",
       "Germany      4.634948  4.634948  4.634948  4.634948  4.626955  4.626955   \n",
       "Greece       6.787959  6.787959  6.787959  6.787959  6.777206  6.777206   \n",
       "Ireland      5.243573  5.243573  5.243573  5.243573  5.240653  5.240653   \n",
       "Italy        4.267409  4.267409  4.267409  4.267409  4.156614  4.156614   \n",
       "Latvia       3.953395  3.953395  3.953395  3.953395  3.887468  3.887468   \n",
       "Lithuania    4.393624  4.393624  4.393624  4.393624  4.344092  4.344092   \n",
       "Netherlands  4.532882  4.532882  4.532882  4.532882  4.513514  4.513514   \n",
       "Portugal     5.625110  5.625110  5.625110  5.625110  5.607180  5.607180   \n",
       "Slovenia     3.654411  3.654411  3.654411  3.654411  3.586759  3.586759   \n",
       "Spain        4.712447  4.712447  4.712447  4.712447  4.931512  4.931512   \n",
       "\n",
       "              2009-Q3   2009-Q4   2010-Q1   2010-Q2  ...   2017-Q3   2017-Q4  \\\n",
       "Entity                                               ...                       \n",
       "Austria      3.894398  3.894398  3.874706  3.874706  ...  3.904541  3.904541   \n",
       "Belgium      4.529200  4.529200  4.556212  4.556212  ...  4.373711  4.373711   \n",
       "Estonia      4.002988  4.002988  3.930319  3.930319  ...  3.690929  3.690929   \n",
       "Finland      6.213358  6.213358  6.196769  6.196769  ...  5.759037  5.759037   \n",
       "France       4.656159  4.656159  4.618401  4.618401  ...  4.559817  4.559817   \n",
       "Germany      4.626955  4.626955  4.622184  4.622184  ...  4.432185  4.432185   \n",
       "Greece       6.777206  6.777206  6.763624  6.763624  ...  5.990507  5.990507   \n",
       "Ireland      5.240653  5.240653  5.235530  5.235530  ...  5.725124  5.725124   \n",
       "Italy        4.156614  4.156614  4.111459  4.111459  ...  4.263645  4.263645   \n",
       "Latvia       3.887468  3.887468  3.854642  3.854642  ...  3.838283  3.838283   \n",
       "Lithuania    4.344092  4.344092  4.305447  4.305447  ...  4.220238  4.220238   \n",
       "Netherlands  4.513514  4.513514  4.492159  4.492159  ...  4.328845  4.328845   \n",
       "Portugal     5.607180  5.607180  5.579912  5.579912  ...  4.998166  4.998166   \n",
       "Slovenia     3.586759  3.586759  3.538172  3.538172  ...  3.405300  3.405300   \n",
       "Spain        4.931512  4.931512  5.091058  5.091058  ...  5.601251  5.601251   \n",
       "\n",
       "              2018-Q1   2018-Q2   2018-Q3   2018-Q4   2019-Q1   2019-Q2  \\\n",
       "Entity                                                                    \n",
       "Austria      3.909877  3.909877  3.909877  3.909877  3.919968  3.919968   \n",
       "Belgium      4.381408  4.381408  4.381408  4.381408  4.395594  4.395594   \n",
       "Estonia      3.701515  3.701515  3.701515  3.701515  3.718065  3.718065   \n",
       "Finland      5.772166  5.772166  5.772166  5.772166  5.793236  5.793236   \n",
       "France       4.572124  4.572124  4.572124  4.572124  4.604383  4.604383   \n",
       "Germany      4.322971  4.322971  4.322971  4.322971  4.201171  4.201171   \n",
       "Greece       6.029512  6.029512  6.029512  6.029512  6.113405  6.113405   \n",
       "Ireland      5.726337  5.726337  5.726337  5.726337  5.688510  5.688510   \n",
       "Italy        4.297771  4.297771  4.297771  4.297771  4.368157  4.368157   \n",
       "Latvia       3.844814  3.844814  3.844814  3.844814  3.847041  3.847041   \n",
       "Lithuania    4.217820  4.217820  4.217820  4.217820  4.206985  4.206985   \n",
       "Netherlands  4.354301  4.354301  4.354301  4.354301  4.389337  4.389337   \n",
       "Portugal     5.003271  5.003271  5.003271  5.003271  5.019963  5.019963   \n",
       "Slovenia     3.409315  3.409315  3.409315  3.409315  3.418644  3.418644   \n",
       "Spain        5.644055  5.644055  5.644055  5.644055  5.693994  5.693994   \n",
       "\n",
       "              2019-Q3   2019-Q4  \n",
       "Entity                           \n",
       "Austria      3.919968  3.919968  \n",
       "Belgium      4.395594  4.395594  \n",
       "Estonia      3.718065  3.718065  \n",
       "Finland      5.793236  5.793236  \n",
       "France       4.604383  4.604383  \n",
       "Germany      4.201171  4.201171  \n",
       "Greece       6.113405  6.113405  \n",
       "Ireland      5.688510  5.688510  \n",
       "Italy        4.368157  4.368157  \n",
       "Latvia       3.847041  3.847041  \n",
       "Lithuania    4.206985  4.206985  \n",
       "Netherlands  4.389337  4.389337  \n",
       "Portugal     5.019963  5.019963  \n",
       "Slovenia     3.418644  3.418644  \n",
       "Spain        5.693994  5.693994  \n",
       "\n",
       "[15 rows x 48 columns]"
      ]
     },
     "execution_count": 78,
     "metadata": {},
     "output_type": "execute_result"
    }
   ],
   "source": [
    "depression = matched_dfs[8]\n",
    "depression"
   ]
  },
  {
   "cell_type": "code",
   "execution_count": 103,
   "metadata": {},
   "outputs": [
    {
     "data": {
      "text/html": [
       "<div>\n",
       "<style scoped>\n",
       "    .dataframe tbody tr th:only-of-type {\n",
       "        vertical-align: middle;\n",
       "    }\n",
       "\n",
       "    .dataframe tbody tr th {\n",
       "        vertical-align: top;\n",
       "    }\n",
       "\n",
       "    .dataframe thead th {\n",
       "        text-align: right;\n",
       "    }\n",
       "</style>\n",
       "<table border=\"1\" class=\"dataframe\">\n",
       "  <thead>\n",
       "    <tr style=\"text-align: right;\">\n",
       "      <th></th>\n",
       "      <th>2008-Q1</th>\n",
       "      <th>2008-Q2</th>\n",
       "      <th>2008-Q3</th>\n",
       "      <th>2008-Q4</th>\n",
       "      <th>2009-Q1</th>\n",
       "      <th>2009-Q2</th>\n",
       "      <th>2009-Q3</th>\n",
       "      <th>2009-Q4</th>\n",
       "      <th>2010-Q1</th>\n",
       "      <th>2010-Q2</th>\n",
       "      <th>...</th>\n",
       "      <th>2017-Q3</th>\n",
       "      <th>2017-Q4</th>\n",
       "      <th>2018-Q1</th>\n",
       "      <th>2018-Q2</th>\n",
       "      <th>2018-Q3</th>\n",
       "      <th>2018-Q4</th>\n",
       "      <th>2019-Q1</th>\n",
       "      <th>2019-Q2</th>\n",
       "      <th>2019-Q3</th>\n",
       "      <th>2019-Q4</th>\n",
       "    </tr>\n",
       "  </thead>\n",
       "  <tbody>\n",
       "    <tr>\n",
       "      <th>0</th>\n",
       "      <td>0.579401</td>\n",
       "      <td>0.579401</td>\n",
       "      <td>0.579401</td>\n",
       "      <td>0.579401</td>\n",
       "      <td>0.574632</td>\n",
       "      <td>0.574632</td>\n",
       "      <td>0.574632</td>\n",
       "      <td>0.574632</td>\n",
       "      <td>0.572874</td>\n",
       "      <td>0.572874</td>\n",
       "      <td>...</td>\n",
       "      <td>0.651788</td>\n",
       "      <td>0.651788</td>\n",
       "      <td>0.648457</td>\n",
       "      <td>0.648457</td>\n",
       "      <td>0.648457</td>\n",
       "      <td>0.648457</td>\n",
       "      <td>0.641209</td>\n",
       "      <td>0.641209</td>\n",
       "      <td>0.641209</td>\n",
       "      <td>0.641209</td>\n",
       "    </tr>\n",
       "    <tr>\n",
       "      <th>1</th>\n",
       "      <td>0.658595</td>\n",
       "      <td>0.658595</td>\n",
       "      <td>0.658595</td>\n",
       "      <td>0.658595</td>\n",
       "      <td>0.668299</td>\n",
       "      <td>0.668299</td>\n",
       "      <td>0.668299</td>\n",
       "      <td>0.668299</td>\n",
       "      <td>0.673635</td>\n",
       "      <td>0.673635</td>\n",
       "      <td>...</td>\n",
       "      <td>0.730107</td>\n",
       "      <td>0.730107</td>\n",
       "      <td>0.726660</td>\n",
       "      <td>0.726660</td>\n",
       "      <td>0.726660</td>\n",
       "      <td>0.726660</td>\n",
       "      <td>0.719009</td>\n",
       "      <td>0.719009</td>\n",
       "      <td>0.719009</td>\n",
       "      <td>0.719009</td>\n",
       "    </tr>\n",
       "    <tr>\n",
       "      <th>2</th>\n",
       "      <td>0.602993</td>\n",
       "      <td>0.602993</td>\n",
       "      <td>0.602993</td>\n",
       "      <td>0.602993</td>\n",
       "      <td>0.590655</td>\n",
       "      <td>0.590655</td>\n",
       "      <td>0.590655</td>\n",
       "      <td>0.590655</td>\n",
       "      <td>0.581097</td>\n",
       "      <td>0.581097</td>\n",
       "      <td>...</td>\n",
       "      <td>0.616130</td>\n",
       "      <td>0.616130</td>\n",
       "      <td>0.613899</td>\n",
       "      <td>0.613899</td>\n",
       "      <td>0.613899</td>\n",
       "      <td>0.613899</td>\n",
       "      <td>0.608182</td>\n",
       "      <td>0.608182</td>\n",
       "      <td>0.608182</td>\n",
       "      <td>0.608182</td>\n",
       "    </tr>\n",
       "    <tr>\n",
       "      <th>3</th>\n",
       "      <td>0.915757</td>\n",
       "      <td>0.915757</td>\n",
       "      <td>0.915757</td>\n",
       "      <td>0.915757</td>\n",
       "      <td>0.916802</td>\n",
       "      <td>0.916802</td>\n",
       "      <td>0.916802</td>\n",
       "      <td>0.916802</td>\n",
       "      <td>0.916191</td>\n",
       "      <td>0.916191</td>\n",
       "      <td>...</td>\n",
       "      <td>0.961361</td>\n",
       "      <td>0.961361</td>\n",
       "      <td>0.957319</td>\n",
       "      <td>0.957319</td>\n",
       "      <td>0.957319</td>\n",
       "      <td>0.957319</td>\n",
       "      <td>0.947628</td>\n",
       "      <td>0.947628</td>\n",
       "      <td>0.947628</td>\n",
       "      <td>0.947628</td>\n",
       "    </tr>\n",
       "    <tr>\n",
       "      <th>4</th>\n",
       "      <td>0.695470</td>\n",
       "      <td>0.695470</td>\n",
       "      <td>0.695470</td>\n",
       "      <td>0.695470</td>\n",
       "      <td>0.687032</td>\n",
       "      <td>0.687032</td>\n",
       "      <td>0.687032</td>\n",
       "      <td>0.687032</td>\n",
       "      <td>0.682829</td>\n",
       "      <td>0.682829</td>\n",
       "      <td>...</td>\n",
       "      <td>0.761174</td>\n",
       "      <td>0.761174</td>\n",
       "      <td>0.758291</td>\n",
       "      <td>0.758291</td>\n",
       "      <td>0.758291</td>\n",
       "      <td>0.758291</td>\n",
       "      <td>0.753162</td>\n",
       "      <td>0.753162</td>\n",
       "      <td>0.753162</td>\n",
       "      <td>0.753162</td>\n",
       "    </tr>\n",
       "    <tr>\n",
       "      <th>5</th>\n",
       "      <td>0.682819</td>\n",
       "      <td>0.682819</td>\n",
       "      <td>0.682819</td>\n",
       "      <td>0.682819</td>\n",
       "      <td>0.682723</td>\n",
       "      <td>0.682723</td>\n",
       "      <td>0.682723</td>\n",
       "      <td>0.682723</td>\n",
       "      <td>0.683389</td>\n",
       "      <td>0.683389</td>\n",
       "      <td>...</td>\n",
       "      <td>0.739868</td>\n",
       "      <td>0.739868</td>\n",
       "      <td>0.716969</td>\n",
       "      <td>0.716969</td>\n",
       "      <td>0.716969</td>\n",
       "      <td>0.716969</td>\n",
       "      <td>0.687206</td>\n",
       "      <td>0.687206</td>\n",
       "      <td>0.687206</td>\n",
       "      <td>0.687206</td>\n",
       "    </tr>\n",
       "    <tr>\n",
       "      <th>6</th>\n",
       "      <td>1.000000</td>\n",
       "      <td>1.000000</td>\n",
       "      <td>1.000000</td>\n",
       "      <td>1.000000</td>\n",
       "      <td>1.000000</td>\n",
       "      <td>1.000000</td>\n",
       "      <td>1.000000</td>\n",
       "      <td>1.000000</td>\n",
       "      <td>1.000000</td>\n",
       "      <td>1.000000</td>\n",
       "      <td>...</td>\n",
       "      <td>1.000000</td>\n",
       "      <td>1.000000</td>\n",
       "      <td>1.000000</td>\n",
       "      <td>1.000000</td>\n",
       "      <td>1.000000</td>\n",
       "      <td>1.000000</td>\n",
       "      <td>1.000000</td>\n",
       "      <td>1.000000</td>\n",
       "      <td>1.000000</td>\n",
       "      <td>1.000000</td>\n",
       "    </tr>\n",
       "    <tr>\n",
       "      <th>7</th>\n",
       "      <td>0.772481</td>\n",
       "      <td>0.772481</td>\n",
       "      <td>0.772481</td>\n",
       "      <td>0.772481</td>\n",
       "      <td>0.773276</td>\n",
       "      <td>0.773276</td>\n",
       "      <td>0.773276</td>\n",
       "      <td>0.773276</td>\n",
       "      <td>0.774072</td>\n",
       "      <td>0.774072</td>\n",
       "      <td>...</td>\n",
       "      <td>0.955699</td>\n",
       "      <td>0.955699</td>\n",
       "      <td>0.949718</td>\n",
       "      <td>0.949718</td>\n",
       "      <td>0.949718</td>\n",
       "      <td>0.949718</td>\n",
       "      <td>0.930498</td>\n",
       "      <td>0.930498</td>\n",
       "      <td>0.930498</td>\n",
       "      <td>0.930498</td>\n",
       "    </tr>\n",
       "    <tr>\n",
       "      <th>8</th>\n",
       "      <td>0.628673</td>\n",
       "      <td>0.628673</td>\n",
       "      <td>0.628673</td>\n",
       "      <td>0.628673</td>\n",
       "      <td>0.613323</td>\n",
       "      <td>0.613323</td>\n",
       "      <td>0.613323</td>\n",
       "      <td>0.613323</td>\n",
       "      <td>0.607878</td>\n",
       "      <td>0.607878</td>\n",
       "      <td>...</td>\n",
       "      <td>0.711734</td>\n",
       "      <td>0.711734</td>\n",
       "      <td>0.712789</td>\n",
       "      <td>0.712789</td>\n",
       "      <td>0.712789</td>\n",
       "      <td>0.712789</td>\n",
       "      <td>0.714521</td>\n",
       "      <td>0.714521</td>\n",
       "      <td>0.714521</td>\n",
       "      <td>0.714521</td>\n",
       "    </tr>\n",
       "    <tr>\n",
       "      <th>9</th>\n",
       "      <td>0.582413</td>\n",
       "      <td>0.582413</td>\n",
       "      <td>0.582413</td>\n",
       "      <td>0.582413</td>\n",
       "      <td>0.573609</td>\n",
       "      <td>0.573609</td>\n",
       "      <td>0.573609</td>\n",
       "      <td>0.573609</td>\n",
       "      <td>0.569908</td>\n",
       "      <td>0.569908</td>\n",
       "      <td>...</td>\n",
       "      <td>0.640728</td>\n",
       "      <td>0.640728</td>\n",
       "      <td>0.637666</td>\n",
       "      <td>0.637666</td>\n",
       "      <td>0.637666</td>\n",
       "      <td>0.637666</td>\n",
       "      <td>0.629280</td>\n",
       "      <td>0.629280</td>\n",
       "      <td>0.629280</td>\n",
       "      <td>0.629280</td>\n",
       "    </tr>\n",
       "    <tr>\n",
       "      <th>10</th>\n",
       "      <td>0.647267</td>\n",
       "      <td>0.647267</td>\n",
       "      <td>0.647267</td>\n",
       "      <td>0.647267</td>\n",
       "      <td>0.640986</td>\n",
       "      <td>0.640986</td>\n",
       "      <td>0.640986</td>\n",
       "      <td>0.640986</td>\n",
       "      <td>0.636559</td>\n",
       "      <td>0.636559</td>\n",
       "      <td>...</td>\n",
       "      <td>0.704488</td>\n",
       "      <td>0.704488</td>\n",
       "      <td>0.699529</td>\n",
       "      <td>0.699529</td>\n",
       "      <td>0.699529</td>\n",
       "      <td>0.699529</td>\n",
       "      <td>0.688157</td>\n",
       "      <td>0.688157</td>\n",
       "      <td>0.688157</td>\n",
       "      <td>0.688157</td>\n",
       "    </tr>\n",
       "    <tr>\n",
       "      <th>11</th>\n",
       "      <td>0.667783</td>\n",
       "      <td>0.667783</td>\n",
       "      <td>0.667783</td>\n",
       "      <td>0.667783</td>\n",
       "      <td>0.665985</td>\n",
       "      <td>0.665985</td>\n",
       "      <td>0.665985</td>\n",
       "      <td>0.665985</td>\n",
       "      <td>0.664165</td>\n",
       "      <td>0.664165</td>\n",
       "      <td>...</td>\n",
       "      <td>0.722617</td>\n",
       "      <td>0.722617</td>\n",
       "      <td>0.722165</td>\n",
       "      <td>0.722165</td>\n",
       "      <td>0.722165</td>\n",
       "      <td>0.722165</td>\n",
       "      <td>0.717986</td>\n",
       "      <td>0.717986</td>\n",
       "      <td>0.717986</td>\n",
       "      <td>0.717986</td>\n",
       "    </tr>\n",
       "    <tr>\n",
       "      <th>12</th>\n",
       "      <td>0.828689</td>\n",
       "      <td>0.828689</td>\n",
       "      <td>0.828689</td>\n",
       "      <td>0.828689</td>\n",
       "      <td>0.827359</td>\n",
       "      <td>0.827359</td>\n",
       "      <td>0.827359</td>\n",
       "      <td>0.827359</td>\n",
       "      <td>0.824988</td>\n",
       "      <td>0.824988</td>\n",
       "      <td>...</td>\n",
       "      <td>0.834348</td>\n",
       "      <td>0.834348</td>\n",
       "      <td>0.829797</td>\n",
       "      <td>0.829797</td>\n",
       "      <td>0.829797</td>\n",
       "      <td>0.829797</td>\n",
       "      <td>0.821140</td>\n",
       "      <td>0.821140</td>\n",
       "      <td>0.821140</td>\n",
       "      <td>0.821140</td>\n",
       "    </tr>\n",
       "    <tr>\n",
       "      <th>13</th>\n",
       "      <td>0.538367</td>\n",
       "      <td>0.538367</td>\n",
       "      <td>0.538367</td>\n",
       "      <td>0.538367</td>\n",
       "      <td>0.529239</td>\n",
       "      <td>0.529239</td>\n",
       "      <td>0.529239</td>\n",
       "      <td>0.529239</td>\n",
       "      <td>0.523118</td>\n",
       "      <td>0.523118</td>\n",
       "      <td>...</td>\n",
       "      <td>0.568449</td>\n",
       "      <td>0.568449</td>\n",
       "      <td>0.565438</td>\n",
       "      <td>0.565438</td>\n",
       "      <td>0.565438</td>\n",
       "      <td>0.565438</td>\n",
       "      <td>0.559205</td>\n",
       "      <td>0.559205</td>\n",
       "      <td>0.559205</td>\n",
       "      <td>0.559205</td>\n",
       "    </tr>\n",
       "    <tr>\n",
       "      <th>14</th>\n",
       "      <td>0.694236</td>\n",
       "      <td>0.694236</td>\n",
       "      <td>0.694236</td>\n",
       "      <td>0.694236</td>\n",
       "      <td>0.727662</td>\n",
       "      <td>0.727662</td>\n",
       "      <td>0.727662</td>\n",
       "      <td>0.727662</td>\n",
       "      <td>0.752712</td>\n",
       "      <td>0.752712</td>\n",
       "      <td>...</td>\n",
       "      <td>0.935021</td>\n",
       "      <td>0.935021</td>\n",
       "      <td>0.936072</td>\n",
       "      <td>0.936072</td>\n",
       "      <td>0.936072</td>\n",
       "      <td>0.936072</td>\n",
       "      <td>0.931395</td>\n",
       "      <td>0.931395</td>\n",
       "      <td>0.931395</td>\n",
       "      <td>0.931395</td>\n",
       "    </tr>\n",
       "  </tbody>\n",
       "</table>\n",
       "<p>15 rows × 48 columns</p>\n",
       "</div>"
      ],
      "text/plain": [
       "     2008-Q1   2008-Q2   2008-Q3   2008-Q4   2009-Q1   2009-Q2   2009-Q3  \\\n",
       "0   0.579401  0.579401  0.579401  0.579401  0.574632  0.574632  0.574632   \n",
       "1   0.658595  0.658595  0.658595  0.658595  0.668299  0.668299  0.668299   \n",
       "2   0.602993  0.602993  0.602993  0.602993  0.590655  0.590655  0.590655   \n",
       "3   0.915757  0.915757  0.915757  0.915757  0.916802  0.916802  0.916802   \n",
       "4   0.695470  0.695470  0.695470  0.695470  0.687032  0.687032  0.687032   \n",
       "5   0.682819  0.682819  0.682819  0.682819  0.682723  0.682723  0.682723   \n",
       "6   1.000000  1.000000  1.000000  1.000000  1.000000  1.000000  1.000000   \n",
       "7   0.772481  0.772481  0.772481  0.772481  0.773276  0.773276  0.773276   \n",
       "8   0.628673  0.628673  0.628673  0.628673  0.613323  0.613323  0.613323   \n",
       "9   0.582413  0.582413  0.582413  0.582413  0.573609  0.573609  0.573609   \n",
       "10  0.647267  0.647267  0.647267  0.647267  0.640986  0.640986  0.640986   \n",
       "11  0.667783  0.667783  0.667783  0.667783  0.665985  0.665985  0.665985   \n",
       "12  0.828689  0.828689  0.828689  0.828689  0.827359  0.827359  0.827359   \n",
       "13  0.538367  0.538367  0.538367  0.538367  0.529239  0.529239  0.529239   \n",
       "14  0.694236  0.694236  0.694236  0.694236  0.727662  0.727662  0.727662   \n",
       "\n",
       "     2009-Q4   2010-Q1   2010-Q2  ...   2017-Q3   2017-Q4   2018-Q1   2018-Q2  \\\n",
       "0   0.574632  0.572874  0.572874  ...  0.651788  0.651788  0.648457  0.648457   \n",
       "1   0.668299  0.673635  0.673635  ...  0.730107  0.730107  0.726660  0.726660   \n",
       "2   0.590655  0.581097  0.581097  ...  0.616130  0.616130  0.613899  0.613899   \n",
       "3   0.916802  0.916191  0.916191  ...  0.961361  0.961361  0.957319  0.957319   \n",
       "4   0.687032  0.682829  0.682829  ...  0.761174  0.761174  0.758291  0.758291   \n",
       "5   0.682723  0.683389  0.683389  ...  0.739868  0.739868  0.716969  0.716969   \n",
       "6   1.000000  1.000000  1.000000  ...  1.000000  1.000000  1.000000  1.000000   \n",
       "7   0.773276  0.774072  0.774072  ...  0.955699  0.955699  0.949718  0.949718   \n",
       "8   0.613323  0.607878  0.607878  ...  0.711734  0.711734  0.712789  0.712789   \n",
       "9   0.573609  0.569908  0.569908  ...  0.640728  0.640728  0.637666  0.637666   \n",
       "10  0.640986  0.636559  0.636559  ...  0.704488  0.704488  0.699529  0.699529   \n",
       "11  0.665985  0.664165  0.664165  ...  0.722617  0.722617  0.722165  0.722165   \n",
       "12  0.827359  0.824988  0.824988  ...  0.834348  0.834348  0.829797  0.829797   \n",
       "13  0.529239  0.523118  0.523118  ...  0.568449  0.568449  0.565438  0.565438   \n",
       "14  0.727662  0.752712  0.752712  ...  0.935021  0.935021  0.936072  0.936072   \n",
       "\n",
       "     2018-Q3   2018-Q4   2019-Q1   2019-Q2   2019-Q3   2019-Q4  \n",
       "0   0.648457  0.648457  0.641209  0.641209  0.641209  0.641209  \n",
       "1   0.726660  0.726660  0.719009  0.719009  0.719009  0.719009  \n",
       "2   0.613899  0.613899  0.608182  0.608182  0.608182  0.608182  \n",
       "3   0.957319  0.957319  0.947628  0.947628  0.947628  0.947628  \n",
       "4   0.758291  0.758291  0.753162  0.753162  0.753162  0.753162  \n",
       "5   0.716969  0.716969  0.687206  0.687206  0.687206  0.687206  \n",
       "6   1.000000  1.000000  1.000000  1.000000  1.000000  1.000000  \n",
       "7   0.949718  0.949718  0.930498  0.930498  0.930498  0.930498  \n",
       "8   0.712789  0.712789  0.714521  0.714521  0.714521  0.714521  \n",
       "9   0.637666  0.637666  0.629280  0.629280  0.629280  0.629280  \n",
       "10  0.699529  0.699529  0.688157  0.688157  0.688157  0.688157  \n",
       "11  0.722165  0.722165  0.717986  0.717986  0.717986  0.717986  \n",
       "12  0.829797  0.829797  0.821140  0.821140  0.821140  0.821140  \n",
       "13  0.565438  0.565438  0.559205  0.559205  0.559205  0.559205  \n",
       "14  0.936072  0.936072  0.931395  0.931395  0.931395  0.931395  \n",
       "\n",
       "[15 rows x 48 columns]"
      ]
     },
     "execution_count": 103,
     "metadata": {},
     "output_type": "execute_result"
    }
   ],
   "source": [
    "# GDP_per_employee = matched_dfs[0].transpose()\n",
    "# GDP_per_HW = matched_dfs[1].transpose()\n",
    "# inflation = matched_dfs[6].transpose()\n",
    "# unemployment = matched_dfs[7].transpose()\n",
    "# depression = matched_dfs[8].transpose()\n",
    "\n",
    "from sklearn.preprocessing import MaxAbsScaler\n",
    "scaler = MaxAbsScaler()\n",
    "\n",
    "scaler.fit(matched_dfs[0])\n",
    "scaled = scaler.fit_transform(matched_dfs[0])\n",
    "GDP_per_employee = pd.DataFrame(scaled, columns=matched_dfs[0].columns)\n",
    "\n",
    "scaler.fit(matched_dfs[1])\n",
    "scaled = scaler.fit_transform(matched_dfs[1])\n",
    "GDP_per_HW = pd.DataFrame(scaled, columns=matched_dfs[1].columns)\n",
    "\n",
    "scaler.fit(matched_dfs[6])\n",
    "scaled = scaler.fit_transform(matched_dfs[6])\n",
    "inflation = pd.DataFrame(scaled, columns=matched_dfs[6].columns)\n",
    "\n",
    "scaler.fit(matched_dfs[7])\n",
    "scaled = scaler.fit_transform(matched_dfs[7])\n",
    "unemployment = pd.DataFrame(scaled, columns=matched_dfs[7].columns)\n",
    "\n",
    "scaler.fit(matched_dfs[8])\n",
    "scaled = scaler.fit_transform(matched_dfs[8])\n",
    "depression = pd.DataFrame(scaled, columns=matched_dfs[8].columns)\n",
    "\n",
    "\n",
    "depression"
   ]
  },
  {
   "cell_type": "code",
   "execution_count": 104,
   "metadata": {},
   "outputs": [
    {
     "data": {
      "text/html": [
       "<div>\n",
       "<style scoped>\n",
       "    .dataframe tbody tr th:only-of-type {\n",
       "        vertical-align: middle;\n",
       "    }\n",
       "\n",
       "    .dataframe tbody tr th {\n",
       "        vertical-align: top;\n",
       "    }\n",
       "\n",
       "    .dataframe thead th {\n",
       "        text-align: right;\n",
       "    }\n",
       "</style>\n",
       "<table border=\"1\" class=\"dataframe\">\n",
       "  <thead>\n",
       "    <tr style=\"text-align: right;\">\n",
       "      <th></th>\n",
       "      <th>2008-Q1</th>\n",
       "      <th>2008-Q2</th>\n",
       "      <th>2008-Q3</th>\n",
       "      <th>2008-Q4</th>\n",
       "      <th>2009-Q1</th>\n",
       "      <th>2009-Q2</th>\n",
       "      <th>2009-Q3</th>\n",
       "      <th>2009-Q4</th>\n",
       "      <th>2010-Q1</th>\n",
       "      <th>2010-Q2</th>\n",
       "      <th>...</th>\n",
       "      <th>2017-Q4</th>\n",
       "      <th>2018-Q1</th>\n",
       "      <th>2018-Q2</th>\n",
       "      <th>2018-Q3</th>\n",
       "      <th>2018-Q4</th>\n",
       "      <th>2019-Q1</th>\n",
       "      <th>2019-Q2</th>\n",
       "      <th>2019-Q3</th>\n",
       "      <th>2019-Q4</th>\n",
       "      <th>Label</th>\n",
       "    </tr>\n",
       "  </thead>\n",
       "  <tbody>\n",
       "    <tr>\n",
       "      <th>0</th>\n",
       "      <td>0.579401</td>\n",
       "      <td>0.579401</td>\n",
       "      <td>0.579401</td>\n",
       "      <td>0.579401</td>\n",
       "      <td>0.574632</td>\n",
       "      <td>0.574632</td>\n",
       "      <td>0.574632</td>\n",
       "      <td>0.574632</td>\n",
       "      <td>0.572874</td>\n",
       "      <td>0.572874</td>\n",
       "      <td>...</td>\n",
       "      <td>0.651788</td>\n",
       "      <td>0.648457</td>\n",
       "      <td>0.648457</td>\n",
       "      <td>0.648457</td>\n",
       "      <td>0.648457</td>\n",
       "      <td>0.641209</td>\n",
       "      <td>0.641209</td>\n",
       "      <td>0.641209</td>\n",
       "      <td>0.641209</td>\n",
       "      <td>4</td>\n",
       "    </tr>\n",
       "    <tr>\n",
       "      <th>1</th>\n",
       "      <td>0.658595</td>\n",
       "      <td>0.658595</td>\n",
       "      <td>0.658595</td>\n",
       "      <td>0.658595</td>\n",
       "      <td>0.668299</td>\n",
       "      <td>0.668299</td>\n",
       "      <td>0.668299</td>\n",
       "      <td>0.668299</td>\n",
       "      <td>0.673635</td>\n",
       "      <td>0.673635</td>\n",
       "      <td>...</td>\n",
       "      <td>0.730107</td>\n",
       "      <td>0.726660</td>\n",
       "      <td>0.726660</td>\n",
       "      <td>0.726660</td>\n",
       "      <td>0.726660</td>\n",
       "      <td>0.719009</td>\n",
       "      <td>0.719009</td>\n",
       "      <td>0.719009</td>\n",
       "      <td>0.719009</td>\n",
       "      <td>4</td>\n",
       "    </tr>\n",
       "    <tr>\n",
       "      <th>2</th>\n",
       "      <td>0.602993</td>\n",
       "      <td>0.602993</td>\n",
       "      <td>0.602993</td>\n",
       "      <td>0.602993</td>\n",
       "      <td>0.590655</td>\n",
       "      <td>0.590655</td>\n",
       "      <td>0.590655</td>\n",
       "      <td>0.590655</td>\n",
       "      <td>0.581097</td>\n",
       "      <td>0.581097</td>\n",
       "      <td>...</td>\n",
       "      <td>0.616130</td>\n",
       "      <td>0.613899</td>\n",
       "      <td>0.613899</td>\n",
       "      <td>0.613899</td>\n",
       "      <td>0.613899</td>\n",
       "      <td>0.608182</td>\n",
       "      <td>0.608182</td>\n",
       "      <td>0.608182</td>\n",
       "      <td>0.608182</td>\n",
       "      <td>4</td>\n",
       "    </tr>\n",
       "    <tr>\n",
       "      <th>3</th>\n",
       "      <td>0.915757</td>\n",
       "      <td>0.915757</td>\n",
       "      <td>0.915757</td>\n",
       "      <td>0.915757</td>\n",
       "      <td>0.916802</td>\n",
       "      <td>0.916802</td>\n",
       "      <td>0.916802</td>\n",
       "      <td>0.916802</td>\n",
       "      <td>0.916191</td>\n",
       "      <td>0.916191</td>\n",
       "      <td>...</td>\n",
       "      <td>0.961361</td>\n",
       "      <td>0.957319</td>\n",
       "      <td>0.957319</td>\n",
       "      <td>0.957319</td>\n",
       "      <td>0.957319</td>\n",
       "      <td>0.947628</td>\n",
       "      <td>0.947628</td>\n",
       "      <td>0.947628</td>\n",
       "      <td>0.947628</td>\n",
       "      <td>4</td>\n",
       "    </tr>\n",
       "    <tr>\n",
       "      <th>4</th>\n",
       "      <td>0.695470</td>\n",
       "      <td>0.695470</td>\n",
       "      <td>0.695470</td>\n",
       "      <td>0.695470</td>\n",
       "      <td>0.687032</td>\n",
       "      <td>0.687032</td>\n",
       "      <td>0.687032</td>\n",
       "      <td>0.687032</td>\n",
       "      <td>0.682829</td>\n",
       "      <td>0.682829</td>\n",
       "      <td>...</td>\n",
       "      <td>0.761174</td>\n",
       "      <td>0.758291</td>\n",
       "      <td>0.758291</td>\n",
       "      <td>0.758291</td>\n",
       "      <td>0.758291</td>\n",
       "      <td>0.753162</td>\n",
       "      <td>0.753162</td>\n",
       "      <td>0.753162</td>\n",
       "      <td>0.753162</td>\n",
       "      <td>4</td>\n",
       "    </tr>\n",
       "    <tr>\n",
       "      <th>5</th>\n",
       "      <td>0.682819</td>\n",
       "      <td>0.682819</td>\n",
       "      <td>0.682819</td>\n",
       "      <td>0.682819</td>\n",
       "      <td>0.682723</td>\n",
       "      <td>0.682723</td>\n",
       "      <td>0.682723</td>\n",
       "      <td>0.682723</td>\n",
       "      <td>0.683389</td>\n",
       "      <td>0.683389</td>\n",
       "      <td>...</td>\n",
       "      <td>0.739868</td>\n",
       "      <td>0.716969</td>\n",
       "      <td>0.716969</td>\n",
       "      <td>0.716969</td>\n",
       "      <td>0.716969</td>\n",
       "      <td>0.687206</td>\n",
       "      <td>0.687206</td>\n",
       "      <td>0.687206</td>\n",
       "      <td>0.687206</td>\n",
       "      <td>4</td>\n",
       "    </tr>\n",
       "    <tr>\n",
       "      <th>6</th>\n",
       "      <td>1.000000</td>\n",
       "      <td>1.000000</td>\n",
       "      <td>1.000000</td>\n",
       "      <td>1.000000</td>\n",
       "      <td>1.000000</td>\n",
       "      <td>1.000000</td>\n",
       "      <td>1.000000</td>\n",
       "      <td>1.000000</td>\n",
       "      <td>1.000000</td>\n",
       "      <td>1.000000</td>\n",
       "      <td>...</td>\n",
       "      <td>1.000000</td>\n",
       "      <td>1.000000</td>\n",
       "      <td>1.000000</td>\n",
       "      <td>1.000000</td>\n",
       "      <td>1.000000</td>\n",
       "      <td>1.000000</td>\n",
       "      <td>1.000000</td>\n",
       "      <td>1.000000</td>\n",
       "      <td>1.000000</td>\n",
       "      <td>4</td>\n",
       "    </tr>\n",
       "    <tr>\n",
       "      <th>7</th>\n",
       "      <td>0.772481</td>\n",
       "      <td>0.772481</td>\n",
       "      <td>0.772481</td>\n",
       "      <td>0.772481</td>\n",
       "      <td>0.773276</td>\n",
       "      <td>0.773276</td>\n",
       "      <td>0.773276</td>\n",
       "      <td>0.773276</td>\n",
       "      <td>0.774072</td>\n",
       "      <td>0.774072</td>\n",
       "      <td>...</td>\n",
       "      <td>0.955699</td>\n",
       "      <td>0.949718</td>\n",
       "      <td>0.949718</td>\n",
       "      <td>0.949718</td>\n",
       "      <td>0.949718</td>\n",
       "      <td>0.930498</td>\n",
       "      <td>0.930498</td>\n",
       "      <td>0.930498</td>\n",
       "      <td>0.930498</td>\n",
       "      <td>4</td>\n",
       "    </tr>\n",
       "    <tr>\n",
       "      <th>8</th>\n",
       "      <td>0.628673</td>\n",
       "      <td>0.628673</td>\n",
       "      <td>0.628673</td>\n",
       "      <td>0.628673</td>\n",
       "      <td>0.613323</td>\n",
       "      <td>0.613323</td>\n",
       "      <td>0.613323</td>\n",
       "      <td>0.613323</td>\n",
       "      <td>0.607878</td>\n",
       "      <td>0.607878</td>\n",
       "      <td>...</td>\n",
       "      <td>0.711734</td>\n",
       "      <td>0.712789</td>\n",
       "      <td>0.712789</td>\n",
       "      <td>0.712789</td>\n",
       "      <td>0.712789</td>\n",
       "      <td>0.714521</td>\n",
       "      <td>0.714521</td>\n",
       "      <td>0.714521</td>\n",
       "      <td>0.714521</td>\n",
       "      <td>4</td>\n",
       "    </tr>\n",
       "    <tr>\n",
       "      <th>9</th>\n",
       "      <td>0.582413</td>\n",
       "      <td>0.582413</td>\n",
       "      <td>0.582413</td>\n",
       "      <td>0.582413</td>\n",
       "      <td>0.573609</td>\n",
       "      <td>0.573609</td>\n",
       "      <td>0.573609</td>\n",
       "      <td>0.573609</td>\n",
       "      <td>0.569908</td>\n",
       "      <td>0.569908</td>\n",
       "      <td>...</td>\n",
       "      <td>0.640728</td>\n",
       "      <td>0.637666</td>\n",
       "      <td>0.637666</td>\n",
       "      <td>0.637666</td>\n",
       "      <td>0.637666</td>\n",
       "      <td>0.629280</td>\n",
       "      <td>0.629280</td>\n",
       "      <td>0.629280</td>\n",
       "      <td>0.629280</td>\n",
       "      <td>4</td>\n",
       "    </tr>\n",
       "    <tr>\n",
       "      <th>10</th>\n",
       "      <td>0.647267</td>\n",
       "      <td>0.647267</td>\n",
       "      <td>0.647267</td>\n",
       "      <td>0.647267</td>\n",
       "      <td>0.640986</td>\n",
       "      <td>0.640986</td>\n",
       "      <td>0.640986</td>\n",
       "      <td>0.640986</td>\n",
       "      <td>0.636559</td>\n",
       "      <td>0.636559</td>\n",
       "      <td>...</td>\n",
       "      <td>0.704488</td>\n",
       "      <td>0.699529</td>\n",
       "      <td>0.699529</td>\n",
       "      <td>0.699529</td>\n",
       "      <td>0.699529</td>\n",
       "      <td>0.688157</td>\n",
       "      <td>0.688157</td>\n",
       "      <td>0.688157</td>\n",
       "      <td>0.688157</td>\n",
       "      <td>4</td>\n",
       "    </tr>\n",
       "    <tr>\n",
       "      <th>11</th>\n",
       "      <td>0.667783</td>\n",
       "      <td>0.667783</td>\n",
       "      <td>0.667783</td>\n",
       "      <td>0.667783</td>\n",
       "      <td>0.665985</td>\n",
       "      <td>0.665985</td>\n",
       "      <td>0.665985</td>\n",
       "      <td>0.665985</td>\n",
       "      <td>0.664165</td>\n",
       "      <td>0.664165</td>\n",
       "      <td>...</td>\n",
       "      <td>0.722617</td>\n",
       "      <td>0.722165</td>\n",
       "      <td>0.722165</td>\n",
       "      <td>0.722165</td>\n",
       "      <td>0.722165</td>\n",
       "      <td>0.717986</td>\n",
       "      <td>0.717986</td>\n",
       "      <td>0.717986</td>\n",
       "      <td>0.717986</td>\n",
       "      <td>4</td>\n",
       "    </tr>\n",
       "    <tr>\n",
       "      <th>12</th>\n",
       "      <td>0.828689</td>\n",
       "      <td>0.828689</td>\n",
       "      <td>0.828689</td>\n",
       "      <td>0.828689</td>\n",
       "      <td>0.827359</td>\n",
       "      <td>0.827359</td>\n",
       "      <td>0.827359</td>\n",
       "      <td>0.827359</td>\n",
       "      <td>0.824988</td>\n",
       "      <td>0.824988</td>\n",
       "      <td>...</td>\n",
       "      <td>0.834348</td>\n",
       "      <td>0.829797</td>\n",
       "      <td>0.829797</td>\n",
       "      <td>0.829797</td>\n",
       "      <td>0.829797</td>\n",
       "      <td>0.821140</td>\n",
       "      <td>0.821140</td>\n",
       "      <td>0.821140</td>\n",
       "      <td>0.821140</td>\n",
       "      <td>4</td>\n",
       "    </tr>\n",
       "    <tr>\n",
       "      <th>13</th>\n",
       "      <td>0.538367</td>\n",
       "      <td>0.538367</td>\n",
       "      <td>0.538367</td>\n",
       "      <td>0.538367</td>\n",
       "      <td>0.529239</td>\n",
       "      <td>0.529239</td>\n",
       "      <td>0.529239</td>\n",
       "      <td>0.529239</td>\n",
       "      <td>0.523118</td>\n",
       "      <td>0.523118</td>\n",
       "      <td>...</td>\n",
       "      <td>0.568449</td>\n",
       "      <td>0.565438</td>\n",
       "      <td>0.565438</td>\n",
       "      <td>0.565438</td>\n",
       "      <td>0.565438</td>\n",
       "      <td>0.559205</td>\n",
       "      <td>0.559205</td>\n",
       "      <td>0.559205</td>\n",
       "      <td>0.559205</td>\n",
       "      <td>4</td>\n",
       "    </tr>\n",
       "    <tr>\n",
       "      <th>14</th>\n",
       "      <td>0.694236</td>\n",
       "      <td>0.694236</td>\n",
       "      <td>0.694236</td>\n",
       "      <td>0.694236</td>\n",
       "      <td>0.727662</td>\n",
       "      <td>0.727662</td>\n",
       "      <td>0.727662</td>\n",
       "      <td>0.727662</td>\n",
       "      <td>0.752712</td>\n",
       "      <td>0.752712</td>\n",
       "      <td>...</td>\n",
       "      <td>0.935021</td>\n",
       "      <td>0.936072</td>\n",
       "      <td>0.936072</td>\n",
       "      <td>0.936072</td>\n",
       "      <td>0.936072</td>\n",
       "      <td>0.931395</td>\n",
       "      <td>0.931395</td>\n",
       "      <td>0.931395</td>\n",
       "      <td>0.931395</td>\n",
       "      <td>4</td>\n",
       "    </tr>\n",
       "  </tbody>\n",
       "</table>\n",
       "<p>15 rows × 49 columns</p>\n",
       "</div>"
      ],
      "text/plain": [
       "     2008-Q1   2008-Q2   2008-Q3   2008-Q4   2009-Q1   2009-Q2   2009-Q3  \\\n",
       "0   0.579401  0.579401  0.579401  0.579401  0.574632  0.574632  0.574632   \n",
       "1   0.658595  0.658595  0.658595  0.658595  0.668299  0.668299  0.668299   \n",
       "2   0.602993  0.602993  0.602993  0.602993  0.590655  0.590655  0.590655   \n",
       "3   0.915757  0.915757  0.915757  0.915757  0.916802  0.916802  0.916802   \n",
       "4   0.695470  0.695470  0.695470  0.695470  0.687032  0.687032  0.687032   \n",
       "5   0.682819  0.682819  0.682819  0.682819  0.682723  0.682723  0.682723   \n",
       "6   1.000000  1.000000  1.000000  1.000000  1.000000  1.000000  1.000000   \n",
       "7   0.772481  0.772481  0.772481  0.772481  0.773276  0.773276  0.773276   \n",
       "8   0.628673  0.628673  0.628673  0.628673  0.613323  0.613323  0.613323   \n",
       "9   0.582413  0.582413  0.582413  0.582413  0.573609  0.573609  0.573609   \n",
       "10  0.647267  0.647267  0.647267  0.647267  0.640986  0.640986  0.640986   \n",
       "11  0.667783  0.667783  0.667783  0.667783  0.665985  0.665985  0.665985   \n",
       "12  0.828689  0.828689  0.828689  0.828689  0.827359  0.827359  0.827359   \n",
       "13  0.538367  0.538367  0.538367  0.538367  0.529239  0.529239  0.529239   \n",
       "14  0.694236  0.694236  0.694236  0.694236  0.727662  0.727662  0.727662   \n",
       "\n",
       "     2009-Q4   2010-Q1   2010-Q2  ...   2017-Q4   2018-Q1   2018-Q2   2018-Q3  \\\n",
       "0   0.574632  0.572874  0.572874  ...  0.651788  0.648457  0.648457  0.648457   \n",
       "1   0.668299  0.673635  0.673635  ...  0.730107  0.726660  0.726660  0.726660   \n",
       "2   0.590655  0.581097  0.581097  ...  0.616130  0.613899  0.613899  0.613899   \n",
       "3   0.916802  0.916191  0.916191  ...  0.961361  0.957319  0.957319  0.957319   \n",
       "4   0.687032  0.682829  0.682829  ...  0.761174  0.758291  0.758291  0.758291   \n",
       "5   0.682723  0.683389  0.683389  ...  0.739868  0.716969  0.716969  0.716969   \n",
       "6   1.000000  1.000000  1.000000  ...  1.000000  1.000000  1.000000  1.000000   \n",
       "7   0.773276  0.774072  0.774072  ...  0.955699  0.949718  0.949718  0.949718   \n",
       "8   0.613323  0.607878  0.607878  ...  0.711734  0.712789  0.712789  0.712789   \n",
       "9   0.573609  0.569908  0.569908  ...  0.640728  0.637666  0.637666  0.637666   \n",
       "10  0.640986  0.636559  0.636559  ...  0.704488  0.699529  0.699529  0.699529   \n",
       "11  0.665985  0.664165  0.664165  ...  0.722617  0.722165  0.722165  0.722165   \n",
       "12  0.827359  0.824988  0.824988  ...  0.834348  0.829797  0.829797  0.829797   \n",
       "13  0.529239  0.523118  0.523118  ...  0.568449  0.565438  0.565438  0.565438   \n",
       "14  0.727662  0.752712  0.752712  ...  0.935021  0.936072  0.936072  0.936072   \n",
       "\n",
       "     2018-Q4   2019-Q1   2019-Q2   2019-Q3   2019-Q4  Label  \n",
       "0   0.648457  0.641209  0.641209  0.641209  0.641209      4  \n",
       "1   0.726660  0.719009  0.719009  0.719009  0.719009      4  \n",
       "2   0.613899  0.608182  0.608182  0.608182  0.608182      4  \n",
       "3   0.957319  0.947628  0.947628  0.947628  0.947628      4  \n",
       "4   0.758291  0.753162  0.753162  0.753162  0.753162      4  \n",
       "5   0.716969  0.687206  0.687206  0.687206  0.687206      4  \n",
       "6   1.000000  1.000000  1.000000  1.000000  1.000000      4  \n",
       "7   0.949718  0.930498  0.930498  0.930498  0.930498      4  \n",
       "8   0.712789  0.714521  0.714521  0.714521  0.714521      4  \n",
       "9   0.637666  0.629280  0.629280  0.629280  0.629280      4  \n",
       "10  0.699529  0.688157  0.688157  0.688157  0.688157      4  \n",
       "11  0.722165  0.717986  0.717986  0.717986  0.717986      4  \n",
       "12  0.829797  0.821140  0.821140  0.821140  0.821140      4  \n",
       "13  0.565438  0.559205  0.559205  0.559205  0.559205      4  \n",
       "14  0.936072  0.931395  0.931395  0.931395  0.931395      4  \n",
       "\n",
       "[15 rows x 49 columns]"
      ]
     },
     "execution_count": 104,
     "metadata": {},
     "output_type": "execute_result"
    }
   ],
   "source": [
    "# GDP_per_employee['Average'] = GDP_per_employee.mean(axis=1, skipna=True)\n",
    "# GDP_per_HW['Average'] = GDP_per_HW.mean(axis=1, skipna=True)\n",
    "# inflation['Average'] = inflation.mean(axis=1, skipna=True)\n",
    "# unemployment['Average'] = unemployment.mean(axis=1, skipna=True)\n",
    "# depression['Average'] = depression.mean(axis=1, skipna=True)\n",
    "\n",
    "country_labels = list(matched_dfs[0].index.values)\n",
    "years = list(matched_dfs[0].columns)\n",
    "features = ['GDP per employee', 'GDP per hour worked', 'Inflation', 'Unemployment', 'Depression']\n",
    "length = len(country_labels)\n",
    "\n",
    "GDP_per_employee['Label'] = 0\n",
    "GDP_per_HW['Label'] = 1\n",
    "inflation['Label'] = 2\n",
    "unemployment['Label'] = 3\n",
    "depression['Label'] = 4\n",
    "\n",
    "# GDP_per_employee['Label'] = list(range(0,length))\n",
    "# GDP_per_HW['Label'] = list(range(0,length))\n",
    "# inflation['Label'] = list(range(0,length))\n",
    "# unemployment['Label'] = list(range(0,length))\n",
    "# depression['Label'] = list(range(0,length))\n",
    "depression"
   ]
  },
  {
   "cell_type": "code",
   "execution_count": 105,
   "metadata": {},
   "outputs": [
    {
     "data": {
      "text/html": [
       "<div>\n",
       "<style scoped>\n",
       "    .dataframe tbody tr th:only-of-type {\n",
       "        vertical-align: middle;\n",
       "    }\n",
       "\n",
       "    .dataframe tbody tr th {\n",
       "        vertical-align: top;\n",
       "    }\n",
       "\n",
       "    .dataframe thead th {\n",
       "        text-align: right;\n",
       "    }\n",
       "</style>\n",
       "<table border=\"1\" class=\"dataframe\">\n",
       "  <thead>\n",
       "    <tr style=\"text-align: right;\">\n",
       "      <th></th>\n",
       "      <th>2008-Q1</th>\n",
       "      <th>2008-Q2</th>\n",
       "      <th>2008-Q3</th>\n",
       "      <th>2008-Q4</th>\n",
       "      <th>2009-Q1</th>\n",
       "      <th>2009-Q2</th>\n",
       "      <th>2009-Q3</th>\n",
       "      <th>2009-Q4</th>\n",
       "      <th>2010-Q1</th>\n",
       "      <th>2010-Q2</th>\n",
       "      <th>...</th>\n",
       "      <th>2017-Q3</th>\n",
       "      <th>2017-Q4</th>\n",
       "      <th>2018-Q1</th>\n",
       "      <th>2018-Q2</th>\n",
       "      <th>2018-Q3</th>\n",
       "      <th>2018-Q4</th>\n",
       "      <th>2019-Q1</th>\n",
       "      <th>2019-Q2</th>\n",
       "      <th>2019-Q3</th>\n",
       "      <th>2019-Q4</th>\n",
       "    </tr>\n",
       "  </thead>\n",
       "  <tbody>\n",
       "    <tr>\n",
       "      <th>0</th>\n",
       "      <td>0.786304</td>\n",
       "      <td>0.842673</td>\n",
       "      <td>0.828414</td>\n",
       "      <td>0.854582</td>\n",
       "      <td>0.790291</td>\n",
       "      <td>0.805609</td>\n",
       "      <td>0.810285</td>\n",
       "      <td>0.867817</td>\n",
       "      <td>0.778429</td>\n",
       "      <td>0.817886</td>\n",
       "      <td>...</td>\n",
       "      <td>0.585752</td>\n",
       "      <td>0.598465</td>\n",
       "      <td>0.582335</td>\n",
       "      <td>0.611389</td>\n",
       "      <td>0.564960</td>\n",
       "      <td>0.611889</td>\n",
       "      <td>0.576130</td>\n",
       "      <td>0.594685</td>\n",
       "      <td>0.542125</td>\n",
       "      <td>0.581042</td>\n",
       "    </tr>\n",
       "    <tr>\n",
       "      <th>1</th>\n",
       "      <td>0.857492</td>\n",
       "      <td>0.930144</td>\n",
       "      <td>0.878160</td>\n",
       "      <td>0.919059</td>\n",
       "      <td>0.870809</td>\n",
       "      <td>0.881049</td>\n",
       "      <td>0.873145</td>\n",
       "      <td>0.958633</td>\n",
       "      <td>0.865263</td>\n",
       "      <td>0.913415</td>\n",
       "      <td>...</td>\n",
       "      <td>0.649852</td>\n",
       "      <td>0.667997</td>\n",
       "      <td>0.632730</td>\n",
       "      <td>0.693692</td>\n",
       "      <td>0.613902</td>\n",
       "      <td>0.681019</td>\n",
       "      <td>0.634039</td>\n",
       "      <td>0.666111</td>\n",
       "      <td>0.587524</td>\n",
       "      <td>0.653528</td>\n",
       "    </tr>\n",
       "    <tr>\n",
       "      <th>2</th>\n",
       "      <td>0.256474</td>\n",
       "      <td>0.293725</td>\n",
       "      <td>0.281509</td>\n",
       "      <td>0.273696</td>\n",
       "      <td>0.248475</td>\n",
       "      <td>0.261878</td>\n",
       "      <td>0.256486</td>\n",
       "      <td>0.279738</td>\n",
       "      <td>0.258815</td>\n",
       "      <td>0.281966</td>\n",
       "      <td>...</td>\n",
       "      <td>0.254958</td>\n",
       "      <td>0.258959</td>\n",
       "      <td>0.247906</td>\n",
       "      <td>0.280765</td>\n",
       "      <td>0.264535</td>\n",
       "      <td>0.278926</td>\n",
       "      <td>0.258857</td>\n",
       "      <td>0.288612</td>\n",
       "      <td>0.263438</td>\n",
       "      <td>0.275332</td>\n",
       "    </tr>\n",
       "    <tr>\n",
       "      <th>3</th>\n",
       "      <td>0.819144</td>\n",
       "      <td>0.861186</td>\n",
       "      <td>0.847083</td>\n",
       "      <td>0.904648</td>\n",
       "      <td>0.810818</td>\n",
       "      <td>0.818665</td>\n",
       "      <td>0.816464</td>\n",
       "      <td>0.905608</td>\n",
       "      <td>0.812137</td>\n",
       "      <td>0.841754</td>\n",
       "      <td>...</td>\n",
       "      <td>0.623019</td>\n",
       "      <td>0.640268</td>\n",
       "      <td>0.611257</td>\n",
       "      <td>0.644701</td>\n",
       "      <td>0.593371</td>\n",
       "      <td>0.642578</td>\n",
       "      <td>0.597634</td>\n",
       "      <td>0.624859</td>\n",
       "      <td>0.563486</td>\n",
       "      <td>0.617595</td>\n",
       "    </tr>\n",
       "    <tr>\n",
       "      <th>4</th>\n",
       "      <td>0.819546</td>\n",
       "      <td>0.849017</td>\n",
       "      <td>0.819133</td>\n",
       "      <td>0.852733</td>\n",
       "      <td>0.820456</td>\n",
       "      <td>0.813203</td>\n",
       "      <td>0.801041</td>\n",
       "      <td>0.869181</td>\n",
       "      <td>0.820739</td>\n",
       "      <td>0.834626</td>\n",
       "      <td>...</td>\n",
       "      <td>0.569376</td>\n",
       "      <td>0.578512</td>\n",
       "      <td>0.574310</td>\n",
       "      <td>0.598025</td>\n",
       "      <td>0.552157</td>\n",
       "      <td>0.592265</td>\n",
       "      <td>0.573589</td>\n",
       "      <td>0.589052</td>\n",
       "      <td>0.535025</td>\n",
       "      <td>0.564748</td>\n",
       "    </tr>\n",
       "    <tr>\n",
       "      <th>...</th>\n",
       "      <td>...</td>\n",
       "      <td>...</td>\n",
       "      <td>...</td>\n",
       "      <td>...</td>\n",
       "      <td>...</td>\n",
       "      <td>...</td>\n",
       "      <td>...</td>\n",
       "      <td>...</td>\n",
       "      <td>...</td>\n",
       "      <td>...</td>\n",
       "      <td>...</td>\n",
       "      <td>...</td>\n",
       "      <td>...</td>\n",
       "      <td>...</td>\n",
       "      <td>...</td>\n",
       "      <td>...</td>\n",
       "      <td>...</td>\n",
       "      <td>...</td>\n",
       "      <td>...</td>\n",
       "      <td>...</td>\n",
       "      <td>...</td>\n",
       "    </tr>\n",
       "    <tr>\n",
       "      <th>70</th>\n",
       "      <td>0.647267</td>\n",
       "      <td>0.647267</td>\n",
       "      <td>0.647267</td>\n",
       "      <td>0.647267</td>\n",
       "      <td>0.640986</td>\n",
       "      <td>0.640986</td>\n",
       "      <td>0.640986</td>\n",
       "      <td>0.640986</td>\n",
       "      <td>0.636559</td>\n",
       "      <td>0.636559</td>\n",
       "      <td>...</td>\n",
       "      <td>0.704488</td>\n",
       "      <td>0.704488</td>\n",
       "      <td>0.699529</td>\n",
       "      <td>0.699529</td>\n",
       "      <td>0.699529</td>\n",
       "      <td>0.699529</td>\n",
       "      <td>0.688157</td>\n",
       "      <td>0.688157</td>\n",
       "      <td>0.688157</td>\n",
       "      <td>0.688157</td>\n",
       "    </tr>\n",
       "    <tr>\n",
       "      <th>71</th>\n",
       "      <td>0.667783</td>\n",
       "      <td>0.667783</td>\n",
       "      <td>0.667783</td>\n",
       "      <td>0.667783</td>\n",
       "      <td>0.665985</td>\n",
       "      <td>0.665985</td>\n",
       "      <td>0.665985</td>\n",
       "      <td>0.665985</td>\n",
       "      <td>0.664165</td>\n",
       "      <td>0.664165</td>\n",
       "      <td>...</td>\n",
       "      <td>0.722617</td>\n",
       "      <td>0.722617</td>\n",
       "      <td>0.722165</td>\n",
       "      <td>0.722165</td>\n",
       "      <td>0.722165</td>\n",
       "      <td>0.722165</td>\n",
       "      <td>0.717986</td>\n",
       "      <td>0.717986</td>\n",
       "      <td>0.717986</td>\n",
       "      <td>0.717986</td>\n",
       "    </tr>\n",
       "    <tr>\n",
       "      <th>72</th>\n",
       "      <td>0.828689</td>\n",
       "      <td>0.828689</td>\n",
       "      <td>0.828689</td>\n",
       "      <td>0.828689</td>\n",
       "      <td>0.827359</td>\n",
       "      <td>0.827359</td>\n",
       "      <td>0.827359</td>\n",
       "      <td>0.827359</td>\n",
       "      <td>0.824988</td>\n",
       "      <td>0.824988</td>\n",
       "      <td>...</td>\n",
       "      <td>0.834348</td>\n",
       "      <td>0.834348</td>\n",
       "      <td>0.829797</td>\n",
       "      <td>0.829797</td>\n",
       "      <td>0.829797</td>\n",
       "      <td>0.829797</td>\n",
       "      <td>0.821140</td>\n",
       "      <td>0.821140</td>\n",
       "      <td>0.821140</td>\n",
       "      <td>0.821140</td>\n",
       "    </tr>\n",
       "    <tr>\n",
       "      <th>73</th>\n",
       "      <td>0.538367</td>\n",
       "      <td>0.538367</td>\n",
       "      <td>0.538367</td>\n",
       "      <td>0.538367</td>\n",
       "      <td>0.529239</td>\n",
       "      <td>0.529239</td>\n",
       "      <td>0.529239</td>\n",
       "      <td>0.529239</td>\n",
       "      <td>0.523118</td>\n",
       "      <td>0.523118</td>\n",
       "      <td>...</td>\n",
       "      <td>0.568449</td>\n",
       "      <td>0.568449</td>\n",
       "      <td>0.565438</td>\n",
       "      <td>0.565438</td>\n",
       "      <td>0.565438</td>\n",
       "      <td>0.565438</td>\n",
       "      <td>0.559205</td>\n",
       "      <td>0.559205</td>\n",
       "      <td>0.559205</td>\n",
       "      <td>0.559205</td>\n",
       "    </tr>\n",
       "    <tr>\n",
       "      <th>74</th>\n",
       "      <td>0.694236</td>\n",
       "      <td>0.694236</td>\n",
       "      <td>0.694236</td>\n",
       "      <td>0.694236</td>\n",
       "      <td>0.727662</td>\n",
       "      <td>0.727662</td>\n",
       "      <td>0.727662</td>\n",
       "      <td>0.727662</td>\n",
       "      <td>0.752712</td>\n",
       "      <td>0.752712</td>\n",
       "      <td>...</td>\n",
       "      <td>0.935021</td>\n",
       "      <td>0.935021</td>\n",
       "      <td>0.936072</td>\n",
       "      <td>0.936072</td>\n",
       "      <td>0.936072</td>\n",
       "      <td>0.936072</td>\n",
       "      <td>0.931395</td>\n",
       "      <td>0.931395</td>\n",
       "      <td>0.931395</td>\n",
       "      <td>0.931395</td>\n",
       "    </tr>\n",
       "  </tbody>\n",
       "</table>\n",
       "<p>75 rows × 48 columns</p>\n",
       "</div>"
      ],
      "text/plain": [
       "     2008-Q1   2008-Q2   2008-Q3   2008-Q4   2009-Q1   2009-Q2   2009-Q3  \\\n",
       "0   0.786304  0.842673  0.828414  0.854582  0.790291  0.805609  0.810285   \n",
       "1   0.857492  0.930144  0.878160  0.919059  0.870809  0.881049  0.873145   \n",
       "2   0.256474  0.293725  0.281509  0.273696  0.248475  0.261878  0.256486   \n",
       "3   0.819144  0.861186  0.847083  0.904648  0.810818  0.818665  0.816464   \n",
       "4   0.819546  0.849017  0.819133  0.852733  0.820456  0.813203  0.801041   \n",
       "..       ...       ...       ...       ...       ...       ...       ...   \n",
       "70  0.647267  0.647267  0.647267  0.647267  0.640986  0.640986  0.640986   \n",
       "71  0.667783  0.667783  0.667783  0.667783  0.665985  0.665985  0.665985   \n",
       "72  0.828689  0.828689  0.828689  0.828689  0.827359  0.827359  0.827359   \n",
       "73  0.538367  0.538367  0.538367  0.538367  0.529239  0.529239  0.529239   \n",
       "74  0.694236  0.694236  0.694236  0.694236  0.727662  0.727662  0.727662   \n",
       "\n",
       "     2009-Q4   2010-Q1   2010-Q2  ...   2017-Q3   2017-Q4   2018-Q1   2018-Q2  \\\n",
       "0   0.867817  0.778429  0.817886  ...  0.585752  0.598465  0.582335  0.611389   \n",
       "1   0.958633  0.865263  0.913415  ...  0.649852  0.667997  0.632730  0.693692   \n",
       "2   0.279738  0.258815  0.281966  ...  0.254958  0.258959  0.247906  0.280765   \n",
       "3   0.905608  0.812137  0.841754  ...  0.623019  0.640268  0.611257  0.644701   \n",
       "4   0.869181  0.820739  0.834626  ...  0.569376  0.578512  0.574310  0.598025   \n",
       "..       ...       ...       ...  ...       ...       ...       ...       ...   \n",
       "70  0.640986  0.636559  0.636559  ...  0.704488  0.704488  0.699529  0.699529   \n",
       "71  0.665985  0.664165  0.664165  ...  0.722617  0.722617  0.722165  0.722165   \n",
       "72  0.827359  0.824988  0.824988  ...  0.834348  0.834348  0.829797  0.829797   \n",
       "73  0.529239  0.523118  0.523118  ...  0.568449  0.568449  0.565438  0.565438   \n",
       "74  0.727662  0.752712  0.752712  ...  0.935021  0.935021  0.936072  0.936072   \n",
       "\n",
       "     2018-Q3   2018-Q4   2019-Q1   2019-Q2   2019-Q3   2019-Q4  \n",
       "0   0.564960  0.611889  0.576130  0.594685  0.542125  0.581042  \n",
       "1   0.613902  0.681019  0.634039  0.666111  0.587524  0.653528  \n",
       "2   0.264535  0.278926  0.258857  0.288612  0.263438  0.275332  \n",
       "3   0.593371  0.642578  0.597634  0.624859  0.563486  0.617595  \n",
       "4   0.552157  0.592265  0.573589  0.589052  0.535025  0.564748  \n",
       "..       ...       ...       ...       ...       ...       ...  \n",
       "70  0.699529  0.699529  0.688157  0.688157  0.688157  0.688157  \n",
       "71  0.722165  0.722165  0.717986  0.717986  0.717986  0.717986  \n",
       "72  0.829797  0.829797  0.821140  0.821140  0.821140  0.821140  \n",
       "73  0.565438  0.565438  0.559205  0.559205  0.559205  0.559205  \n",
       "74  0.936072  0.936072  0.931395  0.931395  0.931395  0.931395  \n",
       "\n",
       "[75 rows x 48 columns]"
      ]
     },
     "execution_count": 105,
     "metadata": {},
     "output_type": "execute_result"
    }
   ],
   "source": [
    "dict_list = [GDP_per_employee, GDP_per_HW, inflation, unemployment, depression]\n",
    "big_data = pd.concat(dict_list, axis=0, ignore_index=True)\n",
    "labels = big_data['Label'].values\n",
    "big_data.drop('Label', inplace=True, axis=1)\n",
    "big_data"
   ]
  },
  {
   "cell_type": "code",
   "execution_count": 109,
   "metadata": {},
   "outputs": [],
   "source": [
    "# scaler.fit(big_data)\n",
    "# scaled = scaler.fit_transform(big_data)\n",
    "# big_data = pd.DataFrame(scaled, columns=big_data.columns)\n",
    "# big_data"
   ]
  },
  {
   "cell_type": "code",
   "execution_count": 108,
   "metadata": {},
   "outputs": [
    {
     "data": {
      "application/vnd.plotly.v1+json": {
       "config": {
        "plotlyServerURL": "https://plot.ly"
       },
       "data": [
        {
         "hovertemplate": "x=%{x}<br>y=%{y}<br>color=%{marker.color}<extra></extra>",
         "legendgroup": "",
         "marker": {
          "color": [
           4,
           1,
           2,
           4,
           4,
           4,
           4,
           1,
           4,
           2,
           2,
           4,
           2,
           2,
           4,
           4,
           4,
           2,
           4,
           4,
           4,
           4,
           1,
           4,
           2,
           2,
           1,
           2,
           2,
           4,
           0,
           0,
           0,
           0,
           0,
           0,
           3,
           0,
           0,
           0,
           0,
           0,
           0,
           0,
           0,
           2,
           2,
           2,
           2,
           2,
           2,
           1,
           4,
           2,
           4,
           4,
           2,
           4,
           2,
           1,
           4,
           4,
           4,
           1,
           4,
           4,
           1,
           1,
           4,
           4,
           4,
           4,
           1,
           4,
           1
          ],
          "coloraxis": "coloraxis",
          "symbol": "circle"
         },
         "mode": "markers",
         "name": "",
         "orientation": "v",
         "showlegend": false,
         "type": "scatter",
         "x": [
          0.7863038113489801,
          0.8574921485400085,
          0.25647429346756095,
          0.8191443412668366,
          0.8195459588162602,
          0.7195238825610345,
          0.7221557158523214,
          1,
          0.8901888926025945,
          0.24191564041136943,
          0.22075860598874258,
          0.8616662534837355,
          0.428264532871212,
          0.3951049749919772,
          0.6008202077227834,
          0.7347714287792119,
          0.8360387272212436,
          0.23478692131602932,
          0.7922096074079513,
          0.7779590056043847,
          0.7291879278104861,
          0.6156601041261112,
          0.999355733881442,
          0.8405814558046998,
          0.21758380412463282,
          0.20260687839660363,
          1,
          0.395066415270372,
          0.35184691090988574,
          0.5528284477316034,
          0.20252884062486853,
          0.23351213839841314,
          0.6758575356365182,
          0.2330836525990557,
          0.1798111052640886,
          0.17965884554571726,
          0.25948531702888056,
          0.2880302031572702,
          0.18628430798049467,
          1,
          0.6483654184459264,
          0.1304686513886611,
          0.1786582119940657,
          0.401496986818589,
          0.26720068343088643,
          0.4874551612903225,
          0.7419354838709677,
          0.4659497849462365,
          0.6810035483870966,
          0.7813620430107526,
          0.8387096774193548,
          0.8566308602150537,
          0.5770609677419354,
          0.7096774193548386,
          0.6953405376344086,
          0.44802870967741937,
          0.5161290322580645,
          0.964157634408602,
          0.5053763440860215,
          1,
          0.5794006076044242,
          0.6585952987070781,
          0.6029925026592597,
          0.9157572832895673,
          0.6954701343815594,
          0.682819009815209,
          1,
          0.7724814711203064,
          0.6286733394946715,
          0.5824128418379116,
          0.6472673368535127,
          0.6677827359462398,
          0.8286894805536437,
          0.5383666884518034,
          0.6942361878727358
         ],
         "xaxis": "x",
         "y": [
          0.8426729856324847,
          0.9301440455888368,
          0.293725443699445,
          0.8611859348017643,
          0.8490173975523747,
          0.7438231696511766,
          0.7852557124457247,
          1,
          0.9433007004995537,
          0.2650315565915616,
          0.2661261304520629,
          0.8983286544678725,
          0.4551946571107196,
          0.4541722143582585,
          0.6541589064845956,
          0.7572761657360159,
          0.8746022433819979,
          0.255960425586575,
          0.7882827426738429,
          0.7689853302885125,
          0.7230491005495542,
          0.6391042253422657,
          0.958570236881949,
          0.8521444799328681,
          0.22864622578484836,
          0.23487522160319116,
          1,
          0.40277173873294153,
          0.3879409607844908,
          0.5758689103598346,
          0.20369402321121416,
          0.2856780764461818,
          0.6438872146260589,
          0.22971718923438017,
          0.18668803823156424,
          0.16313721391994984,
          0.2684225808000497,
          0.26197106082987576,
          0.20149022886404017,
          1,
          0.6814844105261078,
          0.13031885056757042,
          0.16214803998271446,
          0.37340917885175384,
          0.2598853843916024,
          0.39102567307692304,
          0.6378204807692308,
          0.40384615384615385,
          0.59294875,
          0.705128173076923,
          0.7211538461538461,
          0.7211538461538461,
          0.5705127884615384,
          0.6602564423076922,
          0.6153846153846154,
          0.4230769230769231,
          0.4615384615384615,
          0.8782050961538461,
          0.4198718269230769,
          1,
          0.5794006076044242,
          0.6585952987070781,
          0.6029925026592597,
          0.9157572832895673,
          0.6954701343815594,
          0.682819009815209,
          1,
          0.7724814711203064,
          0.6286733394946715,
          0.5824128418379116,
          0.6472673368535127,
          0.6677827359462398,
          0.8286894805536437,
          0.5383666884518034,
          0.6942361878727358
         ],
         "yaxis": "y"
        }
       ],
       "layout": {
        "coloraxis": {
         "colorbar": {
          "title": {
           "text": "color"
          }
         },
         "colorscale": [
          [
           0,
           "#0d0887"
          ],
          [
           0.1111111111111111,
           "#46039f"
          ],
          [
           0.2222222222222222,
           "#7201a8"
          ],
          [
           0.3333333333333333,
           "#9c179e"
          ],
          [
           0.4444444444444444,
           "#bd3786"
          ],
          [
           0.5555555555555556,
           "#d8576b"
          ],
          [
           0.6666666666666666,
           "#ed7953"
          ],
          [
           0.7777777777777778,
           "#fb9f3a"
          ],
          [
           0.8888888888888888,
           "#fdca26"
          ],
          [
           1,
           "#f0f921"
          ]
         ]
        },
        "legend": {
         "tracegroupgap": 0
        },
        "margin": {
         "t": 60
        },
        "template": {
         "data": {
          "bar": [
           {
            "error_x": {
             "color": "#2a3f5f"
            },
            "error_y": {
             "color": "#2a3f5f"
            },
            "marker": {
             "line": {
              "color": "#E5ECF6",
              "width": 0.5
             },
             "pattern": {
              "fillmode": "overlay",
              "size": 10,
              "solidity": 0.2
             }
            },
            "type": "bar"
           }
          ],
          "barpolar": [
           {
            "marker": {
             "line": {
              "color": "#E5ECF6",
              "width": 0.5
             },
             "pattern": {
              "fillmode": "overlay",
              "size": 10,
              "solidity": 0.2
             }
            },
            "type": "barpolar"
           }
          ],
          "carpet": [
           {
            "aaxis": {
             "endlinecolor": "#2a3f5f",
             "gridcolor": "white",
             "linecolor": "white",
             "minorgridcolor": "white",
             "startlinecolor": "#2a3f5f"
            },
            "baxis": {
             "endlinecolor": "#2a3f5f",
             "gridcolor": "white",
             "linecolor": "white",
             "minorgridcolor": "white",
             "startlinecolor": "#2a3f5f"
            },
            "type": "carpet"
           }
          ],
          "choropleth": [
           {
            "colorbar": {
             "outlinewidth": 0,
             "ticks": ""
            },
            "type": "choropleth"
           }
          ],
          "contour": [
           {
            "colorbar": {
             "outlinewidth": 0,
             "ticks": ""
            },
            "colorscale": [
             [
              0,
              "#0d0887"
             ],
             [
              0.1111111111111111,
              "#46039f"
             ],
             [
              0.2222222222222222,
              "#7201a8"
             ],
             [
              0.3333333333333333,
              "#9c179e"
             ],
             [
              0.4444444444444444,
              "#bd3786"
             ],
             [
              0.5555555555555556,
              "#d8576b"
             ],
             [
              0.6666666666666666,
              "#ed7953"
             ],
             [
              0.7777777777777778,
              "#fb9f3a"
             ],
             [
              0.8888888888888888,
              "#fdca26"
             ],
             [
              1,
              "#f0f921"
             ]
            ],
            "type": "contour"
           }
          ],
          "contourcarpet": [
           {
            "colorbar": {
             "outlinewidth": 0,
             "ticks": ""
            },
            "type": "contourcarpet"
           }
          ],
          "heatmap": [
           {
            "colorbar": {
             "outlinewidth": 0,
             "ticks": ""
            },
            "colorscale": [
             [
              0,
              "#0d0887"
             ],
             [
              0.1111111111111111,
              "#46039f"
             ],
             [
              0.2222222222222222,
              "#7201a8"
             ],
             [
              0.3333333333333333,
              "#9c179e"
             ],
             [
              0.4444444444444444,
              "#bd3786"
             ],
             [
              0.5555555555555556,
              "#d8576b"
             ],
             [
              0.6666666666666666,
              "#ed7953"
             ],
             [
              0.7777777777777778,
              "#fb9f3a"
             ],
             [
              0.8888888888888888,
              "#fdca26"
             ],
             [
              1,
              "#f0f921"
             ]
            ],
            "type": "heatmap"
           }
          ],
          "heatmapgl": [
           {
            "colorbar": {
             "outlinewidth": 0,
             "ticks": ""
            },
            "colorscale": [
             [
              0,
              "#0d0887"
             ],
             [
              0.1111111111111111,
              "#46039f"
             ],
             [
              0.2222222222222222,
              "#7201a8"
             ],
             [
              0.3333333333333333,
              "#9c179e"
             ],
             [
              0.4444444444444444,
              "#bd3786"
             ],
             [
              0.5555555555555556,
              "#d8576b"
             ],
             [
              0.6666666666666666,
              "#ed7953"
             ],
             [
              0.7777777777777778,
              "#fb9f3a"
             ],
             [
              0.8888888888888888,
              "#fdca26"
             ],
             [
              1,
              "#f0f921"
             ]
            ],
            "type": "heatmapgl"
           }
          ],
          "histogram": [
           {
            "marker": {
             "pattern": {
              "fillmode": "overlay",
              "size": 10,
              "solidity": 0.2
             }
            },
            "type": "histogram"
           }
          ],
          "histogram2d": [
           {
            "colorbar": {
             "outlinewidth": 0,
             "ticks": ""
            },
            "colorscale": [
             [
              0,
              "#0d0887"
             ],
             [
              0.1111111111111111,
              "#46039f"
             ],
             [
              0.2222222222222222,
              "#7201a8"
             ],
             [
              0.3333333333333333,
              "#9c179e"
             ],
             [
              0.4444444444444444,
              "#bd3786"
             ],
             [
              0.5555555555555556,
              "#d8576b"
             ],
             [
              0.6666666666666666,
              "#ed7953"
             ],
             [
              0.7777777777777778,
              "#fb9f3a"
             ],
             [
              0.8888888888888888,
              "#fdca26"
             ],
             [
              1,
              "#f0f921"
             ]
            ],
            "type": "histogram2d"
           }
          ],
          "histogram2dcontour": [
           {
            "colorbar": {
             "outlinewidth": 0,
             "ticks": ""
            },
            "colorscale": [
             [
              0,
              "#0d0887"
             ],
             [
              0.1111111111111111,
              "#46039f"
             ],
             [
              0.2222222222222222,
              "#7201a8"
             ],
             [
              0.3333333333333333,
              "#9c179e"
             ],
             [
              0.4444444444444444,
              "#bd3786"
             ],
             [
              0.5555555555555556,
              "#d8576b"
             ],
             [
              0.6666666666666666,
              "#ed7953"
             ],
             [
              0.7777777777777778,
              "#fb9f3a"
             ],
             [
              0.8888888888888888,
              "#fdca26"
             ],
             [
              1,
              "#f0f921"
             ]
            ],
            "type": "histogram2dcontour"
           }
          ],
          "mesh3d": [
           {
            "colorbar": {
             "outlinewidth": 0,
             "ticks": ""
            },
            "type": "mesh3d"
           }
          ],
          "parcoords": [
           {
            "line": {
             "colorbar": {
              "outlinewidth": 0,
              "ticks": ""
             }
            },
            "type": "parcoords"
           }
          ],
          "pie": [
           {
            "automargin": true,
            "type": "pie"
           }
          ],
          "scatter": [
           {
            "fillpattern": {
             "fillmode": "overlay",
             "size": 10,
             "solidity": 0.2
            },
            "type": "scatter"
           }
          ],
          "scatter3d": [
           {
            "line": {
             "colorbar": {
              "outlinewidth": 0,
              "ticks": ""
             }
            },
            "marker": {
             "colorbar": {
              "outlinewidth": 0,
              "ticks": ""
             }
            },
            "type": "scatter3d"
           }
          ],
          "scattercarpet": [
           {
            "marker": {
             "colorbar": {
              "outlinewidth": 0,
              "ticks": ""
             }
            },
            "type": "scattercarpet"
           }
          ],
          "scattergeo": [
           {
            "marker": {
             "colorbar": {
              "outlinewidth": 0,
              "ticks": ""
             }
            },
            "type": "scattergeo"
           }
          ],
          "scattergl": [
           {
            "marker": {
             "colorbar": {
              "outlinewidth": 0,
              "ticks": ""
             }
            },
            "type": "scattergl"
           }
          ],
          "scattermapbox": [
           {
            "marker": {
             "colorbar": {
              "outlinewidth": 0,
              "ticks": ""
             }
            },
            "type": "scattermapbox"
           }
          ],
          "scatterpolar": [
           {
            "marker": {
             "colorbar": {
              "outlinewidth": 0,
              "ticks": ""
             }
            },
            "type": "scatterpolar"
           }
          ],
          "scatterpolargl": [
           {
            "marker": {
             "colorbar": {
              "outlinewidth": 0,
              "ticks": ""
             }
            },
            "type": "scatterpolargl"
           }
          ],
          "scatterternary": [
           {
            "marker": {
             "colorbar": {
              "outlinewidth": 0,
              "ticks": ""
             }
            },
            "type": "scatterternary"
           }
          ],
          "surface": [
           {
            "colorbar": {
             "outlinewidth": 0,
             "ticks": ""
            },
            "colorscale": [
             [
              0,
              "#0d0887"
             ],
             [
              0.1111111111111111,
              "#46039f"
             ],
             [
              0.2222222222222222,
              "#7201a8"
             ],
             [
              0.3333333333333333,
              "#9c179e"
             ],
             [
              0.4444444444444444,
              "#bd3786"
             ],
             [
              0.5555555555555556,
              "#d8576b"
             ],
             [
              0.6666666666666666,
              "#ed7953"
             ],
             [
              0.7777777777777778,
              "#fb9f3a"
             ],
             [
              0.8888888888888888,
              "#fdca26"
             ],
             [
              1,
              "#f0f921"
             ]
            ],
            "type": "surface"
           }
          ],
          "table": [
           {
            "cells": {
             "fill": {
              "color": "#EBF0F8"
             },
             "line": {
              "color": "white"
             }
            },
            "header": {
             "fill": {
              "color": "#C8D4E3"
             },
             "line": {
              "color": "white"
             }
            },
            "type": "table"
           }
          ]
         },
         "layout": {
          "annotationdefaults": {
           "arrowcolor": "#2a3f5f",
           "arrowhead": 0,
           "arrowwidth": 1
          },
          "autotypenumbers": "strict",
          "coloraxis": {
           "colorbar": {
            "outlinewidth": 0,
            "ticks": ""
           }
          },
          "colorscale": {
           "diverging": [
            [
             0,
             "#8e0152"
            ],
            [
             0.1,
             "#c51b7d"
            ],
            [
             0.2,
             "#de77ae"
            ],
            [
             0.3,
             "#f1b6da"
            ],
            [
             0.4,
             "#fde0ef"
            ],
            [
             0.5,
             "#f7f7f7"
            ],
            [
             0.6,
             "#e6f5d0"
            ],
            [
             0.7,
             "#b8e186"
            ],
            [
             0.8,
             "#7fbc41"
            ],
            [
             0.9,
             "#4d9221"
            ],
            [
             1,
             "#276419"
            ]
           ],
           "sequential": [
            [
             0,
             "#0d0887"
            ],
            [
             0.1111111111111111,
             "#46039f"
            ],
            [
             0.2222222222222222,
             "#7201a8"
            ],
            [
             0.3333333333333333,
             "#9c179e"
            ],
            [
             0.4444444444444444,
             "#bd3786"
            ],
            [
             0.5555555555555556,
             "#d8576b"
            ],
            [
             0.6666666666666666,
             "#ed7953"
            ],
            [
             0.7777777777777778,
             "#fb9f3a"
            ],
            [
             0.8888888888888888,
             "#fdca26"
            ],
            [
             1,
             "#f0f921"
            ]
           ],
           "sequentialminus": [
            [
             0,
             "#0d0887"
            ],
            [
             0.1111111111111111,
             "#46039f"
            ],
            [
             0.2222222222222222,
             "#7201a8"
            ],
            [
             0.3333333333333333,
             "#9c179e"
            ],
            [
             0.4444444444444444,
             "#bd3786"
            ],
            [
             0.5555555555555556,
             "#d8576b"
            ],
            [
             0.6666666666666666,
             "#ed7953"
            ],
            [
             0.7777777777777778,
             "#fb9f3a"
            ],
            [
             0.8888888888888888,
             "#fdca26"
            ],
            [
             1,
             "#f0f921"
            ]
           ]
          },
          "colorway": [
           "#636efa",
           "#EF553B",
           "#00cc96",
           "#ab63fa",
           "#FFA15A",
           "#19d3f3",
           "#FF6692",
           "#B6E880",
           "#FF97FF",
           "#FECB52"
          ],
          "font": {
           "color": "#2a3f5f"
          },
          "geo": {
           "bgcolor": "white",
           "lakecolor": "white",
           "landcolor": "#E5ECF6",
           "showlakes": true,
           "showland": true,
           "subunitcolor": "white"
          },
          "hoverlabel": {
           "align": "left"
          },
          "hovermode": "closest",
          "mapbox": {
           "style": "light"
          },
          "paper_bgcolor": "white",
          "plot_bgcolor": "#E5ECF6",
          "polar": {
           "angularaxis": {
            "gridcolor": "white",
            "linecolor": "white",
            "ticks": ""
           },
           "bgcolor": "#E5ECF6",
           "radialaxis": {
            "gridcolor": "white",
            "linecolor": "white",
            "ticks": ""
           }
          },
          "scene": {
           "xaxis": {
            "backgroundcolor": "#E5ECF6",
            "gridcolor": "white",
            "gridwidth": 2,
            "linecolor": "white",
            "showbackground": true,
            "ticks": "",
            "zerolinecolor": "white"
           },
           "yaxis": {
            "backgroundcolor": "#E5ECF6",
            "gridcolor": "white",
            "gridwidth": 2,
            "linecolor": "white",
            "showbackground": true,
            "ticks": "",
            "zerolinecolor": "white"
           },
           "zaxis": {
            "backgroundcolor": "#E5ECF6",
            "gridcolor": "white",
            "gridwidth": 2,
            "linecolor": "white",
            "showbackground": true,
            "ticks": "",
            "zerolinecolor": "white"
           }
          },
          "shapedefaults": {
           "line": {
            "color": "#2a3f5f"
           }
          },
          "ternary": {
           "aaxis": {
            "gridcolor": "white",
            "linecolor": "white",
            "ticks": ""
           },
           "baxis": {
            "gridcolor": "white",
            "linecolor": "white",
            "ticks": ""
           },
           "bgcolor": "#E5ECF6",
           "caxis": {
            "gridcolor": "white",
            "linecolor": "white",
            "ticks": ""
           }
          },
          "title": {
           "x": 0.05
          },
          "xaxis": {
           "automargin": true,
           "gridcolor": "white",
           "linecolor": "white",
           "ticks": "",
           "title": {
            "standoff": 15
           },
           "zerolinecolor": "white",
           "zerolinewidth": 2
          },
          "yaxis": {
           "automargin": true,
           "gridcolor": "white",
           "linecolor": "white",
           "ticks": "",
           "title": {
            "standoff": 15
           },
           "zerolinecolor": "white",
           "zerolinewidth": 2
          }
         }
        },
        "xaxis": {
         "anchor": "y",
         "domain": [
          0,
          1
         ],
         "title": {
          "text": "x"
         }
        },
        "yaxis": {
         "anchor": "x",
         "domain": [
          0,
          1
         ],
         "title": {
          "text": "y"
         }
        }
       }
      }
     },
     "metadata": {},
     "output_type": "display_data"
    }
   ],
   "source": [
    "'''\n",
    "Clustering of features using K-means\n",
    "\n",
    "X = [Country, Time, Features]\n",
    "Plot the clusters against properties\n",
    "'''\n",
    "X = big_data.values\n",
    "kmeans = KMeans(n_clusters=5, random_state=0).fit(X)\n",
    "\n",
    "\n",
    "\n",
    "scatter2d(X, kmeans.labels_)"
   ]
  },
  {
   "cell_type": "code",
   "execution_count": 98,
   "metadata": {},
   "outputs": [
    {
     "data": {
      "application/vnd.plotly.v1+json": {
       "config": {
        "plotlyServerURL": "https://plot.ly"
       },
       "data": [
        {
         "hovertemplate": "x=%{x}<br>y=%{y}<br>color=%{marker.color}<extra></extra>",
         "legendgroup": "",
         "marker": {
          "color": [
           0,
           0,
           0,
           0,
           0,
           0,
           0,
           0,
           0,
           0,
           0,
           0,
           0,
           0,
           0,
           0,
           0,
           0,
           0,
           0,
           0,
           0,
           0,
           0,
           0,
           0,
           0,
           0,
           0,
           0,
           0,
           0,
           0,
           0,
           0,
           0,
           0,
           0,
           0,
           0,
           0,
           0,
           0,
           0,
           0,
           0,
           0,
           0,
           0,
           0,
           0,
           0,
           0,
           0,
           0,
           0,
           0,
           0,
           0,
           0,
           0,
           0,
           0,
           0,
           0,
           0,
           0,
           0,
           0,
           0,
           0,
           0,
           0,
           0,
           0
          ],
          "coloraxis": "coloraxis",
          "symbol": "circle"
         },
         "mode": "markers",
         "name": "",
         "orientation": "v",
         "showlegend": false,
         "type": "scatter",
         "x": [
          0.7257638129938297,
          0.8171197621748354,
          0.04583391969844758,
          0.7679080447687938,
          0.7684234403220978,
          0.6400651715957051,
          0.6434426016340905,
          1,
          0.859079473650473,
          0.027150809216792138,
          0,
          0.8224763884729331,
          0.26629222789911444,
          0.2237385877382123,
          0.4877328189376836,
          0.6673804124526845,
          0.7943783707977525,
          0.04035655945303129,
          0.7394128605295414,
          0.7215413722792896,
          0.6603782189079266,
          0.5180045005892966,
          0.9991920345170995,
          0.8000753456779992,
          0.01878236132500566,
          0,
          1.0000000000000002,
          0.2413609193000953,
          0.18715991958043304,
          0.43920816451335204,
          0.0828724454285509,
          0.1185046257093719,
          0.6272216466017648,
          0.11801184784685806,
          0.05674603216345048,
          0.05657092666712246,
          0.1483749445563544,
          0.18120284222097163,
          0.06419050524282124,
          1,
          0.5956044803725112,
          0,
          0.05542015326113825,
          0.311694725972521,
          0.157247961514659,
          0.07142844619665223,
          0.5324675021082793,
          0.03246740470567544,
          0.42207781961544255,
          0.603896143110139,
          0.7077921888176745,
          0.7402597883285577,
          0.23376624894586018,
          0.47402593987181396,
          0.44805197714623224,
          0,
          0.12337656645302364,
          0.9350648009782337,
          0.10389604570753541,
          0.9999999999999999,
          0.08888855748950153,
          0.26044179925417366,
          0.13999382754835965,
          0.81751161668142,
          0.3403208607344048,
          0.31291572282544045,
          1,
          0.5071444733555812,
          0.19562420818377135,
          0.09541372401915527,
          0.2359029248484803,
          0.2803438232401583,
          0.6289034713031736,
          0,
          0.33764785928941543
         ],
         "xaxis": "x",
         "y": [
          0.7859404498540011,
          0.9049538044283859,
          0.039040978378356794,
          0.8111292172566195,
          0.794572673423312,
          0.6514451298605478,
          0.7078183567196542,
          0.9999999999999999,
          0.922854783754386,
          0,
          0.001489280077693167,
          0.8616656994678252,
          0.25873641545379944,
          0.2573452771516983,
          0.5294476972214536,
          0.6853274821777409,
          0.8374315900047373,
          0.03541072944061069,
          0.7255250905570816,
          0.7005075006646028,
          0.6409547619932996,
          0.5321267792784916,
          0.9462895437826755,
          0.8083168514763877,
          0,
          0.00807540719520139,
          1.0000000000000002,
          0.2257401451432126,
          0.20651319838516902,
          0.45014712597767936,
          0.08437020014924984,
          0.1786392932398291,
          0.5905248887982141,
          0.11429285173270573,
          0.06481592443481318,
          0.03773608681043314,
          0.15879811850884482,
          0.15137985955913166,
          0.0818361744909816,
          1,
          0.6337559004449372,
          0,
          0.036598688422666614,
          0.27951661185576904,
          0.1489816513886608,
          0,
          0.4052630739612144,
          0.021052580055399006,
          0.33157896481994564,
          0.515789395567863,
          0.5421052390581704,
          0.5421052390581704,
          0.294736752354566,
          0.44210528642659397,
          0.36842101939058014,
          0.0526315290858701,
          0.11578942714681195,
          0.799999936842102,
          0.04736842354570647,
          1,
          0.08888855748950153,
          0.26044179925417366,
          0.13999382754835965,
          0.81751161668142,
          0.3403208607344048,
          0.31291572282544045,
          1,
          0.5071444733555812,
          0.19562420818377135,
          0.09541372401915527,
          0.2359029248484803,
          0.2803438232401583,
          0.6289034713031736,
          0,
          0.33764785928941543
         ],
         "yaxis": "y"
        }
       ],
       "layout": {
        "coloraxis": {
         "colorbar": {
          "title": {
           "text": "color"
          }
         },
         "colorscale": [
          [
           0,
           "#0d0887"
          ],
          [
           0.1111111111111111,
           "#46039f"
          ],
          [
           0.2222222222222222,
           "#7201a8"
          ],
          [
           0.3333333333333333,
           "#9c179e"
          ],
          [
           0.4444444444444444,
           "#bd3786"
          ],
          [
           0.5555555555555556,
           "#d8576b"
          ],
          [
           0.6666666666666666,
           "#ed7953"
          ],
          [
           0.7777777777777778,
           "#fb9f3a"
          ],
          [
           0.8888888888888888,
           "#fdca26"
          ],
          [
           1,
           "#f0f921"
          ]
         ]
        },
        "legend": {
         "tracegroupgap": 0
        },
        "margin": {
         "t": 60
        },
        "template": {
         "data": {
          "bar": [
           {
            "error_x": {
             "color": "#2a3f5f"
            },
            "error_y": {
             "color": "#2a3f5f"
            },
            "marker": {
             "line": {
              "color": "#E5ECF6",
              "width": 0.5
             },
             "pattern": {
              "fillmode": "overlay",
              "size": 10,
              "solidity": 0.2
             }
            },
            "type": "bar"
           }
          ],
          "barpolar": [
           {
            "marker": {
             "line": {
              "color": "#E5ECF6",
              "width": 0.5
             },
             "pattern": {
              "fillmode": "overlay",
              "size": 10,
              "solidity": 0.2
             }
            },
            "type": "barpolar"
           }
          ],
          "carpet": [
           {
            "aaxis": {
             "endlinecolor": "#2a3f5f",
             "gridcolor": "white",
             "linecolor": "white",
             "minorgridcolor": "white",
             "startlinecolor": "#2a3f5f"
            },
            "baxis": {
             "endlinecolor": "#2a3f5f",
             "gridcolor": "white",
             "linecolor": "white",
             "minorgridcolor": "white",
             "startlinecolor": "#2a3f5f"
            },
            "type": "carpet"
           }
          ],
          "choropleth": [
           {
            "colorbar": {
             "outlinewidth": 0,
             "ticks": ""
            },
            "type": "choropleth"
           }
          ],
          "contour": [
           {
            "colorbar": {
             "outlinewidth": 0,
             "ticks": ""
            },
            "colorscale": [
             [
              0,
              "#0d0887"
             ],
             [
              0.1111111111111111,
              "#46039f"
             ],
             [
              0.2222222222222222,
              "#7201a8"
             ],
             [
              0.3333333333333333,
              "#9c179e"
             ],
             [
              0.4444444444444444,
              "#bd3786"
             ],
             [
              0.5555555555555556,
              "#d8576b"
             ],
             [
              0.6666666666666666,
              "#ed7953"
             ],
             [
              0.7777777777777778,
              "#fb9f3a"
             ],
             [
              0.8888888888888888,
              "#fdca26"
             ],
             [
              1,
              "#f0f921"
             ]
            ],
            "type": "contour"
           }
          ],
          "contourcarpet": [
           {
            "colorbar": {
             "outlinewidth": 0,
             "ticks": ""
            },
            "type": "contourcarpet"
           }
          ],
          "heatmap": [
           {
            "colorbar": {
             "outlinewidth": 0,
             "ticks": ""
            },
            "colorscale": [
             [
              0,
              "#0d0887"
             ],
             [
              0.1111111111111111,
              "#46039f"
             ],
             [
              0.2222222222222222,
              "#7201a8"
             ],
             [
              0.3333333333333333,
              "#9c179e"
             ],
             [
              0.4444444444444444,
              "#bd3786"
             ],
             [
              0.5555555555555556,
              "#d8576b"
             ],
             [
              0.6666666666666666,
              "#ed7953"
             ],
             [
              0.7777777777777778,
              "#fb9f3a"
             ],
             [
              0.8888888888888888,
              "#fdca26"
             ],
             [
              1,
              "#f0f921"
             ]
            ],
            "type": "heatmap"
           }
          ],
          "heatmapgl": [
           {
            "colorbar": {
             "outlinewidth": 0,
             "ticks": ""
            },
            "colorscale": [
             [
              0,
              "#0d0887"
             ],
             [
              0.1111111111111111,
              "#46039f"
             ],
             [
              0.2222222222222222,
              "#7201a8"
             ],
             [
              0.3333333333333333,
              "#9c179e"
             ],
             [
              0.4444444444444444,
              "#bd3786"
             ],
             [
              0.5555555555555556,
              "#d8576b"
             ],
             [
              0.6666666666666666,
              "#ed7953"
             ],
             [
              0.7777777777777778,
              "#fb9f3a"
             ],
             [
              0.8888888888888888,
              "#fdca26"
             ],
             [
              1,
              "#f0f921"
             ]
            ],
            "type": "heatmapgl"
           }
          ],
          "histogram": [
           {
            "marker": {
             "pattern": {
              "fillmode": "overlay",
              "size": 10,
              "solidity": 0.2
             }
            },
            "type": "histogram"
           }
          ],
          "histogram2d": [
           {
            "colorbar": {
             "outlinewidth": 0,
             "ticks": ""
            },
            "colorscale": [
             [
              0,
              "#0d0887"
             ],
             [
              0.1111111111111111,
              "#46039f"
             ],
             [
              0.2222222222222222,
              "#7201a8"
             ],
             [
              0.3333333333333333,
              "#9c179e"
             ],
             [
              0.4444444444444444,
              "#bd3786"
             ],
             [
              0.5555555555555556,
              "#d8576b"
             ],
             [
              0.6666666666666666,
              "#ed7953"
             ],
             [
              0.7777777777777778,
              "#fb9f3a"
             ],
             [
              0.8888888888888888,
              "#fdca26"
             ],
             [
              1,
              "#f0f921"
             ]
            ],
            "type": "histogram2d"
           }
          ],
          "histogram2dcontour": [
           {
            "colorbar": {
             "outlinewidth": 0,
             "ticks": ""
            },
            "colorscale": [
             [
              0,
              "#0d0887"
             ],
             [
              0.1111111111111111,
              "#46039f"
             ],
             [
              0.2222222222222222,
              "#7201a8"
             ],
             [
              0.3333333333333333,
              "#9c179e"
             ],
             [
              0.4444444444444444,
              "#bd3786"
             ],
             [
              0.5555555555555556,
              "#d8576b"
             ],
             [
              0.6666666666666666,
              "#ed7953"
             ],
             [
              0.7777777777777778,
              "#fb9f3a"
             ],
             [
              0.8888888888888888,
              "#fdca26"
             ],
             [
              1,
              "#f0f921"
             ]
            ],
            "type": "histogram2dcontour"
           }
          ],
          "mesh3d": [
           {
            "colorbar": {
             "outlinewidth": 0,
             "ticks": ""
            },
            "type": "mesh3d"
           }
          ],
          "parcoords": [
           {
            "line": {
             "colorbar": {
              "outlinewidth": 0,
              "ticks": ""
             }
            },
            "type": "parcoords"
           }
          ],
          "pie": [
           {
            "automargin": true,
            "type": "pie"
           }
          ],
          "scatter": [
           {
            "fillpattern": {
             "fillmode": "overlay",
             "size": 10,
             "solidity": 0.2
            },
            "type": "scatter"
           }
          ],
          "scatter3d": [
           {
            "line": {
             "colorbar": {
              "outlinewidth": 0,
              "ticks": ""
             }
            },
            "marker": {
             "colorbar": {
              "outlinewidth": 0,
              "ticks": ""
             }
            },
            "type": "scatter3d"
           }
          ],
          "scattercarpet": [
           {
            "marker": {
             "colorbar": {
              "outlinewidth": 0,
              "ticks": ""
             }
            },
            "type": "scattercarpet"
           }
          ],
          "scattergeo": [
           {
            "marker": {
             "colorbar": {
              "outlinewidth": 0,
              "ticks": ""
             }
            },
            "type": "scattergeo"
           }
          ],
          "scattergl": [
           {
            "marker": {
             "colorbar": {
              "outlinewidth": 0,
              "ticks": ""
             }
            },
            "type": "scattergl"
           }
          ],
          "scattermapbox": [
           {
            "marker": {
             "colorbar": {
              "outlinewidth": 0,
              "ticks": ""
             }
            },
            "type": "scattermapbox"
           }
          ],
          "scatterpolar": [
           {
            "marker": {
             "colorbar": {
              "outlinewidth": 0,
              "ticks": ""
             }
            },
            "type": "scatterpolar"
           }
          ],
          "scatterpolargl": [
           {
            "marker": {
             "colorbar": {
              "outlinewidth": 0,
              "ticks": ""
             }
            },
            "type": "scatterpolargl"
           }
          ],
          "scatterternary": [
           {
            "marker": {
             "colorbar": {
              "outlinewidth": 0,
              "ticks": ""
             }
            },
            "type": "scatterternary"
           }
          ],
          "surface": [
           {
            "colorbar": {
             "outlinewidth": 0,
             "ticks": ""
            },
            "colorscale": [
             [
              0,
              "#0d0887"
             ],
             [
              0.1111111111111111,
              "#46039f"
             ],
             [
              0.2222222222222222,
              "#7201a8"
             ],
             [
              0.3333333333333333,
              "#9c179e"
             ],
             [
              0.4444444444444444,
              "#bd3786"
             ],
             [
              0.5555555555555556,
              "#d8576b"
             ],
             [
              0.6666666666666666,
              "#ed7953"
             ],
             [
              0.7777777777777778,
              "#fb9f3a"
             ],
             [
              0.8888888888888888,
              "#fdca26"
             ],
             [
              1,
              "#f0f921"
             ]
            ],
            "type": "surface"
           }
          ],
          "table": [
           {
            "cells": {
             "fill": {
              "color": "#EBF0F8"
             },
             "line": {
              "color": "white"
             }
            },
            "header": {
             "fill": {
              "color": "#C8D4E3"
             },
             "line": {
              "color": "white"
             }
            },
            "type": "table"
           }
          ]
         },
         "layout": {
          "annotationdefaults": {
           "arrowcolor": "#2a3f5f",
           "arrowhead": 0,
           "arrowwidth": 1
          },
          "autotypenumbers": "strict",
          "coloraxis": {
           "colorbar": {
            "outlinewidth": 0,
            "ticks": ""
           }
          },
          "colorscale": {
           "diverging": [
            [
             0,
             "#8e0152"
            ],
            [
             0.1,
             "#c51b7d"
            ],
            [
             0.2,
             "#de77ae"
            ],
            [
             0.3,
             "#f1b6da"
            ],
            [
             0.4,
             "#fde0ef"
            ],
            [
             0.5,
             "#f7f7f7"
            ],
            [
             0.6,
             "#e6f5d0"
            ],
            [
             0.7,
             "#b8e186"
            ],
            [
             0.8,
             "#7fbc41"
            ],
            [
             0.9,
             "#4d9221"
            ],
            [
             1,
             "#276419"
            ]
           ],
           "sequential": [
            [
             0,
             "#0d0887"
            ],
            [
             0.1111111111111111,
             "#46039f"
            ],
            [
             0.2222222222222222,
             "#7201a8"
            ],
            [
             0.3333333333333333,
             "#9c179e"
            ],
            [
             0.4444444444444444,
             "#bd3786"
            ],
            [
             0.5555555555555556,
             "#d8576b"
            ],
            [
             0.6666666666666666,
             "#ed7953"
            ],
            [
             0.7777777777777778,
             "#fb9f3a"
            ],
            [
             0.8888888888888888,
             "#fdca26"
            ],
            [
             1,
             "#f0f921"
            ]
           ],
           "sequentialminus": [
            [
             0,
             "#0d0887"
            ],
            [
             0.1111111111111111,
             "#46039f"
            ],
            [
             0.2222222222222222,
             "#7201a8"
            ],
            [
             0.3333333333333333,
             "#9c179e"
            ],
            [
             0.4444444444444444,
             "#bd3786"
            ],
            [
             0.5555555555555556,
             "#d8576b"
            ],
            [
             0.6666666666666666,
             "#ed7953"
            ],
            [
             0.7777777777777778,
             "#fb9f3a"
            ],
            [
             0.8888888888888888,
             "#fdca26"
            ],
            [
             1,
             "#f0f921"
            ]
           ]
          },
          "colorway": [
           "#636efa",
           "#EF553B",
           "#00cc96",
           "#ab63fa",
           "#FFA15A",
           "#19d3f3",
           "#FF6692",
           "#B6E880",
           "#FF97FF",
           "#FECB52"
          ],
          "font": {
           "color": "#2a3f5f"
          },
          "geo": {
           "bgcolor": "white",
           "lakecolor": "white",
           "landcolor": "#E5ECF6",
           "showlakes": true,
           "showland": true,
           "subunitcolor": "white"
          },
          "hoverlabel": {
           "align": "left"
          },
          "hovermode": "closest",
          "mapbox": {
           "style": "light"
          },
          "paper_bgcolor": "white",
          "plot_bgcolor": "#E5ECF6",
          "polar": {
           "angularaxis": {
            "gridcolor": "white",
            "linecolor": "white",
            "ticks": ""
           },
           "bgcolor": "#E5ECF6",
           "radialaxis": {
            "gridcolor": "white",
            "linecolor": "white",
            "ticks": ""
           }
          },
          "scene": {
           "xaxis": {
            "backgroundcolor": "#E5ECF6",
            "gridcolor": "white",
            "gridwidth": 2,
            "linecolor": "white",
            "showbackground": true,
            "ticks": "",
            "zerolinecolor": "white"
           },
           "yaxis": {
            "backgroundcolor": "#E5ECF6",
            "gridcolor": "white",
            "gridwidth": 2,
            "linecolor": "white",
            "showbackground": true,
            "ticks": "",
            "zerolinecolor": "white"
           },
           "zaxis": {
            "backgroundcolor": "#E5ECF6",
            "gridcolor": "white",
            "gridwidth": 2,
            "linecolor": "white",
            "showbackground": true,
            "ticks": "",
            "zerolinecolor": "white"
           }
          },
          "shapedefaults": {
           "line": {
            "color": "#2a3f5f"
           }
          },
          "ternary": {
           "aaxis": {
            "gridcolor": "white",
            "linecolor": "white",
            "ticks": ""
           },
           "baxis": {
            "gridcolor": "white",
            "linecolor": "white",
            "ticks": ""
           },
           "bgcolor": "#E5ECF6",
           "caxis": {
            "gridcolor": "white",
            "linecolor": "white",
            "ticks": ""
           }
          },
          "title": {
           "x": 0.05
          },
          "xaxis": {
           "automargin": true,
           "gridcolor": "white",
           "linecolor": "white",
           "ticks": "",
           "title": {
            "standoff": 15
           },
           "zerolinecolor": "white",
           "zerolinewidth": 2
          },
          "yaxis": {
           "automargin": true,
           "gridcolor": "white",
           "linecolor": "white",
           "ticks": "",
           "title": {
            "standoff": 15
           },
           "zerolinecolor": "white",
           "zerolinewidth": 2
          }
         }
        },
        "xaxis": {
         "anchor": "y",
         "domain": [
          0,
          1
         ],
         "title": {
          "text": "x"
         }
        },
        "yaxis": {
         "anchor": "x",
         "domain": [
          0,
          1
         ],
         "title": {
          "text": "y"
         }
        }
       }
      }
     },
     "metadata": {},
     "output_type": "display_data"
    }
   ],
   "source": [
    "'''\n",
    "Clustering of features using DBSCAN\n",
    "'''\n",
    "X = big_data.values\n",
    "y = labels\n",
    "# X, X_attrs, y, y_attrs = normalise(X, y)\n",
    "dbs = DBSCAN(eps = 2.5, min_samples= 2).fit(X)\n",
    "# plt.scatter(X[:, 1], X[:, 4], c= dbs.labels_)\n",
    "scatter2d(X, dbs.labels_)"
   ]
  },
  {
   "cell_type": "code",
   "execution_count": 99,
   "metadata": {},
   "outputs": [
    {
     "data": {
      "application/vnd.plotly.v1+json": {
       "config": {
        "plotlyServerURL": "https://plot.ly"
       },
       "data": [
        {
         "hovertemplate": "x=%{x}<br>y=%{y}<br>color=%{marker.color}<extra></extra>",
         "legendgroup": "",
         "marker": {
          "color": [
           0,
           0,
           0,
           0,
           0,
           0,
           0,
           0,
           0,
           0,
           0,
           0,
           0,
           0,
           0,
           1,
           1,
           1,
           1,
           1,
           1,
           1,
           1,
           1,
           1,
           1,
           1,
           1,
           1,
           1,
           2,
           2,
           2,
           2,
           2,
           2,
           2,
           2,
           2,
           2,
           2,
           2,
           2,
           2,
           2,
           3,
           3,
           3,
           3,
           3,
           3,
           3,
           3,
           3,
           3,
           3,
           3,
           3,
           3,
           3,
           4,
           4,
           4,
           4,
           4,
           4,
           4,
           4,
           4,
           4,
           4,
           4,
           4,
           4,
           4
          ],
          "coloraxis": "coloraxis",
          "symbol": "circle"
         },
         "mode": "markers",
         "name": "",
         "orientation": "v",
         "showlegend": false,
         "type": "scatter",
         "x": [
          1.5304434744879767,
          2.2475424995473023,
          -2.5802943874419006,
          1.8719196700099248,
          1.5464560618212608,
          0.7795546679950591,
          0.5178662766104182,
          3.9566126734973395,
          1.9058756320450396,
          -2.9435785840841175,
          -2.8853420831408054,
          1.8803394695996505,
          -1.5795573942446888,
          -1.5774477070980355,
          0.027482960809377087,
          1.276387940721336,
          1.9704103305392218,
          -2.6090235407656035,
          1.625817608829174,
          1.217808554316319,
          0.8683568005290406,
          -0.2799750652179457,
          3.9135991166326547,
          1.5880986093592688,
          -2.949973778923924,
          -2.868784312414262,
          3.0283377512233263,
          -1.7717184617314605,
          -1.7901081997501813,
          -0.24153853272236558,
          0.9928856600190843,
          0.9549745880273371,
          2.048312376706229,
          0.03676953718541632,
          -0.4603824847341579,
          -0.02514326912505395,
          -1.4853280734516168,
          -1.515383875198472,
          -0.21018916834245838,
          1.2979650456727116,
          1.5827312081003924,
          0.5980640659767127,
          -0.3520485304469767,
          -0.08035031226946562,
          -0.2375851713470108,
          -2.5793334474645095,
          -1.6279186679193203,
          -1.198983372538182,
          -1.4341701395691788,
          -0.8789721854764455,
          -2.470029942039481,
          2.8735301043699413,
          -0.436754593272602,
          -0.6144326092223277,
          0.16857967839733215,
          -0.4751538470870744,
          -2.2675905111641796,
          0.15058697442870125,
          -1.8958328662753794,
          3.2268256376745357,
          -1.8996998158127134,
          -0.5719915752582637,
          -2.170918352997075,
          3.0700102330592207,
          -0.20198979806461856,
          -0.3431454299441137,
          3.9566126734973404,
          1.6488210295222356,
          -1.0946693662108329,
          -2.0197529684446365,
          -1.03251214330743,
          -0.7409275845513643,
          1.365556127544432,
          -2.957193648294707,
          1.63059075860962
         ],
         "xaxis": "x",
         "y": [
          -0.5355676023405989,
          -0.542778107854004,
          0.1171812861795834,
          -0.5040864418030035,
          -0.6283203255103036,
          -0.4480067983003316,
          -0.9589435162444627,
          0.214134384411612,
          -0.8788299314261465,
          0.07127522131104823,
          0.07460684637726919,
          -0.5871190993848452,
          -0.3392186580015073,
          -0.20418665810713002,
          -0.5108310836449184,
          -0.32064202307821166,
          -0.45093110983071816,
          0.1251969483707954,
          -0.3460434057492332,
          -0.44902826555414127,
          -0.33724098384344875,
          -0.7152704936726797,
          0.23856711461402946,
          -0.6723241440114403,
          0.07593829197374245,
          0.0725528860514415,
          -0.5231355441471247,
          -0.2911209995705914,
          -0.136646045726731,
          -0.3582040368802906,
          1.1657876388063655,
          0.838735386279812,
          -0.02137584757668841,
          0.26720207318047995,
          0.7745495045386319,
          1.2209862012063737,
          -1.4977106150296156,
          0.7312721895891976,
          0.14788655037073653,
          0.39333785097276786,
          0.006883566712204905,
          1.3405393880119305,
          0.1938207691550729,
          0.48600903495409725,
          0.15669483873296622,
          0.3494400206865846,
          -0.06937309702208075,
          -1.1100724496413388,
          0.12332340038557797,
          0.10364054099148855,
          -0.5154122707145352,
          1.5887784942293806,
          -0.9305802651579582,
          0.6122338691549594,
          -1.4301861318662112,
          -1.0378476698668029,
          0.31768047083324125,
          -0.5109998377599456,
          0.2777385459467482,
          -0.34847451526301465,
          0.364415752610024,
          0.34593502645707486,
          0.034701015301905336,
          0.4462081133440662,
          0.4498096657708895,
          0.3258444940878633,
          0.21413438441161106,
          0.9729125559161731,
          0.564172095507071,
          0.2882548193960698,
          0.32147405911624516,
          0.2806607227066148,
          0.11821841069409825,
          0.07769251674827476,
          1.3200810284839373
         ],
         "yaxis": "y"
        }
       ],
       "layout": {
        "coloraxis": {
         "colorbar": {
          "title": {
           "text": "color"
          }
         },
         "colorscale": [
          [
           0,
           "#0d0887"
          ],
          [
           0.1111111111111111,
           "#46039f"
          ],
          [
           0.2222222222222222,
           "#7201a8"
          ],
          [
           0.3333333333333333,
           "#9c179e"
          ],
          [
           0.4444444444444444,
           "#bd3786"
          ],
          [
           0.5555555555555556,
           "#d8576b"
          ],
          [
           0.6666666666666666,
           "#ed7953"
          ],
          [
           0.7777777777777778,
           "#fb9f3a"
          ],
          [
           0.8888888888888888,
           "#fdca26"
          ],
          [
           1,
           "#f0f921"
          ]
         ]
        },
        "legend": {
         "tracegroupgap": 0
        },
        "margin": {
         "t": 60
        },
        "template": {
         "data": {
          "bar": [
           {
            "error_x": {
             "color": "#2a3f5f"
            },
            "error_y": {
             "color": "#2a3f5f"
            },
            "marker": {
             "line": {
              "color": "#E5ECF6",
              "width": 0.5
             },
             "pattern": {
              "fillmode": "overlay",
              "size": 10,
              "solidity": 0.2
             }
            },
            "type": "bar"
           }
          ],
          "barpolar": [
           {
            "marker": {
             "line": {
              "color": "#E5ECF6",
              "width": 0.5
             },
             "pattern": {
              "fillmode": "overlay",
              "size": 10,
              "solidity": 0.2
             }
            },
            "type": "barpolar"
           }
          ],
          "carpet": [
           {
            "aaxis": {
             "endlinecolor": "#2a3f5f",
             "gridcolor": "white",
             "linecolor": "white",
             "minorgridcolor": "white",
             "startlinecolor": "#2a3f5f"
            },
            "baxis": {
             "endlinecolor": "#2a3f5f",
             "gridcolor": "white",
             "linecolor": "white",
             "minorgridcolor": "white",
             "startlinecolor": "#2a3f5f"
            },
            "type": "carpet"
           }
          ],
          "choropleth": [
           {
            "colorbar": {
             "outlinewidth": 0,
             "ticks": ""
            },
            "type": "choropleth"
           }
          ],
          "contour": [
           {
            "colorbar": {
             "outlinewidth": 0,
             "ticks": ""
            },
            "colorscale": [
             [
              0,
              "#0d0887"
             ],
             [
              0.1111111111111111,
              "#46039f"
             ],
             [
              0.2222222222222222,
              "#7201a8"
             ],
             [
              0.3333333333333333,
              "#9c179e"
             ],
             [
              0.4444444444444444,
              "#bd3786"
             ],
             [
              0.5555555555555556,
              "#d8576b"
             ],
             [
              0.6666666666666666,
              "#ed7953"
             ],
             [
              0.7777777777777778,
              "#fb9f3a"
             ],
             [
              0.8888888888888888,
              "#fdca26"
             ],
             [
              1,
              "#f0f921"
             ]
            ],
            "type": "contour"
           }
          ],
          "contourcarpet": [
           {
            "colorbar": {
             "outlinewidth": 0,
             "ticks": ""
            },
            "type": "contourcarpet"
           }
          ],
          "heatmap": [
           {
            "colorbar": {
             "outlinewidth": 0,
             "ticks": ""
            },
            "colorscale": [
             [
              0,
              "#0d0887"
             ],
             [
              0.1111111111111111,
              "#46039f"
             ],
             [
              0.2222222222222222,
              "#7201a8"
             ],
             [
              0.3333333333333333,
              "#9c179e"
             ],
             [
              0.4444444444444444,
              "#bd3786"
             ],
             [
              0.5555555555555556,
              "#d8576b"
             ],
             [
              0.6666666666666666,
              "#ed7953"
             ],
             [
              0.7777777777777778,
              "#fb9f3a"
             ],
             [
              0.8888888888888888,
              "#fdca26"
             ],
             [
              1,
              "#f0f921"
             ]
            ],
            "type": "heatmap"
           }
          ],
          "heatmapgl": [
           {
            "colorbar": {
             "outlinewidth": 0,
             "ticks": ""
            },
            "colorscale": [
             [
              0,
              "#0d0887"
             ],
             [
              0.1111111111111111,
              "#46039f"
             ],
             [
              0.2222222222222222,
              "#7201a8"
             ],
             [
              0.3333333333333333,
              "#9c179e"
             ],
             [
              0.4444444444444444,
              "#bd3786"
             ],
             [
              0.5555555555555556,
              "#d8576b"
             ],
             [
              0.6666666666666666,
              "#ed7953"
             ],
             [
              0.7777777777777778,
              "#fb9f3a"
             ],
             [
              0.8888888888888888,
              "#fdca26"
             ],
             [
              1,
              "#f0f921"
             ]
            ],
            "type": "heatmapgl"
           }
          ],
          "histogram": [
           {
            "marker": {
             "pattern": {
              "fillmode": "overlay",
              "size": 10,
              "solidity": 0.2
             }
            },
            "type": "histogram"
           }
          ],
          "histogram2d": [
           {
            "colorbar": {
             "outlinewidth": 0,
             "ticks": ""
            },
            "colorscale": [
             [
              0,
              "#0d0887"
             ],
             [
              0.1111111111111111,
              "#46039f"
             ],
             [
              0.2222222222222222,
              "#7201a8"
             ],
             [
              0.3333333333333333,
              "#9c179e"
             ],
             [
              0.4444444444444444,
              "#bd3786"
             ],
             [
              0.5555555555555556,
              "#d8576b"
             ],
             [
              0.6666666666666666,
              "#ed7953"
             ],
             [
              0.7777777777777778,
              "#fb9f3a"
             ],
             [
              0.8888888888888888,
              "#fdca26"
             ],
             [
              1,
              "#f0f921"
             ]
            ],
            "type": "histogram2d"
           }
          ],
          "histogram2dcontour": [
           {
            "colorbar": {
             "outlinewidth": 0,
             "ticks": ""
            },
            "colorscale": [
             [
              0,
              "#0d0887"
             ],
             [
              0.1111111111111111,
              "#46039f"
             ],
             [
              0.2222222222222222,
              "#7201a8"
             ],
             [
              0.3333333333333333,
              "#9c179e"
             ],
             [
              0.4444444444444444,
              "#bd3786"
             ],
             [
              0.5555555555555556,
              "#d8576b"
             ],
             [
              0.6666666666666666,
              "#ed7953"
             ],
             [
              0.7777777777777778,
              "#fb9f3a"
             ],
             [
              0.8888888888888888,
              "#fdca26"
             ],
             [
              1,
              "#f0f921"
             ]
            ],
            "type": "histogram2dcontour"
           }
          ],
          "mesh3d": [
           {
            "colorbar": {
             "outlinewidth": 0,
             "ticks": ""
            },
            "type": "mesh3d"
           }
          ],
          "parcoords": [
           {
            "line": {
             "colorbar": {
              "outlinewidth": 0,
              "ticks": ""
             }
            },
            "type": "parcoords"
           }
          ],
          "pie": [
           {
            "automargin": true,
            "type": "pie"
           }
          ],
          "scatter": [
           {
            "fillpattern": {
             "fillmode": "overlay",
             "size": 10,
             "solidity": 0.2
            },
            "type": "scatter"
           }
          ],
          "scatter3d": [
           {
            "line": {
             "colorbar": {
              "outlinewidth": 0,
              "ticks": ""
             }
            },
            "marker": {
             "colorbar": {
              "outlinewidth": 0,
              "ticks": ""
             }
            },
            "type": "scatter3d"
           }
          ],
          "scattercarpet": [
           {
            "marker": {
             "colorbar": {
              "outlinewidth": 0,
              "ticks": ""
             }
            },
            "type": "scattercarpet"
           }
          ],
          "scattergeo": [
           {
            "marker": {
             "colorbar": {
              "outlinewidth": 0,
              "ticks": ""
             }
            },
            "type": "scattergeo"
           }
          ],
          "scattergl": [
           {
            "marker": {
             "colorbar": {
              "outlinewidth": 0,
              "ticks": ""
             }
            },
            "type": "scattergl"
           }
          ],
          "scattermapbox": [
           {
            "marker": {
             "colorbar": {
              "outlinewidth": 0,
              "ticks": ""
             }
            },
            "type": "scattermapbox"
           }
          ],
          "scatterpolar": [
           {
            "marker": {
             "colorbar": {
              "outlinewidth": 0,
              "ticks": ""
             }
            },
            "type": "scatterpolar"
           }
          ],
          "scatterpolargl": [
           {
            "marker": {
             "colorbar": {
              "outlinewidth": 0,
              "ticks": ""
             }
            },
            "type": "scatterpolargl"
           }
          ],
          "scatterternary": [
           {
            "marker": {
             "colorbar": {
              "outlinewidth": 0,
              "ticks": ""
             }
            },
            "type": "scatterternary"
           }
          ],
          "surface": [
           {
            "colorbar": {
             "outlinewidth": 0,
             "ticks": ""
            },
            "colorscale": [
             [
              0,
              "#0d0887"
             ],
             [
              0.1111111111111111,
              "#46039f"
             ],
             [
              0.2222222222222222,
              "#7201a8"
             ],
             [
              0.3333333333333333,
              "#9c179e"
             ],
             [
              0.4444444444444444,
              "#bd3786"
             ],
             [
              0.5555555555555556,
              "#d8576b"
             ],
             [
              0.6666666666666666,
              "#ed7953"
             ],
             [
              0.7777777777777778,
              "#fb9f3a"
             ],
             [
              0.8888888888888888,
              "#fdca26"
             ],
             [
              1,
              "#f0f921"
             ]
            ],
            "type": "surface"
           }
          ],
          "table": [
           {
            "cells": {
             "fill": {
              "color": "#EBF0F8"
             },
             "line": {
              "color": "white"
             }
            },
            "header": {
             "fill": {
              "color": "#C8D4E3"
             },
             "line": {
              "color": "white"
             }
            },
            "type": "table"
           }
          ]
         },
         "layout": {
          "annotationdefaults": {
           "arrowcolor": "#2a3f5f",
           "arrowhead": 0,
           "arrowwidth": 1
          },
          "autotypenumbers": "strict",
          "coloraxis": {
           "colorbar": {
            "outlinewidth": 0,
            "ticks": ""
           }
          },
          "colorscale": {
           "diverging": [
            [
             0,
             "#8e0152"
            ],
            [
             0.1,
             "#c51b7d"
            ],
            [
             0.2,
             "#de77ae"
            ],
            [
             0.3,
             "#f1b6da"
            ],
            [
             0.4,
             "#fde0ef"
            ],
            [
             0.5,
             "#f7f7f7"
            ],
            [
             0.6,
             "#e6f5d0"
            ],
            [
             0.7,
             "#b8e186"
            ],
            [
             0.8,
             "#7fbc41"
            ],
            [
             0.9,
             "#4d9221"
            ],
            [
             1,
             "#276419"
            ]
           ],
           "sequential": [
            [
             0,
             "#0d0887"
            ],
            [
             0.1111111111111111,
             "#46039f"
            ],
            [
             0.2222222222222222,
             "#7201a8"
            ],
            [
             0.3333333333333333,
             "#9c179e"
            ],
            [
             0.4444444444444444,
             "#bd3786"
            ],
            [
             0.5555555555555556,
             "#d8576b"
            ],
            [
             0.6666666666666666,
             "#ed7953"
            ],
            [
             0.7777777777777778,
             "#fb9f3a"
            ],
            [
             0.8888888888888888,
             "#fdca26"
            ],
            [
             1,
             "#f0f921"
            ]
           ],
           "sequentialminus": [
            [
             0,
             "#0d0887"
            ],
            [
             0.1111111111111111,
             "#46039f"
            ],
            [
             0.2222222222222222,
             "#7201a8"
            ],
            [
             0.3333333333333333,
             "#9c179e"
            ],
            [
             0.4444444444444444,
             "#bd3786"
            ],
            [
             0.5555555555555556,
             "#d8576b"
            ],
            [
             0.6666666666666666,
             "#ed7953"
            ],
            [
             0.7777777777777778,
             "#fb9f3a"
            ],
            [
             0.8888888888888888,
             "#fdca26"
            ],
            [
             1,
             "#f0f921"
            ]
           ]
          },
          "colorway": [
           "#636efa",
           "#EF553B",
           "#00cc96",
           "#ab63fa",
           "#FFA15A",
           "#19d3f3",
           "#FF6692",
           "#B6E880",
           "#FF97FF",
           "#FECB52"
          ],
          "font": {
           "color": "#2a3f5f"
          },
          "geo": {
           "bgcolor": "white",
           "lakecolor": "white",
           "landcolor": "#E5ECF6",
           "showlakes": true,
           "showland": true,
           "subunitcolor": "white"
          },
          "hoverlabel": {
           "align": "left"
          },
          "hovermode": "closest",
          "mapbox": {
           "style": "light"
          },
          "paper_bgcolor": "white",
          "plot_bgcolor": "#E5ECF6",
          "polar": {
           "angularaxis": {
            "gridcolor": "white",
            "linecolor": "white",
            "ticks": ""
           },
           "bgcolor": "#E5ECF6",
           "radialaxis": {
            "gridcolor": "white",
            "linecolor": "white",
            "ticks": ""
           }
          },
          "scene": {
           "xaxis": {
            "backgroundcolor": "#E5ECF6",
            "gridcolor": "white",
            "gridwidth": 2,
            "linecolor": "white",
            "showbackground": true,
            "ticks": "",
            "zerolinecolor": "white"
           },
           "yaxis": {
            "backgroundcolor": "#E5ECF6",
            "gridcolor": "white",
            "gridwidth": 2,
            "linecolor": "white",
            "showbackground": true,
            "ticks": "",
            "zerolinecolor": "white"
           },
           "zaxis": {
            "backgroundcolor": "#E5ECF6",
            "gridcolor": "white",
            "gridwidth": 2,
            "linecolor": "white",
            "showbackground": true,
            "ticks": "",
            "zerolinecolor": "white"
           }
          },
          "shapedefaults": {
           "line": {
            "color": "#2a3f5f"
           }
          },
          "ternary": {
           "aaxis": {
            "gridcolor": "white",
            "linecolor": "white",
            "ticks": ""
           },
           "baxis": {
            "gridcolor": "white",
            "linecolor": "white",
            "ticks": ""
           },
           "bgcolor": "#E5ECF6",
           "caxis": {
            "gridcolor": "white",
            "linecolor": "white",
            "ticks": ""
           }
          },
          "title": {
           "x": 0.05
          },
          "xaxis": {
           "automargin": true,
           "gridcolor": "white",
           "linecolor": "white",
           "ticks": "",
           "title": {
            "standoff": 15
           },
           "zerolinecolor": "white",
           "zerolinewidth": 2
          },
          "yaxis": {
           "automargin": true,
           "gridcolor": "white",
           "linecolor": "white",
           "ticks": "",
           "title": {
            "standoff": 15
           },
           "zerolinecolor": "white",
           "zerolinewidth": 2
          }
         }
        },
        "xaxis": {
         "anchor": "y",
         "domain": [
          0,
          1
         ],
         "title": {
          "text": "x"
         }
        },
        "yaxis": {
         "anchor": "x",
         "domain": [
          0,
          1
         ],
         "title": {
          "text": "y"
         }
        }
       }
      }
     },
     "metadata": {},
     "output_type": "display_data"
    }
   ],
   "source": [
    "'''\n",
    "PCA\n",
    "'''\n",
    "X = big_data.values\n",
    "y = labels\n",
    "\n",
    "pca = PCA(n_components=2, svd_solver='full')\n",
    "X_r = pca.fit_transform(X)\n",
    "\n",
    "scatter2d(X_r, labels)"
   ]
  },
  {
   "cell_type": "code",
   "execution_count": 100,
   "metadata": {},
   "outputs": [
    {
     "name": "stderr",
     "output_type": "stream",
     "text": [
      "C:\\Users\\crisp\\anaconda3\\envs\\ads\\lib\\site-packages\\sklearn\\manifold\\_t_sne.py:780: FutureWarning:\n",
      "\n",
      "The default initialization in TSNE will change from 'random' to 'pca' in 1.2.\n",
      "\n",
      "C:\\Users\\crisp\\anaconda3\\envs\\ads\\lib\\site-packages\\sklearn\\manifold\\_t_sne.py:790: FutureWarning:\n",
      "\n",
      "The default learning rate in TSNE will change from 200.0 to 'auto' in 1.2.\n",
      "\n"
     ]
    },
    {
     "data": {
      "application/vnd.plotly.v1+json": {
       "config": {
        "plotlyServerURL": "https://plot.ly"
       },
       "data": [
        {
         "hovertemplate": "x=%{x}<br>y=%{y}<br>color=%{marker.color}<extra></extra>",
         "legendgroup": "",
         "marker": {
          "color": [
           0,
           0,
           0,
           0,
           0,
           0,
           0,
           0,
           0,
           0,
           0,
           0,
           0,
           0,
           0,
           1,
           1,
           1,
           1,
           1,
           1,
           1,
           1,
           1,
           1,
           1,
           1,
           1,
           1,
           1,
           2,
           2,
           2,
           2,
           2,
           2,
           2,
           2,
           2,
           2,
           2,
           2,
           2,
           2,
           2,
           3,
           3,
           3,
           3,
           3,
           3,
           3,
           3,
           3,
           3,
           3,
           3,
           3,
           3,
           3,
           4,
           4,
           4,
           4,
           4,
           4,
           4,
           4,
           4,
           4,
           4,
           4,
           4,
           4,
           4
          ],
          "coloraxis": "coloraxis",
          "symbol": "circle"
         },
         "mode": "markers",
         "name": "",
         "orientation": "v",
         "showlegend": false,
         "type": "scatter",
         "x": [
          5.154465198516846,
          4.254970073699951,
          12.708043098449707,
          4.615024566650391,
          5.175682067871094,
          6.199950695037842,
          6.736405372619629,
          2.787464141845703,
          4.716219425201416,
          13.27684211730957,
          13.18785285949707,
          4.634783744812012,
          11.244975090026855,
          11.266212463378906,
          7.751955986022949,
          5.412078857421875,
          4.48130464553833,
          12.759171485900879,
          4.914186954498291,
          5.569013595581055,
          6.025973796844482,
          8.074509620666504,
          2.7909395694732666,
          5.129952907562256,
          13.254152297973633,
          13.095186233520508,
          3.6143569946289062,
          11.6372652053833,
          11.690936088562012,
          8.322115898132324,
          6.867440223693848,
          5.983704090118408,
          3.8163890838623047,
          7.796583652496338,
          8.32327651977539,
          7.832938194274902,
          9.616813659667969,
          11.336321830749512,
          8.141700744628906,
          4.788717746734619,
          4.66019868850708,
          7.3626708984375,
          8.320863723754883,
          8.415242195129395,
          8.803040504455566,
          12.84547233581543,
          11.397703170776367,
          9.420513153076172,
          11.117949485778809,
          10.26014518737793,
          12.673901557922363,
          2.9788401126861572,
          8.391458511352539,
          10.001420974731445,
          7.847261428833008,
          8.631682395935059,
          12.451799392700195,
          7.315016269683838,
          11.957249641418457,
          3.3521947860717773,
          11.926628112792969,
          9.591733932495117,
          12.221521377563477,
          3.178685426712036,
          9.223932266235352,
          9.151296615600586,
          2.777090311050415,
          4.148924350738525,
          10.574443817138672,
          12.10071086883545,
          10.4030179977417,
          9.88686466217041,
          5.0656023025512695,
          13.323051452636719,
          4.0593037605285645
         ],
         "xaxis": "x",
         "y": [
          -1.0603150129318237,
          -1.394054889678955,
          -1.4366873502731323,
          -1.0838792324066162,
          -1.2952501773834229,
          -0.9518240094184875,
          -1.3428524732589722,
          -1.1805620193481445,
          -1.6498178243637085,
          -0.9587392210960388,
          -0.8507945537567139,
          -1.2770967483520508,
          -1.42790687084198,
          -1.3080899715423584,
          -0.9885066151618958,
          -0.7066770792007446,
          -1.0186679363250732,
          -1.2937397956848145,
          -0.7744344472885132,
          -0.9325427412986755,
          -0.8136367797851562,
          -1.1977035999298096,
          -1.143816590309143,
          -1.3901818990707397,
          -1.504725456237793,
          -1.5669118165969849,
          -1.5176814794540405,
          -1.4840284585952759,
          -1.3674830198287964,
          -0.8803762793540955,
          1.3409044742584229,
          0.8554219007492065,
          -0.26989731192588806,
          0.45586422085762024,
          1.209068775177002,
          1.4372514486312866,
          -2.7173986434936523,
          -2.1886606216430664,
          0.4489796459674835,
          0.9411500692367554,
          0.25484779477119446,
          1.6288933753967285,
          0.12782037258148193,
          1.222765564918518,
          0.639811635017395,
          -0.6341736912727356,
          -0.9067598581314087,
          -2.411591053009033,
          -0.7027125358581543,
          -0.7421395778656006,
          -2.092381477355957,
          -0.11751766502857208,
          -1.6559768915176392,
          -0.16818758845329285,
          -2.201633930206299,
          -2.1445093154907227,
          -0.8355855941772461,
          -1.0769416093826294,
          -0.7203816175460815,
          -1.3982681035995483,
          -0.6543805003166199,
          -0.3803170919418335,
          -1.431815505027771,
          -0.7774222493171692,
          -0.252553790807724,
          -0.32299643754959106,
          -1.174945592880249,
          0.41615766286849976,
          -0.38069334626197815,
          -0.865003764629364,
          -0.6174255609512329,
          -0.5121670365333557,
          -0.2369517832994461,
          -1.2230685949325562,
          0.5257717370986938
         ],
         "yaxis": "y"
        }
       ],
       "layout": {
        "coloraxis": {
         "colorbar": {
          "title": {
           "text": "color"
          }
         },
         "colorscale": [
          [
           0,
           "#0d0887"
          ],
          [
           0.1111111111111111,
           "#46039f"
          ],
          [
           0.2222222222222222,
           "#7201a8"
          ],
          [
           0.3333333333333333,
           "#9c179e"
          ],
          [
           0.4444444444444444,
           "#bd3786"
          ],
          [
           0.5555555555555556,
           "#d8576b"
          ],
          [
           0.6666666666666666,
           "#ed7953"
          ],
          [
           0.7777777777777778,
           "#fb9f3a"
          ],
          [
           0.8888888888888888,
           "#fdca26"
          ],
          [
           1,
           "#f0f921"
          ]
         ]
        },
        "legend": {
         "tracegroupgap": 0
        },
        "margin": {
         "t": 60
        },
        "template": {
         "data": {
          "bar": [
           {
            "error_x": {
             "color": "#2a3f5f"
            },
            "error_y": {
             "color": "#2a3f5f"
            },
            "marker": {
             "line": {
              "color": "#E5ECF6",
              "width": 0.5
             },
             "pattern": {
              "fillmode": "overlay",
              "size": 10,
              "solidity": 0.2
             }
            },
            "type": "bar"
           }
          ],
          "barpolar": [
           {
            "marker": {
             "line": {
              "color": "#E5ECF6",
              "width": 0.5
             },
             "pattern": {
              "fillmode": "overlay",
              "size": 10,
              "solidity": 0.2
             }
            },
            "type": "barpolar"
           }
          ],
          "carpet": [
           {
            "aaxis": {
             "endlinecolor": "#2a3f5f",
             "gridcolor": "white",
             "linecolor": "white",
             "minorgridcolor": "white",
             "startlinecolor": "#2a3f5f"
            },
            "baxis": {
             "endlinecolor": "#2a3f5f",
             "gridcolor": "white",
             "linecolor": "white",
             "minorgridcolor": "white",
             "startlinecolor": "#2a3f5f"
            },
            "type": "carpet"
           }
          ],
          "choropleth": [
           {
            "colorbar": {
             "outlinewidth": 0,
             "ticks": ""
            },
            "type": "choropleth"
           }
          ],
          "contour": [
           {
            "colorbar": {
             "outlinewidth": 0,
             "ticks": ""
            },
            "colorscale": [
             [
              0,
              "#0d0887"
             ],
             [
              0.1111111111111111,
              "#46039f"
             ],
             [
              0.2222222222222222,
              "#7201a8"
             ],
             [
              0.3333333333333333,
              "#9c179e"
             ],
             [
              0.4444444444444444,
              "#bd3786"
             ],
             [
              0.5555555555555556,
              "#d8576b"
             ],
             [
              0.6666666666666666,
              "#ed7953"
             ],
             [
              0.7777777777777778,
              "#fb9f3a"
             ],
             [
              0.8888888888888888,
              "#fdca26"
             ],
             [
              1,
              "#f0f921"
             ]
            ],
            "type": "contour"
           }
          ],
          "contourcarpet": [
           {
            "colorbar": {
             "outlinewidth": 0,
             "ticks": ""
            },
            "type": "contourcarpet"
           }
          ],
          "heatmap": [
           {
            "colorbar": {
             "outlinewidth": 0,
             "ticks": ""
            },
            "colorscale": [
             [
              0,
              "#0d0887"
             ],
             [
              0.1111111111111111,
              "#46039f"
             ],
             [
              0.2222222222222222,
              "#7201a8"
             ],
             [
              0.3333333333333333,
              "#9c179e"
             ],
             [
              0.4444444444444444,
              "#bd3786"
             ],
             [
              0.5555555555555556,
              "#d8576b"
             ],
             [
              0.6666666666666666,
              "#ed7953"
             ],
             [
              0.7777777777777778,
              "#fb9f3a"
             ],
             [
              0.8888888888888888,
              "#fdca26"
             ],
             [
              1,
              "#f0f921"
             ]
            ],
            "type": "heatmap"
           }
          ],
          "heatmapgl": [
           {
            "colorbar": {
             "outlinewidth": 0,
             "ticks": ""
            },
            "colorscale": [
             [
              0,
              "#0d0887"
             ],
             [
              0.1111111111111111,
              "#46039f"
             ],
             [
              0.2222222222222222,
              "#7201a8"
             ],
             [
              0.3333333333333333,
              "#9c179e"
             ],
             [
              0.4444444444444444,
              "#bd3786"
             ],
             [
              0.5555555555555556,
              "#d8576b"
             ],
             [
              0.6666666666666666,
              "#ed7953"
             ],
             [
              0.7777777777777778,
              "#fb9f3a"
             ],
             [
              0.8888888888888888,
              "#fdca26"
             ],
             [
              1,
              "#f0f921"
             ]
            ],
            "type": "heatmapgl"
           }
          ],
          "histogram": [
           {
            "marker": {
             "pattern": {
              "fillmode": "overlay",
              "size": 10,
              "solidity": 0.2
             }
            },
            "type": "histogram"
           }
          ],
          "histogram2d": [
           {
            "colorbar": {
             "outlinewidth": 0,
             "ticks": ""
            },
            "colorscale": [
             [
              0,
              "#0d0887"
             ],
             [
              0.1111111111111111,
              "#46039f"
             ],
             [
              0.2222222222222222,
              "#7201a8"
             ],
             [
              0.3333333333333333,
              "#9c179e"
             ],
             [
              0.4444444444444444,
              "#bd3786"
             ],
             [
              0.5555555555555556,
              "#d8576b"
             ],
             [
              0.6666666666666666,
              "#ed7953"
             ],
             [
              0.7777777777777778,
              "#fb9f3a"
             ],
             [
              0.8888888888888888,
              "#fdca26"
             ],
             [
              1,
              "#f0f921"
             ]
            ],
            "type": "histogram2d"
           }
          ],
          "histogram2dcontour": [
           {
            "colorbar": {
             "outlinewidth": 0,
             "ticks": ""
            },
            "colorscale": [
             [
              0,
              "#0d0887"
             ],
             [
              0.1111111111111111,
              "#46039f"
             ],
             [
              0.2222222222222222,
              "#7201a8"
             ],
             [
              0.3333333333333333,
              "#9c179e"
             ],
             [
              0.4444444444444444,
              "#bd3786"
             ],
             [
              0.5555555555555556,
              "#d8576b"
             ],
             [
              0.6666666666666666,
              "#ed7953"
             ],
             [
              0.7777777777777778,
              "#fb9f3a"
             ],
             [
              0.8888888888888888,
              "#fdca26"
             ],
             [
              1,
              "#f0f921"
             ]
            ],
            "type": "histogram2dcontour"
           }
          ],
          "mesh3d": [
           {
            "colorbar": {
             "outlinewidth": 0,
             "ticks": ""
            },
            "type": "mesh3d"
           }
          ],
          "parcoords": [
           {
            "line": {
             "colorbar": {
              "outlinewidth": 0,
              "ticks": ""
             }
            },
            "type": "parcoords"
           }
          ],
          "pie": [
           {
            "automargin": true,
            "type": "pie"
           }
          ],
          "scatter": [
           {
            "fillpattern": {
             "fillmode": "overlay",
             "size": 10,
             "solidity": 0.2
            },
            "type": "scatter"
           }
          ],
          "scatter3d": [
           {
            "line": {
             "colorbar": {
              "outlinewidth": 0,
              "ticks": ""
             }
            },
            "marker": {
             "colorbar": {
              "outlinewidth": 0,
              "ticks": ""
             }
            },
            "type": "scatter3d"
           }
          ],
          "scattercarpet": [
           {
            "marker": {
             "colorbar": {
              "outlinewidth": 0,
              "ticks": ""
             }
            },
            "type": "scattercarpet"
           }
          ],
          "scattergeo": [
           {
            "marker": {
             "colorbar": {
              "outlinewidth": 0,
              "ticks": ""
             }
            },
            "type": "scattergeo"
           }
          ],
          "scattergl": [
           {
            "marker": {
             "colorbar": {
              "outlinewidth": 0,
              "ticks": ""
             }
            },
            "type": "scattergl"
           }
          ],
          "scattermapbox": [
           {
            "marker": {
             "colorbar": {
              "outlinewidth": 0,
              "ticks": ""
             }
            },
            "type": "scattermapbox"
           }
          ],
          "scatterpolar": [
           {
            "marker": {
             "colorbar": {
              "outlinewidth": 0,
              "ticks": ""
             }
            },
            "type": "scatterpolar"
           }
          ],
          "scatterpolargl": [
           {
            "marker": {
             "colorbar": {
              "outlinewidth": 0,
              "ticks": ""
             }
            },
            "type": "scatterpolargl"
           }
          ],
          "scatterternary": [
           {
            "marker": {
             "colorbar": {
              "outlinewidth": 0,
              "ticks": ""
             }
            },
            "type": "scatterternary"
           }
          ],
          "surface": [
           {
            "colorbar": {
             "outlinewidth": 0,
             "ticks": ""
            },
            "colorscale": [
             [
              0,
              "#0d0887"
             ],
             [
              0.1111111111111111,
              "#46039f"
             ],
             [
              0.2222222222222222,
              "#7201a8"
             ],
             [
              0.3333333333333333,
              "#9c179e"
             ],
             [
              0.4444444444444444,
              "#bd3786"
             ],
             [
              0.5555555555555556,
              "#d8576b"
             ],
             [
              0.6666666666666666,
              "#ed7953"
             ],
             [
              0.7777777777777778,
              "#fb9f3a"
             ],
             [
              0.8888888888888888,
              "#fdca26"
             ],
             [
              1,
              "#f0f921"
             ]
            ],
            "type": "surface"
           }
          ],
          "table": [
           {
            "cells": {
             "fill": {
              "color": "#EBF0F8"
             },
             "line": {
              "color": "white"
             }
            },
            "header": {
             "fill": {
              "color": "#C8D4E3"
             },
             "line": {
              "color": "white"
             }
            },
            "type": "table"
           }
          ]
         },
         "layout": {
          "annotationdefaults": {
           "arrowcolor": "#2a3f5f",
           "arrowhead": 0,
           "arrowwidth": 1
          },
          "autotypenumbers": "strict",
          "coloraxis": {
           "colorbar": {
            "outlinewidth": 0,
            "ticks": ""
           }
          },
          "colorscale": {
           "diverging": [
            [
             0,
             "#8e0152"
            ],
            [
             0.1,
             "#c51b7d"
            ],
            [
             0.2,
             "#de77ae"
            ],
            [
             0.3,
             "#f1b6da"
            ],
            [
             0.4,
             "#fde0ef"
            ],
            [
             0.5,
             "#f7f7f7"
            ],
            [
             0.6,
             "#e6f5d0"
            ],
            [
             0.7,
             "#b8e186"
            ],
            [
             0.8,
             "#7fbc41"
            ],
            [
             0.9,
             "#4d9221"
            ],
            [
             1,
             "#276419"
            ]
           ],
           "sequential": [
            [
             0,
             "#0d0887"
            ],
            [
             0.1111111111111111,
             "#46039f"
            ],
            [
             0.2222222222222222,
             "#7201a8"
            ],
            [
             0.3333333333333333,
             "#9c179e"
            ],
            [
             0.4444444444444444,
             "#bd3786"
            ],
            [
             0.5555555555555556,
             "#d8576b"
            ],
            [
             0.6666666666666666,
             "#ed7953"
            ],
            [
             0.7777777777777778,
             "#fb9f3a"
            ],
            [
             0.8888888888888888,
             "#fdca26"
            ],
            [
             1,
             "#f0f921"
            ]
           ],
           "sequentialminus": [
            [
             0,
             "#0d0887"
            ],
            [
             0.1111111111111111,
             "#46039f"
            ],
            [
             0.2222222222222222,
             "#7201a8"
            ],
            [
             0.3333333333333333,
             "#9c179e"
            ],
            [
             0.4444444444444444,
             "#bd3786"
            ],
            [
             0.5555555555555556,
             "#d8576b"
            ],
            [
             0.6666666666666666,
             "#ed7953"
            ],
            [
             0.7777777777777778,
             "#fb9f3a"
            ],
            [
             0.8888888888888888,
             "#fdca26"
            ],
            [
             1,
             "#f0f921"
            ]
           ]
          },
          "colorway": [
           "#636efa",
           "#EF553B",
           "#00cc96",
           "#ab63fa",
           "#FFA15A",
           "#19d3f3",
           "#FF6692",
           "#B6E880",
           "#FF97FF",
           "#FECB52"
          ],
          "font": {
           "color": "#2a3f5f"
          },
          "geo": {
           "bgcolor": "white",
           "lakecolor": "white",
           "landcolor": "#E5ECF6",
           "showlakes": true,
           "showland": true,
           "subunitcolor": "white"
          },
          "hoverlabel": {
           "align": "left"
          },
          "hovermode": "closest",
          "mapbox": {
           "style": "light"
          },
          "paper_bgcolor": "white",
          "plot_bgcolor": "#E5ECF6",
          "polar": {
           "angularaxis": {
            "gridcolor": "white",
            "linecolor": "white",
            "ticks": ""
           },
           "bgcolor": "#E5ECF6",
           "radialaxis": {
            "gridcolor": "white",
            "linecolor": "white",
            "ticks": ""
           }
          },
          "scene": {
           "xaxis": {
            "backgroundcolor": "#E5ECF6",
            "gridcolor": "white",
            "gridwidth": 2,
            "linecolor": "white",
            "showbackground": true,
            "ticks": "",
            "zerolinecolor": "white"
           },
           "yaxis": {
            "backgroundcolor": "#E5ECF6",
            "gridcolor": "white",
            "gridwidth": 2,
            "linecolor": "white",
            "showbackground": true,
            "ticks": "",
            "zerolinecolor": "white"
           },
           "zaxis": {
            "backgroundcolor": "#E5ECF6",
            "gridcolor": "white",
            "gridwidth": 2,
            "linecolor": "white",
            "showbackground": true,
            "ticks": "",
            "zerolinecolor": "white"
           }
          },
          "shapedefaults": {
           "line": {
            "color": "#2a3f5f"
           }
          },
          "ternary": {
           "aaxis": {
            "gridcolor": "white",
            "linecolor": "white",
            "ticks": ""
           },
           "baxis": {
            "gridcolor": "white",
            "linecolor": "white",
            "ticks": ""
           },
           "bgcolor": "#E5ECF6",
           "caxis": {
            "gridcolor": "white",
            "linecolor": "white",
            "ticks": ""
           }
          },
          "title": {
           "x": 0.05
          },
          "xaxis": {
           "automargin": true,
           "gridcolor": "white",
           "linecolor": "white",
           "ticks": "",
           "title": {
            "standoff": 15
           },
           "zerolinecolor": "white",
           "zerolinewidth": 2
          },
          "yaxis": {
           "automargin": true,
           "gridcolor": "white",
           "linecolor": "white",
           "ticks": "",
           "title": {
            "standoff": 15
           },
           "zerolinecolor": "white",
           "zerolinewidth": 2
          }
         }
        },
        "xaxis": {
         "anchor": "y",
         "domain": [
          0,
          1
         ],
         "title": {
          "text": "x"
         }
        },
        "yaxis": {
         "anchor": "x",
         "domain": [
          0,
          1
         ],
         "title": {
          "text": "y"
         }
        }
       }
      }
     },
     "metadata": {},
     "output_type": "display_data"
    }
   ],
   "source": [
    "X = big_data.values\n",
    "y = labels\n",
    "tsne = TSNE()\n",
    "X_embedded = tsne.fit_transform(X)\n",
    "scatter2d(X_embedded, labels)\n",
    "# fig2 = plt.scatter(X_embedded[:, 0], X_embedded[:, 1])"
   ]
  },
  {
   "cell_type": "code",
   "execution_count": null,
   "metadata": {},
   "outputs": [],
   "source": []
  },
  {
   "cell_type": "code",
   "execution_count": null,
   "metadata": {},
   "outputs": [],
   "source": []
  },
  {
   "cell_type": "code",
   "execution_count": null,
   "metadata": {},
   "outputs": [],
   "source": []
  },
  {
   "cell_type": "code",
   "execution_count": null,
   "metadata": {},
   "outputs": [],
   "source": []
  }
 ],
 "metadata": {
  "interpreter": {
   "hash": "b1a6436d0c65aceb9a1b22b0d1bcc522dbf59f6e4640fa96a317f508d61dfbd4"
  },
  "kernelspec": {
   "display_name": "Python 3.9.12 ('ads')",
   "language": "python",
   "name": "python3"
  },
  "language_info": {
   "codemirror_mode": {
    "name": "ipython",
    "version": 3
   },
   "file_extension": ".py",
   "mimetype": "text/x-python",
   "name": "python",
   "nbconvert_exporter": "python",
   "pygments_lexer": "ipython3",
   "version": "3.9.12"
  },
  "orig_nbformat": 4
 },
 "nbformat": 4,
 "nbformat_minor": 2
}
