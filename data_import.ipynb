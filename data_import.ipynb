{
 "cells": [
  {
   "cell_type": "code",
   "execution_count": 1,
   "metadata": {},
   "outputs": [],
   "source": [
    "#coding utf8\n",
    "import pandas as pd\n",
    "import numpy as np\n",
    "import matplotlib.pyplot as plt"
   ]
  },
  {
   "cell_type": "code",
   "execution_count": 9,
   "metadata": {},
   "outputs": [],
   "source": [
    "def load_data():\n",
    "    args = []\n",
    "    prod_df = pd.read_csv('data\\productivity.csv')\n",
    "    sentiment_df = pd.read_csv('data\\sentiment.csv')\n",
    "    hours_worked_df = pd.read_csv('data\\lfsa_ewhun2_1_Data.csv')\n",
    "    args += [prod_df, sentiment_df, hours_worked_df]\n",
    "    return args"
   ]
  },
  {
   "cell_type": "code",
   "execution_count": 10,
   "metadata": {},
   "outputs": [
    {
     "name": "stdout",
     "output_type": "stream",
     "text": [
      "             unit,na_item,geo\\time   2005   2006   2007   2008     2009  \\\n",
      "0  PC_EU27_2020_MPPS_CP,NLPR_HW,AT  117.5  117.8  116.8  116.3    117.5   \n",
      "1  PC_EU27_2020_MPPS_CP,NLPR_HW,BE  142.8  139.9    138  136.2    136.8   \n",
      "2  PC_EU27_2020_MPPS_CP,NLPR_HW,BG   37.6   37.5   38.8   39.5     40.1   \n",
      "3  PC_EU27_2020_MPPS_CP,NLPR_HW,CH  122.8  126.6  131.8  133.1  131.2 e   \n",
      "4  PC_EU27_2020_MPPS_CP,NLPR_HW,CY   83.9   85.2   85.9   86.3       86   \n",
      "\n",
      "    2010   2011   2012   2013   2014   2015   2016   2017   2018   2019  \\\n",
      "0  115.6  115.1    118  117.9  118.1  119.7  119.5  117.5  117.8  115.9   \n",
      "1    138    134  135.2  134.7  136.1  136.8  136.5    134  133.5  133.5   \n",
      "2   41.9   42.9   44.1   42.9   44.1   44.5   45.8   45.9   47.2   48.6   \n",
      "3  133.6  133.2  134.3    135  136.1  135.3  132.8  130.8  131.4  129.2   \n",
      "4   83.1   80.9   79.2   77.9   76.1   76.5   78.1   77.6     77   76.6   \n",
      "\n",
      "      2020  \n",
      "0    117.4  \n",
      "1  137.9 p  \n",
      "2     48.8  \n",
      "3    129.4  \n",
      "4   74.5 p  \n"
     ]
    }
   ],
   "source": [
    "args = load_data()\n",
    "prod_df, sentiment_df, hours_worked_df = args\n",
    "print(prod_df.head())"
   ]
  }
 ],
 "metadata": {
  "interpreter": {
   "hash": "4cabb15ab25fea23f8059180816881b2dbbe348c8bd98378d45c058900a30581"
  },
  "kernelspec": {
   "display_name": "Python 3.10.0 64-bit",
   "language": "python",
   "name": "python3"
  },
  "language_info": {
   "codemirror_mode": {
    "name": "ipython",
    "version": 3
   },
   "file_extension": ".py",
   "mimetype": "text/x-python",
   "name": "python",
   "nbconvert_exporter": "python",
   "pygments_lexer": "ipython3",
   "version": "3.10.0"
  },
  "orig_nbformat": 4
 },
 "nbformat": 4,
 "nbformat_minor": 2
}
