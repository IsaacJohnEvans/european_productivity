{
 "cells": [
  {
   "cell_type": "code",
   "execution_count": 9,
   "metadata": {},
   "outputs": [],
   "source": [
    "import pandas as pd\n",
    "import numpy as np\n",
    "import matplotlib.pyplot as plt"
   ]
  },
  {
   "cell_type": "code",
   "execution_count": 10,
   "metadata": {},
   "outputs": [
    {
     "data": {
      "text/html": [
       "<div>\n",
       "<style scoped>\n",
       "    .dataframe tbody tr th:only-of-type {\n",
       "        vertical-align: middle;\n",
       "    }\n",
       "\n",
       "    .dataframe tbody tr th {\n",
       "        vertical-align: top;\n",
       "    }\n",
       "\n",
       "    .dataframe thead th {\n",
       "        text-align: right;\n",
       "    }\n",
       "</style>\n",
       "<table border=\"1\" class=\"dataframe\">\n",
       "  <thead>\n",
       "    <tr style=\"text-align: right;\">\n",
       "      <th></th>\n",
       "      <th>unit</th>\n",
       "      <th>na_item</th>\n",
       "      <th>geo\\time</th>\n",
       "      <th>Country</th>\n",
       "      <th>Hours</th>\n",
       "      <th>Productivity_HW</th>\n",
       "      <th>Productivity_PER</th>\n",
       "      <th>average_prod</th>\n",
       "    </tr>\n",
       "  </thead>\n",
       "  <tbody>\n",
       "    <tr>\n",
       "      <th>0</th>\n",
       "      <td>PC_EU27_2020_MPPS_CP</td>\n",
       "      <td>NLPR_HW</td>\n",
       "      <td>AT</td>\n",
       "      <td>Austria</td>\n",
       "      <td>7.183</td>\n",
       "      <td>117.4</td>\n",
       "      <td>114.5</td>\n",
       "      <td>115.95</td>\n",
       "    </tr>\n",
       "    <tr>\n",
       "      <th>1</th>\n",
       "      <td>PC_EU27_2020_MPPS_CP</td>\n",
       "      <td>NLPR_HW</td>\n",
       "      <td>BE</td>\n",
       "      <td>Belgium</td>\n",
       "      <td>7.300</td>\n",
       "      <td>137.9</td>\n",
       "      <td>129.0</td>\n",
       "      <td>133.45</td>\n",
       "    </tr>\n",
       "    <tr>\n",
       "      <th>2</th>\n",
       "      <td>PC_EU27_2020_MPPS_CP</td>\n",
       "      <td>NLPR_HW</td>\n",
       "      <td>BG</td>\n",
       "      <td>Bulgaria</td>\n",
       "      <td>7.150</td>\n",
       "      <td>48.8</td>\n",
       "      <td>50.8</td>\n",
       "      <td>49.80</td>\n",
       "    </tr>\n",
       "    <tr>\n",
       "      <th>3</th>\n",
       "      <td>PC_EU27_2020_MPPS_CP</td>\n",
       "      <td>NLPR_HW</td>\n",
       "      <td>HR</td>\n",
       "      <td>Croatia</td>\n",
       "      <td>7.233</td>\n",
       "      <td>60.2</td>\n",
       "      <td>71.6</td>\n",
       "      <td>65.90</td>\n",
       "    </tr>\n",
       "    <tr>\n",
       "      <th>4</th>\n",
       "      <td>PC_EU27_2020_MPPS_CP</td>\n",
       "      <td>NLPR_HW</td>\n",
       "      <td>CZ</td>\n",
       "      <td>Czechia</td>\n",
       "      <td>7.183</td>\n",
       "      <td>77.7</td>\n",
       "      <td>85.9</td>\n",
       "      <td>81.80</td>\n",
       "    </tr>\n",
       "    <tr>\n",
       "      <th>5</th>\n",
       "      <td>PC_EU27_2020_MPPS_CP</td>\n",
       "      <td>NLPR_HW</td>\n",
       "      <td>DK</td>\n",
       "      <td>Denmark</td>\n",
       "      <td>7.250</td>\n",
       "      <td>139.4</td>\n",
       "      <td>121.3</td>\n",
       "      <td>130.35</td>\n",
       "    </tr>\n",
       "    <tr>\n",
       "      <th>6</th>\n",
       "      <td>PC_EU27_2020_MPPS_CP</td>\n",
       "      <td>NLPR_HW</td>\n",
       "      <td>EE</td>\n",
       "      <td>Estonia</td>\n",
       "      <td>7.367</td>\n",
       "      <td>72.5</td>\n",
       "      <td>80.8</td>\n",
       "      <td>76.65</td>\n",
       "    </tr>\n",
       "    <tr>\n",
       "      <th>7</th>\n",
       "      <td>PC_EU27_2020_MPPS_CP</td>\n",
       "      <td>NLPR_HW</td>\n",
       "      <td>FI</td>\n",
       "      <td>Finland</td>\n",
       "      <td>7.500</td>\n",
       "      <td>108.0</td>\n",
       "      <td>110.6</td>\n",
       "      <td>109.30</td>\n",
       "    </tr>\n",
       "    <tr>\n",
       "      <th>8</th>\n",
       "      <td>PC_EU27_2020_MPPS_CP</td>\n",
       "      <td>NLPR_HW</td>\n",
       "      <td>FR</td>\n",
       "      <td>France (including Monaco)</td>\n",
       "      <td>7.383</td>\n",
       "      <td>126.5</td>\n",
       "      <td>115.5</td>\n",
       "      <td>121.00</td>\n",
       "    </tr>\n",
       "    <tr>\n",
       "      <th>9</th>\n",
       "      <td>PC_EU27_2020_MPPS_CP</td>\n",
       "      <td>NLPR_HW</td>\n",
       "      <td>DE</td>\n",
       "      <td>Germany</td>\n",
       "      <td>7.233</td>\n",
       "      <td>121.9</td>\n",
       "      <td>104.6</td>\n",
       "      <td>113.25</td>\n",
       "    </tr>\n",
       "    <tr>\n",
       "      <th>10</th>\n",
       "      <td>PC_EU27_2020_MPPS_CP</td>\n",
       "      <td>NLPR_HW</td>\n",
       "      <td>EL</td>\n",
       "      <td>Greece</td>\n",
       "      <td>7.100</td>\n",
       "      <td>56.2</td>\n",
       "      <td>66.5</td>\n",
       "      <td>61.35</td>\n",
       "    </tr>\n",
       "    <tr>\n",
       "      <th>11</th>\n",
       "      <td>PC_EU27_2020_MPPS_CP</td>\n",
       "      <td>NLPR_HW</td>\n",
       "      <td>HU</td>\n",
       "      <td>Hungary</td>\n",
       "      <td>7.167</td>\n",
       "      <td>68.2</td>\n",
       "      <td>71.1</td>\n",
       "      <td>69.65</td>\n",
       "    </tr>\n",
       "    <tr>\n",
       "      <th>12</th>\n",
       "      <td>PC_EU27_2020_MPPS_CP</td>\n",
       "      <td>NLPR_HW</td>\n",
       "      <td>IS</td>\n",
       "      <td>Iceland</td>\n",
       "      <td>7.383</td>\n",
       "      <td>111.4</td>\n",
       "      <td>104.5</td>\n",
       "      <td>107.95</td>\n",
       "    </tr>\n",
       "    <tr>\n",
       "      <th>13</th>\n",
       "      <td>PC_EU27_2020_MPPS_CP</td>\n",
       "      <td>NLPR_HW</td>\n",
       "      <td>IE</td>\n",
       "      <td>Ireland</td>\n",
       "      <td>7.283</td>\n",
       "      <td>189.2</td>\n",
       "      <td>213.8</td>\n",
       "      <td>201.50</td>\n",
       "    </tr>\n",
       "    <tr>\n",
       "      <th>14</th>\n",
       "      <td>PC_EU27_2020_MPPS_CP</td>\n",
       "      <td>NLPR_HW</td>\n",
       "      <td>IT</td>\n",
       "      <td>Italy</td>\n",
       "      <td>7.083</td>\n",
       "      <td>102.2</td>\n",
       "      <td>102.9</td>\n",
       "      <td>102.55</td>\n",
       "    </tr>\n",
       "    <tr>\n",
       "      <th>15</th>\n",
       "      <td>PC_EU27_2020_MPPS_CP</td>\n",
       "      <td>NLPR_HW</td>\n",
       "      <td>LV</td>\n",
       "      <td>Latvia</td>\n",
       "      <td>7.150</td>\n",
       "      <td>59.9</td>\n",
       "      <td>70.1</td>\n",
       "      <td>65.00</td>\n",
       "    </tr>\n",
       "    <tr>\n",
       "      <th>16</th>\n",
       "      <td>PC_EU27_2020_MPPS_CP</td>\n",
       "      <td>NLPR_HW</td>\n",
       "      <td>LT</td>\n",
       "      <td>Lithuania</td>\n",
       "      <td>7.300</td>\n",
       "      <td>69.9</td>\n",
       "      <td>81.9</td>\n",
       "      <td>75.90</td>\n",
       "    </tr>\n",
       "    <tr>\n",
       "      <th>17</th>\n",
       "      <td>PC_EU27_2020_MPPS_CP</td>\n",
       "      <td>NLPR_HW</td>\n",
       "      <td>LU</td>\n",
       "      <td>Luxembourg</td>\n",
       "      <td>7.117</td>\n",
       "      <td>176.0</td>\n",
       "      <td>162.1</td>\n",
       "      <td>169.05</td>\n",
       "    </tr>\n",
       "    <tr>\n",
       "      <th>18</th>\n",
       "      <td>PC_EU27_2020_MPPS_CP</td>\n",
       "      <td>NLPR_HW</td>\n",
       "      <td>MT</td>\n",
       "      <td>Malta</td>\n",
       "      <td>6.967</td>\n",
       "      <td>71.8</td>\n",
       "      <td>88.6</td>\n",
       "      <td>80.20</td>\n",
       "    </tr>\n",
       "    <tr>\n",
       "      <th>19</th>\n",
       "      <td>PC_EU27_2020_MPPS_CP</td>\n",
       "      <td>NLPR_HW</td>\n",
       "      <td>NL</td>\n",
       "      <td>Netherlands</td>\n",
       "      <td>7.467</td>\n",
       "      <td>122.3</td>\n",
       "      <td>111.6</td>\n",
       "      <td>116.95</td>\n",
       "    </tr>\n",
       "    <tr>\n",
       "      <th>20</th>\n",
       "      <td>PC_EU27_2020_MPPS_CP</td>\n",
       "      <td>NLPR_HW</td>\n",
       "      <td>NO</td>\n",
       "      <td>Norway</td>\n",
       "      <td>7.333</td>\n",
       "      <td>135.9</td>\n",
       "      <td>124.3</td>\n",
       "      <td>130.10</td>\n",
       "    </tr>\n",
       "    <tr>\n",
       "      <th>21</th>\n",
       "      <td>PC_EU27_2020_MPPS_CP</td>\n",
       "      <td>NLPR_HW</td>\n",
       "      <td>PL</td>\n",
       "      <td>Poland</td>\n",
       "      <td>7.083</td>\n",
       "      <td>63.6</td>\n",
       "      <td>81.7</td>\n",
       "      <td>72.65</td>\n",
       "    </tr>\n",
       "    <tr>\n",
       "      <th>22</th>\n",
       "      <td>PC_EU27_2020_MPPS_CP</td>\n",
       "      <td>NLPR_HW</td>\n",
       "      <td>PT</td>\n",
       "      <td>Portugal (including the Azores and Madeira)</td>\n",
       "      <td>7.217</td>\n",
       "      <td>65.8</td>\n",
       "      <td>74.6</td>\n",
       "      <td>70.20</td>\n",
       "    </tr>\n",
       "    <tr>\n",
       "      <th>23</th>\n",
       "      <td>PC_EU27_2020_MPPS_CP</td>\n",
       "      <td>NLPR_HW</td>\n",
       "      <td>CY</td>\n",
       "      <td>Republic of Cyprus</td>\n",
       "      <td>7.233</td>\n",
       "      <td>74.5</td>\n",
       "      <td>82.1</td>\n",
       "      <td>78.30</td>\n",
       "    </tr>\n",
       "    <tr>\n",
       "      <th>24</th>\n",
       "      <td>PC_EU27_2020_MPPS_CP</td>\n",
       "      <td>NLPR_HW</td>\n",
       "      <td>RO</td>\n",
       "      <td>Romania</td>\n",
       "      <td>7.150</td>\n",
       "      <td>64.2</td>\n",
       "      <td>75.2</td>\n",
       "      <td>69.70</td>\n",
       "    </tr>\n",
       "    <tr>\n",
       "      <th>25</th>\n",
       "      <td>PC_EU27_2020_MPPS_CP</td>\n",
       "      <td>NLPR_HW</td>\n",
       "      <td>SK</td>\n",
       "      <td>Slovakia</td>\n",
       "      <td>7.200</td>\n",
       "      <td>72.1</td>\n",
       "      <td>73.5</td>\n",
       "      <td>72.80</td>\n",
       "    </tr>\n",
       "    <tr>\n",
       "      <th>26</th>\n",
       "      <td>PC_EU27_2020_MPPS_CP</td>\n",
       "      <td>NLPR_HW</td>\n",
       "      <td>SI</td>\n",
       "      <td>Slovenia</td>\n",
       "      <td>7.167</td>\n",
       "      <td>83.2</td>\n",
       "      <td>82.7</td>\n",
       "      <td>82.95</td>\n",
       "    </tr>\n",
       "    <tr>\n",
       "      <th>27</th>\n",
       "      <td>PC_EU27_2020_MPPS_CP</td>\n",
       "      <td>NLPR_HW</td>\n",
       "      <td>ES</td>\n",
       "      <td>Spain (including the Balearic Islands)</td>\n",
       "      <td>7.067</td>\n",
       "      <td>92.7</td>\n",
       "      <td>94.3</td>\n",
       "      <td>93.50</td>\n",
       "    </tr>\n",
       "    <tr>\n",
       "      <th>28</th>\n",
       "      <td>PC_EU27_2020_MPPS_CP</td>\n",
       "      <td>NLPR_HW</td>\n",
       "      <td>SE</td>\n",
       "      <td>Sweden</td>\n",
       "      <td>7.300</td>\n",
       "      <td>113.6</td>\n",
       "      <td>116.0</td>\n",
       "      <td>114.80</td>\n",
       "    </tr>\n",
       "    <tr>\n",
       "      <th>29</th>\n",
       "      <td>PC_EU27_2020_MPPS_CP</td>\n",
       "      <td>NLPR_HW</td>\n",
       "      <td>CH</td>\n",
       "      <td>Switzerland</td>\n",
       "      <td>7.317</td>\n",
       "      <td>129.4</td>\n",
       "      <td>125.7</td>\n",
       "      <td>127.55</td>\n",
       "    </tr>\n",
       "  </tbody>\n",
       "</table>\n",
       "</div>"
      ],
      "text/plain": [
       "                    unit  na_item geo\\time  \\\n",
       "0   PC_EU27_2020_MPPS_CP  NLPR_HW       AT   \n",
       "1   PC_EU27_2020_MPPS_CP  NLPR_HW       BE   \n",
       "2   PC_EU27_2020_MPPS_CP  NLPR_HW       BG   \n",
       "3   PC_EU27_2020_MPPS_CP  NLPR_HW       HR   \n",
       "4   PC_EU27_2020_MPPS_CP  NLPR_HW       CZ   \n",
       "5   PC_EU27_2020_MPPS_CP  NLPR_HW       DK   \n",
       "6   PC_EU27_2020_MPPS_CP  NLPR_HW       EE   \n",
       "7   PC_EU27_2020_MPPS_CP  NLPR_HW       FI   \n",
       "8   PC_EU27_2020_MPPS_CP  NLPR_HW       FR   \n",
       "9   PC_EU27_2020_MPPS_CP  NLPR_HW       DE   \n",
       "10  PC_EU27_2020_MPPS_CP  NLPR_HW       EL   \n",
       "11  PC_EU27_2020_MPPS_CP  NLPR_HW       HU   \n",
       "12  PC_EU27_2020_MPPS_CP  NLPR_HW       IS   \n",
       "13  PC_EU27_2020_MPPS_CP  NLPR_HW       IE   \n",
       "14  PC_EU27_2020_MPPS_CP  NLPR_HW       IT   \n",
       "15  PC_EU27_2020_MPPS_CP  NLPR_HW       LV   \n",
       "16  PC_EU27_2020_MPPS_CP  NLPR_HW       LT   \n",
       "17  PC_EU27_2020_MPPS_CP  NLPR_HW       LU   \n",
       "18  PC_EU27_2020_MPPS_CP  NLPR_HW       MT   \n",
       "19  PC_EU27_2020_MPPS_CP  NLPR_HW       NL   \n",
       "20  PC_EU27_2020_MPPS_CP  NLPR_HW       NO   \n",
       "21  PC_EU27_2020_MPPS_CP  NLPR_HW       PL   \n",
       "22  PC_EU27_2020_MPPS_CP  NLPR_HW       PT   \n",
       "23  PC_EU27_2020_MPPS_CP  NLPR_HW       CY   \n",
       "24  PC_EU27_2020_MPPS_CP  NLPR_HW       RO   \n",
       "25  PC_EU27_2020_MPPS_CP  NLPR_HW       SK   \n",
       "26  PC_EU27_2020_MPPS_CP  NLPR_HW       SI   \n",
       "27  PC_EU27_2020_MPPS_CP  NLPR_HW       ES   \n",
       "28  PC_EU27_2020_MPPS_CP  NLPR_HW       SE   \n",
       "29  PC_EU27_2020_MPPS_CP  NLPR_HW       CH   \n",
       "\n",
       "                                        Country  Hours  Productivity_HW  \\\n",
       "0                                       Austria  7.183            117.4   \n",
       "1                                       Belgium  7.300            137.9   \n",
       "2                                      Bulgaria  7.150             48.8   \n",
       "3                                       Croatia  7.233             60.2   \n",
       "4                                       Czechia  7.183             77.7   \n",
       "5                                       Denmark  7.250            139.4   \n",
       "6                                       Estonia  7.367             72.5   \n",
       "7                                       Finland  7.500            108.0   \n",
       "8                     France (including Monaco)  7.383            126.5   \n",
       "9                                       Germany  7.233            121.9   \n",
       "10                                       Greece  7.100             56.2   \n",
       "11                                      Hungary  7.167             68.2   \n",
       "12                                      Iceland  7.383            111.4   \n",
       "13                                      Ireland  7.283            189.2   \n",
       "14                                        Italy  7.083            102.2   \n",
       "15                                       Latvia  7.150             59.9   \n",
       "16                                    Lithuania  7.300             69.9   \n",
       "17                                   Luxembourg  7.117            176.0   \n",
       "18                                        Malta  6.967             71.8   \n",
       "19                                  Netherlands  7.467            122.3   \n",
       "20                                       Norway  7.333            135.9   \n",
       "21                                       Poland  7.083             63.6   \n",
       "22  Portugal (including the Azores and Madeira)  7.217             65.8   \n",
       "23                           Republic of Cyprus  7.233             74.5   \n",
       "24                                      Romania  7.150             64.2   \n",
       "25                                     Slovakia  7.200             72.1   \n",
       "26                                     Slovenia  7.167             83.2   \n",
       "27       Spain (including the Balearic Islands)  7.067             92.7   \n",
       "28                                       Sweden  7.300            113.6   \n",
       "29                                  Switzerland  7.317            129.4   \n",
       "\n",
       "    Productivity_PER  average_prod  \n",
       "0              114.5        115.95  \n",
       "1              129.0        133.45  \n",
       "2               50.8         49.80  \n",
       "3               71.6         65.90  \n",
       "4               85.9         81.80  \n",
       "5              121.3        130.35  \n",
       "6               80.8         76.65  \n",
       "7              110.6        109.30  \n",
       "8              115.5        121.00  \n",
       "9              104.6        113.25  \n",
       "10              66.5         61.35  \n",
       "11              71.1         69.65  \n",
       "12             104.5        107.95  \n",
       "13             213.8        201.50  \n",
       "14             102.9        102.55  \n",
       "15              70.1         65.00  \n",
       "16              81.9         75.90  \n",
       "17             162.1        169.05  \n",
       "18              88.6         80.20  \n",
       "19             111.6        116.95  \n",
       "20             124.3        130.10  \n",
       "21              81.7         72.65  \n",
       "22              74.6         70.20  \n",
       "23              82.1         78.30  \n",
       "24              75.2         69.70  \n",
       "25              73.5         72.80  \n",
       "26              82.7         82.95  \n",
       "27              94.3         93.50  \n",
       "28             116.0        114.80  \n",
       "29             125.7        127.55  "
      ]
     },
     "execution_count": 10,
     "metadata": {},
     "output_type": "execute_result"
    }
   ],
   "source": [
    "sleep_prod = pd.read_csv('sleep.csv') \n",
    "sleep_prod['average_prod'] = (sleep_prod['Productivity_HW']+sleep_prod['Productivity_PER'])/2\n",
    "sleep_prod = sleep_prod[sleep_prod.Productivity_HW != 0].reset_index(drop=True)\n",
    "sleep_prod\n",
    "\n",
    "# sleep_prod.loc[(sleep_prod!=0).any(axis=1)]\n",
    "# sleep_prod = sleep_prod[sleep_prod.line_race != 0]"
   ]
  },
  {
   "cell_type": "code",
   "execution_count": 13,
   "metadata": {},
   "outputs": [],
   "source": [
    "import matplotlib.pyplot as plt\n",
    "\n",
    "x=sleep_prod['Hours'].values\n",
    "y=sleep_prod['Productivity_HW'].values\n",
    "\n",
    "x = x.reshape(len(sleep_prod), 1)\n",
    "y = y.reshape(len(sleep_prod), 1)"
   ]
  },
  {
   "cell_type": "code",
   "execution_count": 14,
   "metadata": {},
   "outputs": [
    {
     "data": {
      "text/plain": [
       "<AxesSubplot:>"
      ]
     },
     "execution_count": 14,
     "metadata": {},
     "output_type": "execute_result"
    },
    {
     "data": {
      "image/png": "[encoded data removed]",
      "text/plain": [
       "<Figure size 432x288 with 2 Axes>"
      ]
     },
     "metadata": {
      "needs_background": "light"
     },
     "output_type": "display_data"
    }
   ],
   "source": [
    "import seaborn as sb\n",
    "sleep_corr = pd.DataFrame(sleep_prod['Hours'])\n",
    "sleep_corr['Productivity_HW'] = sleep_prod['Productivity_HW']\n",
    "sleep_corr['Productivity_PER'] = sleep_prod['Productivity_PER']\n",
    "sb.heatmap(abs(sleep_corr.corr()), vmax = .8, square = True, annot = True)\n"
   ]
  },
  {
   "cell_type": "code",
   "execution_count": 15,
   "metadata": {},
   "outputs": [],
   "source": [
    "%matplotlib inline"
   ]
  },
  {
   "cell_type": "code",
   "execution_count": 61,
   "metadata": {},
   "outputs": [
    {
     "data": {
      "application/vnd.plotly.v1+json": {
       "config": {
        "plotlyServerURL": "https://plot.ly"
       },
       "data": [
        {
         "hovertemplate": "Country=Austria<br>Hours=%{x}<br>Productivity_HW=%{y}<extra></extra>",
         "legendgroup": "Austria",
         "marker": {
          "color": "#636efa",
          "symbol": "circle"
         },
         "mode": "markers",
         "name": "Austria",
         "orientation": "v",
         "showlegend": true,
         "type": "scatter",
         "x": [
          7.183
         ],
         "xaxis": "x",
         "y": [
          117.4
         ],
         "yaxis": "y"
        },
        {
         "hovertemplate": "Country=Belgium<br>Hours=%{x}<br>Productivity_HW=%{y}<extra></extra>",
         "legendgroup": "Belgium",
         "marker": {
          "color": "#EF553B",
          "symbol": "circle"
         },
         "mode": "markers",
         "name": "Belgium",
         "orientation": "v",
         "showlegend": true,
         "type": "scatter",
         "x": [
          7.3
         ],
         "xaxis": "x",
         "y": [
          137.9
         ],
         "yaxis": "y"
        },
        {
         "hovertemplate": "Country=Bulgaria<br>Hours=%{x}<br>Productivity_HW=%{y}<extra></extra>",
         "legendgroup": "Bulgaria",
         "marker": {
          "color": "#00cc96",
          "symbol": "circle"
         },
         "mode": "markers",
         "name": "Bulgaria",
         "orientation": "v",
         "showlegend": true,
         "type": "scatter",
         "x": [
          7.15
         ],
         "xaxis": "x",
         "y": [
          48.8
         ],
         "yaxis": "y"
        },
        {
         "hovertemplate": "Country=Croatia<br>Hours=%{x}<br>Productivity_HW=%{y}<extra></extra>",
         "legendgroup": "Croatia",
         "marker": {
          "color": "#ab63fa",
          "symbol": "circle"
         },
         "mode": "markers",
         "name": "Croatia",
         "orientation": "v",
         "showlegend": true,
         "type": "scatter",
         "x": [
          7.233
         ],
         "xaxis": "x",
         "y": [
          60.2
         ],
         "yaxis": "y"
        },
        {
         "hovertemplate": "Country=Czechia<br>Hours=%{x}<br>Productivity_HW=%{y}<extra></extra>",
         "legendgroup": "Czechia",
         "marker": {
          "color": "#FFA15A",
          "symbol": "circle"
         },
         "mode": "markers",
         "name": "Czechia",
         "orientation": "v",
         "showlegend": true,
         "type": "scatter",
         "x": [
          7.183
         ],
         "xaxis": "x",
         "y": [
          77.7
         ],
         "yaxis": "y"
        },
        {
         "hovertemplate": "Country=Denmark<br>Hours=%{x}<br>Productivity_HW=%{y}<extra></extra>",
         "legendgroup": "Denmark",
         "marker": {
          "color": "#19d3f3",
          "symbol": "circle"
         },
         "mode": "markers",
         "name": "Denmark",
         "orientation": "v",
         "showlegend": true,
         "type": "scatter",
         "x": [
          7.25
         ],
         "xaxis": "x",
         "y": [
          139.4
         ],
         "yaxis": "y"
        },
        {
         "hovertemplate": "Country=Estonia<br>Hours=%{x}<br>Productivity_HW=%{y}<extra></extra>",
         "legendgroup": "Estonia",
         "marker": {
          "color": "#FF6692",
          "symbol": "circle"
         },
         "mode": "markers",
         "name": "Estonia",
         "orientation": "v",
         "showlegend": true,
         "type": "scatter",
         "x": [
          7.367
         ],
         "xaxis": "x",
         "y": [
          72.5
         ],
         "yaxis": "y"
        },
        {
         "hovertemplate": "Country=Finland<br>Hours=%{x}<br>Productivity_HW=%{y}<extra></extra>",
         "legendgroup": "Finland",
         "marker": {
          "color": "#B6E880",
          "symbol": "circle"
         },
         "mode": "markers",
         "name": "Finland",
         "orientation": "v",
         "showlegend": true,
         "type": "scatter",
         "x": [
          7.5
         ],
         "xaxis": "x",
         "y": [
          108
         ],
         "yaxis": "y"
        },
        {
         "hovertemplate": "Country=France (including Monaco)<br>Hours=%{x}<br>Productivity_HW=%{y}<extra></extra>",
         "legendgroup": "France (including Monaco)",
         "marker": {
          "color": "#FF97FF",
          "symbol": "circle"
         },
         "mode": "markers",
         "name": "France (including Monaco)",
         "orientation": "v",
         "showlegend": true,
         "type": "scatter",
         "x": [
          7.383
         ],
         "xaxis": "x",
         "y": [
          126.5
         ],
         "yaxis": "y"
        },
        {
         "hovertemplate": "Country=Germany<br>Hours=%{x}<br>Productivity_HW=%{y}<extra></extra>",
         "legendgroup": "Germany",
         "marker": {
          "color": "#FECB52",
          "symbol": "circle"
         },
         "mode": "markers",
         "name": "Germany",
         "orientation": "v",
         "showlegend": true,
         "type": "scatter",
         "x": [
          7.233
         ],
         "xaxis": "x",
         "y": [
          121.9
         ],
         "yaxis": "y"
        },
        {
         "hovertemplate": "Country=Greece<br>Hours=%{x}<br>Productivity_HW=%{y}<extra></extra>",
         "legendgroup": "Greece",
         "marker": {
          "color": "#636efa",
          "symbol": "circle"
         },
         "mode": "markers",
         "name": "Greece",
         "orientation": "v",
         "showlegend": true,
         "type": "scatter",
         "x": [
          7.1
         ],
         "xaxis": "x",
         "y": [
          56.2
         ],
         "yaxis": "y"
        },
        {
         "hovertemplate": "Country=Hungary<br>Hours=%{x}<br>Productivity_HW=%{y}<extra></extra>",
         "legendgroup": "Hungary",
         "marker": {
          "color": "#EF553B",
          "symbol": "circle"
         },
         "mode": "markers",
         "name": "Hungary",
         "orientation": "v",
         "showlegend": true,
         "type": "scatter",
         "x": [
          7.167
         ],
         "xaxis": "x",
         "y": [
          68.2
         ],
         "yaxis": "y"
        },
        {
         "hovertemplate": "Country=Iceland<br>Hours=%{x}<br>Productivity_HW=%{y}<extra></extra>",
         "legendgroup": "Iceland",
         "marker": {
          "color": "#00cc96",
          "symbol": "circle"
         },
         "mode": "markers",
         "name": "Iceland",
         "orientation": "v",
         "showlegend": true,
         "type": "scatter",
         "x": [
          7.383
         ],
         "xaxis": "x",
         "y": [
          111.4
         ],
         "yaxis": "y"
        },
        {
         "hovertemplate": "Country=Ireland<br>Hours=%{x}<br>Productivity_HW=%{y}<extra></extra>",
         "legendgroup": "Ireland",
         "marker": {
          "color": "#ab63fa",
          "symbol": "circle"
         },
         "mode": "markers",
         "name": "Ireland",
         "orientation": "v",
         "showlegend": true,
         "type": "scatter",
         "x": [
          7.283
         ],
         "xaxis": "x",
         "y": [
          189.2
         ],
         "yaxis": "y"
        },
        {
         "hovertemplate": "Country=Italy<br>Hours=%{x}<br>Productivity_HW=%{y}<extra></extra>",
         "legendgroup": "Italy",
         "marker": {
          "color": "#FFA15A",
          "symbol": "circle"
         },
         "mode": "markers",
         "name": "Italy",
         "orientation": "v",
         "showlegend": true,
         "type": "scatter",
         "x": [
          7.083
         ],
         "xaxis": "x",
         "y": [
          102.2
         ],
         "yaxis": "y"
        },
        {
         "hovertemplate": "Country=Latvia<br>Hours=%{x}<br>Productivity_HW=%{y}<extra></extra>",
         "legendgroup": "Latvia",
         "marker": {
          "color": "#19d3f3",
          "symbol": "circle"
         },
         "mode": "markers",
         "name": "Latvia",
         "orientation": "v",
         "showlegend": true,
         "type": "scatter",
         "x": [
          7.15
         ],
         "xaxis": "x",
         "y": [
          59.9
         ],
         "yaxis": "y"
        },
        {
         "hovertemplate": "Country=Lithuania<br>Hours=%{x}<br>Productivity_HW=%{y}<extra></extra>",
         "legendgroup": "Lithuania",
         "marker": {
          "color": "#FF6692",
          "symbol": "circle"
         },
         "mode": "markers",
         "name": "Lithuania",
         "orientation": "v",
         "showlegend": true,
         "type": "scatter",
         "x": [
          7.3
         ],
         "xaxis": "x",
         "y": [
          69.9
         ],
         "yaxis": "y"
        },
        {
         "hovertemplate": "Country=Luxembourg<br>Hours=%{x}<br>Productivity_HW=%{y}<extra></extra>",
         "legendgroup": "Luxembourg",
         "marker": {
          "color": "#B6E880",
          "symbol": "circle"
         },
         "mode": "markers",
         "name": "Luxembourg",
         "orientation": "v",
         "showlegend": true,
         "type": "scatter",
         "x": [
          7.117
         ],
         "xaxis": "x",
         "y": [
          176
         ],
         "yaxis": "y"
        },
        {
         "hovertemplate": "Country=Malta<br>Hours=%{x}<br>Productivity_HW=%{y}<extra></extra>",
         "legendgroup": "Malta",
         "marker": {
          "color": "#FF97FF",
          "symbol": "circle"
         },
         "mode": "markers",
         "name": "Malta",
         "orientation": "v",
         "showlegend": true,
         "type": "scatter",
         "x": [
          6.967
         ],
         "xaxis": "x",
         "y": [
          71.8
         ],
         "yaxis": "y"
        },
        {
         "hovertemplate": "Country=Netherlands<br>Hours=%{x}<br>Productivity_HW=%{y}<extra></extra>",
         "legendgroup": "Netherlands",
         "marker": {
          "color": "#FECB52",
          "symbol": "circle"
         },
         "mode": "markers",
         "name": "Netherlands",
         "orientation": "v",
         "showlegend": true,
         "type": "scatter",
         "x": [
          7.467
         ],
         "xaxis": "x",
         "y": [
          122.3
         ],
         "yaxis": "y"
        },
        {
         "hovertemplate": "Country=Norway<br>Hours=%{x}<br>Productivity_HW=%{y}<extra></extra>",
         "legendgroup": "Norway",
         "marker": {
          "color": "#636efa",
          "symbol": "circle"
         },
         "mode": "markers",
         "name": "Norway",
         "orientation": "v",
         "showlegend": true,
         "type": "scatter",
         "x": [
          7.333
         ],
         "xaxis": "x",
         "y": [
          135.9
         ],
         "yaxis": "y"
        },
        {
         "hovertemplate": "Country=Poland<br>Hours=%{x}<br>Productivity_HW=%{y}<extra></extra>",
         "legendgroup": "Poland",
         "marker": {
          "color": "#EF553B",
          "symbol": "circle"
         },
         "mode": "markers",
         "name": "Poland",
         "orientation": "v",
         "showlegend": true,
         "type": "scatter",
         "x": [
          7.083
         ],
         "xaxis": "x",
         "y": [
          63.6
         ],
         "yaxis": "y"
        },
        {
         "hovertemplate": "Country=Portugal (including the Azores and Madeira)<br>Hours=%{x}<br>Productivity_HW=%{y}<extra></extra>",
         "legendgroup": "Portugal (including the Azores and Madeira)",
         "marker": {
          "color": "#00cc96",
          "symbol": "circle"
         },
         "mode": "markers",
         "name": "Portugal (including the Azores and Madeira)",
         "orientation": "v",
         "showlegend": true,
         "type": "scatter",
         "x": [
          7.217
         ],
         "xaxis": "x",
         "y": [
          65.8
         ],
         "yaxis": "y"
        },
        {
         "hovertemplate": "Country=Republic of Cyprus<br>Hours=%{x}<br>Productivity_HW=%{y}<extra></extra>",
         "legendgroup": "Republic of Cyprus",
         "marker": {
          "color": "#ab63fa",
          "symbol": "circle"
         },
         "mode": "markers",
         "name": "Republic of Cyprus",
         "orientation": "v",
         "showlegend": true,
         "type": "scatter",
         "x": [
          7.233
         ],
         "xaxis": "x",
         "y": [
          74.5
         ],
         "yaxis": "y"
        },
        {
         "hovertemplate": "Country=Romania<br>Hours=%{x}<br>Productivity_HW=%{y}<extra></extra>",
         "legendgroup": "Romania",
         "marker": {
          "color": "#FFA15A",
          "symbol": "circle"
         },
         "mode": "markers",
         "name": "Romania",
         "orientation": "v",
         "showlegend": true,
         "type": "scatter",
         "x": [
          7.15
         ],
         "xaxis": "x",
         "y": [
          64.2
         ],
         "yaxis": "y"
        },
        {
         "hovertemplate": "Country=Slovakia<br>Hours=%{x}<br>Productivity_HW=%{y}<extra></extra>",
         "legendgroup": "Slovakia",
         "marker": {
          "color": "#19d3f3",
          "symbol": "circle"
         },
         "mode": "markers",
         "name": "Slovakia",
         "orientation": "v",
         "showlegend": true,
         "type": "scatter",
         "x": [
          7.2
         ],
         "xaxis": "x",
         "y": [
          72.1
         ],
         "yaxis": "y"
        },
        {
         "hovertemplate": "Country=Slovenia<br>Hours=%{x}<br>Productivity_HW=%{y}<extra></extra>",
         "legendgroup": "Slovenia",
         "marker": {
          "color": "#FF6692",
          "symbol": "circle"
         },
         "mode": "markers",
         "name": "Slovenia",
         "orientation": "v",
         "showlegend": true,
         "type": "scatter",
         "x": [
          7.167
         ],
         "xaxis": "x",
         "y": [
          83.2
         ],
         "yaxis": "y"
        },
        {
         "hovertemplate": "Country=Spain (including the Balearic Islands)<br>Hours=%{x}<br>Productivity_HW=%{y}<extra></extra>",
         "legendgroup": "Spain (including the Balearic Islands)",
         "marker": {
          "color": "#B6E880",
          "symbol": "circle"
         },
         "mode": "markers",
         "name": "Spain (including the Balearic Islands)",
         "orientation": "v",
         "showlegend": true,
         "type": "scatter",
         "x": [
          7.067
         ],
         "xaxis": "x",
         "y": [
          92.7
         ],
         "yaxis": "y"
        },
        {
         "hovertemplate": "Country=Sweden<br>Hours=%{x}<br>Productivity_HW=%{y}<extra></extra>",
         "legendgroup": "Sweden",
         "marker": {
          "color": "#FF97FF",
          "symbol": "circle"
         },
         "mode": "markers",
         "name": "Sweden",
         "orientation": "v",
         "showlegend": true,
         "type": "scatter",
         "x": [
          7.3
         ],
         "xaxis": "x",
         "y": [
          113.6
         ],
         "yaxis": "y"
        },
        {
         "hovertemplate": "Country=Switzerland<br>Hours=%{x}<br>Productivity_HW=%{y}<extra></extra>",
         "legendgroup": "Switzerland",
         "marker": {
          "color": "#FECB52",
          "symbol": "circle"
         },
         "mode": "markers",
         "name": "Switzerland",
         "orientation": "v",
         "showlegend": true,
         "type": "scatter",
         "x": [
          7.317
         ],
         "xaxis": "x",
         "y": [
          129.4
         ],
         "yaxis": "y"
        },
        {
         "hovertemplate": "<b>OLS trendline</b><br>Productivity_HW = 111.163 * Hours + -705.833<br>R<sup>2</sup>=0.139279<br><br>Hours=%{x}<br>Productivity_HW=%{y} <b>(trend)</b><extra></extra>",
         "legendgroup": "Overall Trendline",
         "line": {
          "color": "black"
         },
         "mode": "lines",
         "name": "Overall Trendline",
         "showlegend": true,
         "type": "scatter",
         "x": [
          6.967,
          7.067,
          7.083,
          7.083,
          7.1,
          7.117,
          7.15,
          7.15,
          7.15,
          7.167,
          7.167,
          7.183,
          7.183,
          7.2,
          7.217,
          7.233,
          7.233,
          7.233,
          7.25,
          7.283,
          7.3,
          7.3,
          7.3,
          7.317,
          7.333,
          7.367,
          7.383,
          7.383,
          7.467,
          7.5
         ],
         "xaxis": "x",
         "y": [
          68.63688491574192,
          79.75314576767369,
          81.53174750398273,
          81.53174750398273,
          83.42151184881106,
          85.3112761936394,
          88.9796422747769,
          88.9796422747769,
          88.9796422747769,
          90.86940661960523,
          90.86940661960523,
          92.64800835591427,
          92.64800835591427,
          94.53777270074272,
          96.42753704557106,
          98.2061387818801,
          98.2061387818801,
          98.2061387818801,
          100.09590312670844,
          103.76426920784593,
          105.65403355267426,
          105.65403355267426,
          105.65403355267426,
          107.54379789750271,
          109.32239963381176,
          113.10192832346843,
          114.88053005977758,
          114.88053005977758,
          124.21818917540008,
          127.88655525653758
         ],
         "yaxis": "y"
        }
       ],
       "layout": {
        "legend": {
         "title": {
          "text": "Country"
         },
         "tracegroupgap": 0
        },
        "margin": {
         "t": 60
        },
        "template": {
         "data": {
          "bar": [
           {
            "error_x": {
             "color": "#2a3f5f"
            },
            "error_y": {
             "color": "#2a3f5f"
            },
            "marker": {
             "line": {
              "color": "#E5ECF6",
              "width": 0.5
             },
             "pattern": {
              "fillmode": "overlay",
              "size": 10,
              "solidity": 0.2
             }
            },
            "type": "bar"
           }
          ],
          "barpolar": [
           {
            "marker": {
             "line": {
              "color": "#E5ECF6",
              "width": 0.5
             },
             "pattern": {
              "fillmode": "overlay",
              "size": 10,
              "solidity": 0.2
             }
            },
            "type": "barpolar"
           }
          ],
          "carpet": [
           {
            "aaxis": {
             "endlinecolor": "#2a3f5f",
             "gridcolor": "white",
             "linecolor": "white",
             "minorgridcolor": "white",
             "startlinecolor": "#2a3f5f"
            },
            "baxis": {
             "endlinecolor": "#2a3f5f",
             "gridcolor": "white",
             "linecolor": "white",
             "minorgridcolor": "white",
             "startlinecolor": "#2a3f5f"
            },
            "type": "carpet"
           }
          ],
          "choropleth": [
           {
            "colorbar": {
             "outlinewidth": 0,
             "ticks": ""
            },
            "type": "choropleth"
           }
          ],
          "contour": [
           {
            "colorbar": {
             "outlinewidth": 0,
             "ticks": ""
            },
            "colorscale": [
             [
              0,
              "#0d0887"
             ],
             [
              0.1111111111111111,
              "#46039f"
             ],
             [
              0.2222222222222222,
              "#7201a8"
             ],
             [
              0.3333333333333333,
              "#9c179e"
             ],
             [
              0.4444444444444444,
              "#bd3786"
             ],
             [
              0.5555555555555556,
              "#d8576b"
             ],
             [
              0.6666666666666666,
              "#ed7953"
             ],
             [
              0.7777777777777778,
              "#fb9f3a"
             ],
             [
              0.8888888888888888,
              "#fdca26"
             ],
             [
              1,
              "#f0f921"
             ]
            ],
            "type": "contour"
           }
          ],
          "contourcarpet": [
           {
            "colorbar": {
             "outlinewidth": 0,
             "ticks": ""
            },
            "type": "contourcarpet"
           }
          ],
          "heatmap": [
           {
            "colorbar": {
             "outlinewidth": 0,
             "ticks": ""
            },
            "colorscale": [
             [
              0,
              "#0d0887"
             ],
             [
              0.1111111111111111,
              "#46039f"
             ],
             [
              0.2222222222222222,
              "#7201a8"
             ],
             [
              0.3333333333333333,
              "#9c179e"
             ],
             [
              0.4444444444444444,
              "#bd3786"
             ],
             [
              0.5555555555555556,
              "#d8576b"
             ],
             [
              0.6666666666666666,
              "#ed7953"
             ],
             [
              0.7777777777777778,
              "#fb9f3a"
             ],
             [
              0.8888888888888888,
              "#fdca26"
             ],
             [
              1,
              "#f0f921"
             ]
            ],
            "type": "heatmap"
           }
          ],
          "heatmapgl": [
           {
            "colorbar": {
             "outlinewidth": 0,
             "ticks": ""
            },
            "colorscale": [
             [
              0,
              "#0d0887"
             ],
             [
              0.1111111111111111,
              "#46039f"
             ],
             [
              0.2222222222222222,
              "#7201a8"
             ],
             [
              0.3333333333333333,
              "#9c179e"
             ],
             [
              0.4444444444444444,
              "#bd3786"
             ],
             [
              0.5555555555555556,
              "#d8576b"
             ],
             [
              0.6666666666666666,
              "#ed7953"
             ],
             [
              0.7777777777777778,
              "#fb9f3a"
             ],
             [
              0.8888888888888888,
              "#fdca26"
             ],
             [
              1,
              "#f0f921"
             ]
            ],
            "type": "heatmapgl"
           }
          ],
          "histogram": [
           {
            "marker": {
             "pattern": {
              "fillmode": "overlay",
              "size": 10,
              "solidity": 0.2
             }
            },
            "type": "histogram"
           }
          ],
          "histogram2d": [
           {
            "colorbar": {
             "outlinewidth": 0,
             "ticks": ""
            },
            "colorscale": [
             [
              0,
              "#0d0887"
             ],
             [
              0.1111111111111111,
              "#46039f"
             ],
             [
              0.2222222222222222,
              "#7201a8"
             ],
             [
              0.3333333333333333,
              "#9c179e"
             ],
             [
              0.4444444444444444,
              "#bd3786"
             ],
             [
              0.5555555555555556,
              "#d8576b"
             ],
             [
              0.6666666666666666,
              "#ed7953"
             ],
             [
              0.7777777777777778,
              "#fb9f3a"
             ],
             [
              0.8888888888888888,
              "#fdca26"
             ],
             [
              1,
              "#f0f921"
             ]
            ],
            "type": "histogram2d"
           }
          ],
          "histogram2dcontour": [
           {
            "colorbar": {
             "outlinewidth": 0,
             "ticks": ""
            },
            "colorscale": [
             [
              0,
              "#0d0887"
             ],
             [
              0.1111111111111111,
              "#46039f"
             ],
             [
              0.2222222222222222,
              "#7201a8"
             ],
             [
              0.3333333333333333,
              "#9c179e"
             ],
             [
              0.4444444444444444,
              "#bd3786"
             ],
             [
              0.5555555555555556,
              "#d8576b"
             ],
             [
              0.6666666666666666,
              "#ed7953"
             ],
             [
              0.7777777777777778,
              "#fb9f3a"
             ],
             [
              0.8888888888888888,
              "#fdca26"
             ],
             [
              1,
              "#f0f921"
             ]
            ],
            "type": "histogram2dcontour"
           }
          ],
          "mesh3d": [
           {
            "colorbar": {
             "outlinewidth": 0,
             "ticks": ""
            },
            "type": "mesh3d"
           }
          ],
          "parcoords": [
           {
            "line": {
             "colorbar": {
              "outlinewidth": 0,
              "ticks": ""
             }
            },
            "type": "parcoords"
           }
          ],
          "pie": [
           {
            "automargin": true,
            "type": "pie"
           }
          ],
          "scatter": [
           {
            "fillpattern": {
             "fillmode": "overlay",
             "size": 10,
             "solidity": 0.2
            },
            "type": "scatter"
           }
          ],
          "scatter3d": [
           {
            "line": {
             "colorbar": {
              "outlinewidth": 0,
              "ticks": ""
             }
            },
            "marker": {
             "colorbar": {
              "outlinewidth": 0,
              "ticks": ""
             }
            },
            "type": "scatter3d"
           }
          ],
          "scattercarpet": [
           {
            "marker": {
             "colorbar": {
              "outlinewidth": 0,
              "ticks": ""
             }
            },
            "type": "scattercarpet"
           }
          ],
          "scattergeo": [
           {
            "marker": {
             "colorbar": {
              "outlinewidth": 0,
              "ticks": ""
             }
            },
            "type": "scattergeo"
           }
          ],
          "scattergl": [
           {
            "marker": {
             "colorbar": {
              "outlinewidth": 0,
              "ticks": ""
             }
            },
            "type": "scattergl"
           }
          ],
          "scattermapbox": [
           {
            "marker": {
             "colorbar": {
              "outlinewidth": 0,
              "ticks": ""
             }
            },
            "type": "scattermapbox"
           }
          ],
          "scatterpolar": [
           {
            "marker": {
             "colorbar": {
              "outlinewidth": 0,
              "ticks": ""
             }
            },
            "type": "scatterpolar"
           }
          ],
          "scatterpolargl": [
           {
            "marker": {
             "colorbar": {
              "outlinewidth": 0,
              "ticks": ""
             }
            },
            "type": "scatterpolargl"
           }
          ],
          "scatterternary": [
           {
            "marker": {
             "colorbar": {
              "outlinewidth": 0,
              "ticks": ""
             }
            },
            "type": "scatterternary"
           }
          ],
          "surface": [
           {
            "colorbar": {
             "outlinewidth": 0,
             "ticks": ""
            },
            "colorscale": [
             [
              0,
              "#0d0887"
             ],
             [
              0.1111111111111111,
              "#46039f"
             ],
             [
              0.2222222222222222,
              "#7201a8"
             ],
             [
              0.3333333333333333,
              "#9c179e"
             ],
             [
              0.4444444444444444,
              "#bd3786"
             ],
             [
              0.5555555555555556,
              "#d8576b"
             ],
             [
              0.6666666666666666,
              "#ed7953"
             ],
             [
              0.7777777777777778,
              "#fb9f3a"
             ],
             [
              0.8888888888888888,
              "#fdca26"
             ],
             [
              1,
              "#f0f921"
             ]
            ],
            "type": "surface"
           }
          ],
          "table": [
           {
            "cells": {
             "fill": {
              "color": "#EBF0F8"
             },
             "line": {
              "color": "white"
             }
            },
            "header": {
             "fill": {
              "color": "#C8D4E3"
             },
             "line": {
              "color": "white"
             }
            },
            "type": "table"
           }
          ]
         },
         "layout": {
          "annotationdefaults": {
           "arrowcolor": "#2a3f5f",
           "arrowhead": 0,
           "arrowwidth": 1
          },
          "autotypenumbers": "strict",
          "coloraxis": {
           "colorbar": {
            "outlinewidth": 0,
            "ticks": ""
           }
          },
          "colorscale": {
           "diverging": [
            [
             0,
             "#8e0152"
            ],
            [
             0.1,
             "#c51b7d"
            ],
            [
             0.2,
             "#de77ae"
            ],
            [
             0.3,
             "#f1b6da"
            ],
            [
             0.4,
             "#fde0ef"
            ],
            [
             0.5,
             "#f7f7f7"
            ],
            [
             0.6,
             "#e6f5d0"
            ],
            [
             0.7,
             "#b8e186"
            ],
            [
             0.8,
             "#7fbc41"
            ],
            [
             0.9,
             "#4d9221"
            ],
            [
             1,
             "#276419"
            ]
           ],
           "sequential": [
            [
             0,
             "#0d0887"
            ],
            [
             0.1111111111111111,
             "#46039f"
            ],
            [
             0.2222222222222222,
             "#7201a8"
            ],
            [
             0.3333333333333333,
             "#9c179e"
            ],
            [
             0.4444444444444444,
             "#bd3786"
            ],
            [
             0.5555555555555556,
             "#d8576b"
            ],
            [
             0.6666666666666666,
             "#ed7953"
            ],
            [
             0.7777777777777778,
             "#fb9f3a"
            ],
            [
             0.8888888888888888,
             "#fdca26"
            ],
            [
             1,
             "#f0f921"
            ]
           ],
           "sequentialminus": [
            [
             0,
             "#0d0887"
            ],
            [
             0.1111111111111111,
             "#46039f"
            ],
            [
             0.2222222222222222,
             "#7201a8"
            ],
            [
             0.3333333333333333,
             "#9c179e"
            ],
            [
             0.4444444444444444,
             "#bd3786"
            ],
            [
             0.5555555555555556,
             "#d8576b"
            ],
            [
             0.6666666666666666,
             "#ed7953"
            ],
            [
             0.7777777777777778,
             "#fb9f3a"
            ],
            [
             0.8888888888888888,
             "#fdca26"
            ],
            [
             1,
             "#f0f921"
            ]
           ]
          },
          "colorway": [
           "#636efa",
           "#EF553B",
           "#00cc96",
           "#ab63fa",
           "#FFA15A",
           "#19d3f3",
           "#FF6692",
           "#B6E880",
           "#FF97FF",
           "#FECB52"
          ],
          "font": {
           "color": "#2a3f5f"
          },
          "geo": {
           "bgcolor": "white",
           "lakecolor": "white",
           "landcolor": "#E5ECF6",
           "showlakes": true,
           "showland": true,
           "subunitcolor": "white"
          },
          "hoverlabel": {
           "align": "left"
          },
          "hovermode": "closest",
          "mapbox": {
           "style": "light"
          },
          "paper_bgcolor": "white",
          "plot_bgcolor": "#E5ECF6",
          "polar": {
           "angularaxis": {
            "gridcolor": "white",
            "linecolor": "white",
            "ticks": ""
           },
           "bgcolor": "#E5ECF6",
           "radialaxis": {
            "gridcolor": "white",
            "linecolor": "white",
            "ticks": ""
           }
          },
          "scene": {
           "xaxis": {
            "backgroundcolor": "#E5ECF6",
            "gridcolor": "white",
            "gridwidth": 2,
            "linecolor": "white",
            "showbackground": true,
            "ticks": "",
            "zerolinecolor": "white"
           },
           "yaxis": {
            "backgroundcolor": "#E5ECF6",
            "gridcolor": "white",
            "gridwidth": 2,
            "linecolor": "white",
            "showbackground": true,
            "ticks": "",
            "zerolinecolor": "white"
           },
           "zaxis": {
            "backgroundcolor": "#E5ECF6",
            "gridcolor": "white",
            "gridwidth": 2,
            "linecolor": "white",
            "showbackground": true,
            "ticks": "",
            "zerolinecolor": "white"
           }
          },
          "shapedefaults": {
           "line": {
            "color": "#2a3f5f"
           }
          },
          "ternary": {
           "aaxis": {
            "gridcolor": "white",
            "linecolor": "white",
            "ticks": ""
           },
           "baxis": {
            "gridcolor": "white",
            "linecolor": "white",
            "ticks": ""
           },
           "bgcolor": "#E5ECF6",
           "caxis": {
            "gridcolor": "white",
            "linecolor": "white",
            "ticks": ""
           }
          },
          "title": {
           "x": 0.05
          },
          "xaxis": {
           "automargin": true,
           "gridcolor": "white",
           "linecolor": "white",
           "ticks": "",
           "title": {
            "standoff": 15
           },
           "zerolinecolor": "white",
           "zerolinewidth": 2
          },
          "yaxis": {
           "automargin": true,
           "gridcolor": "white",
           "linecolor": "white",
           "ticks": "",
           "title": {
            "standoff": 15
           },
           "zerolinecolor": "white",
           "zerolinewidth": 2
          }
         }
        },
        "xaxis": {
         "anchor": "y",
         "domain": [
          0,
          1
         ],
         "title": {
          "text": "Hours"
         }
        },
        "yaxis": {
         "anchor": "x",
         "domain": [
          0,
          1
         ],
         "title": {
          "text": "Productivity_HW"
         }
        }
       }
      }
     },
     "metadata": {},
     "output_type": "display_data"
    }
   ],
   "source": [
    "import plotly_express as px\n",
    "labels = sleep_prod['Country']\n",
    "fig = px.scatter(\n",
    "    sleep_prod, x='Hours', y='Productivity_HW',\n",
    "    color=labels,\n",
    "    trendline=\"ols\", trendline_scope=\"overall\", trendline_color_override=\"black\"\n",
    "    )\n",
    "fig.show()"
   ]
  },
  {
   "cell_type": "code",
   "execution_count": 62,
   "metadata": {},
   "outputs": [
    {
     "data": {
      "text/html": [
       "<table class=\"simpletable\">\n",
       "<caption>OLS Regression Results</caption>\n",
       "<tr>\n",
       "  <th>Dep. Variable:</th>            <td>y</td>        <th>  R-squared:         </th> <td>   0.139</td>\n",
       "</tr>\n",
       "<tr>\n",
       "  <th>Model:</th>                   <td>OLS</td>       <th>  Adj. R-squared:    </th> <td>   0.109</td>\n",
       "</tr>\n",
       "<tr>\n",
       "  <th>Method:</th>             <td>Least Squares</td>  <th>  F-statistic:       </th> <td>   4.531</td>\n",
       "</tr>\n",
       "<tr>\n",
       "  <th>Date:</th>             <td>Tue, 19 Apr 2022</td> <th>  Prob (F-statistic):</th>  <td>0.0422</td> \n",
       "</tr>\n",
       "<tr>\n",
       "  <th>Time:</th>                 <td>08:47:23</td>     <th>  Log-Likelihood:    </th> <td> -147.61</td>\n",
       "</tr>\n",
       "<tr>\n",
       "  <th>No. Observations:</th>      <td>    30</td>      <th>  AIC:               </th> <td>   299.2</td>\n",
       "</tr>\n",
       "<tr>\n",
       "  <th>Df Residuals:</th>          <td>    28</td>      <th>  BIC:               </th> <td>   302.0</td>\n",
       "</tr>\n",
       "<tr>\n",
       "  <th>Df Model:</th>              <td>     1</td>      <th>                     </th>     <td> </td>   \n",
       "</tr>\n",
       "<tr>\n",
       "  <th>Covariance Type:</th>      <td>nonrobust</td>    <th>                     </th>     <td> </td>   \n",
       "</tr>\n",
       "</table>\n",
       "<table class=\"simpletable\">\n",
       "<tr>\n",
       "    <td></td>       <th>coef</th>     <th>std err</th>      <th>t</th>      <th>P>|t|</th>  <th>[0.025</th>    <th>0.975]</th>  \n",
       "</tr>\n",
       "<tr>\n",
       "  <th>const</th> <td> -705.8330</td> <td>  377.571</td> <td>   -1.869</td> <td> 0.072</td> <td>-1479.251</td> <td>   67.585</td>\n",
       "</tr>\n",
       "<tr>\n",
       "  <th>x1</th>    <td>  111.1626</td> <td>   52.224</td> <td>    2.129</td> <td> 0.042</td> <td>    4.187</td> <td>  218.138</td>\n",
       "</tr>\n",
       "</table>\n",
       "<table class=\"simpletable\">\n",
       "<tr>\n",
       "  <th>Omnibus:</th>       <td> 8.098</td> <th>  Durbin-Watson:     </th> <td>   2.189</td>\n",
       "</tr>\n",
       "<tr>\n",
       "  <th>Prob(Omnibus):</th> <td> 0.017</td> <th>  Jarque-Bera (JB):  </th> <td>   6.470</td>\n",
       "</tr>\n",
       "<tr>\n",
       "  <th>Skew:</th>          <td> 1.060</td> <th>  Prob(JB):          </th> <td>  0.0394</td>\n",
       "</tr>\n",
       "<tr>\n",
       "  <th>Kurtosis:</th>      <td> 3.825</td> <th>  Cond. No.          </th> <td>    444.</td>\n",
       "</tr>\n",
       "</table><br/><br/>Notes:<br/>[1] Standard Errors assume that the covariance matrix of the errors is correctly specified."
      ],
      "text/plain": [
       "<class 'statsmodels.iolib.summary.Summary'>\n",
       "\"\"\"\n",
       "                            OLS Regression Results                            \n",
       "==============================================================================\n",
       "Dep. Variable:                      y   R-squared:                       0.139\n",
       "Model:                            OLS   Adj. R-squared:                  0.109\n",
       "Method:                 Least Squares   F-statistic:                     4.531\n",
       "Date:                Tue, 19 Apr 2022   Prob (F-statistic):             0.0422\n",
       "Time:                        08:47:23   Log-Likelihood:                -147.61\n",
       "No. Observations:                  30   AIC:                             299.2\n",
       "Df Residuals:                      28   BIC:                             302.0\n",
       "Df Model:                           1                                         \n",
       "Covariance Type:            nonrobust                                         \n",
       "==============================================================================\n",
       "                 coef    std err          t      P>|t|      [0.025      0.975]\n",
       "------------------------------------------------------------------------------\n",
       "const       -705.8330    377.571     -1.869      0.072   -1479.251      67.585\n",
       "x1           111.1626     52.224      2.129      0.042       4.187     218.138\n",
       "==============================================================================\n",
       "Omnibus:                        8.098   Durbin-Watson:                   2.189\n",
       "Prob(Omnibus):                  0.017   Jarque-Bera (JB):                6.470\n",
       "Skew:                           1.060   Prob(JB):                       0.0394\n",
       "Kurtosis:                       3.825   Cond. No.                         444.\n",
       "==============================================================================\n",
       "\n",
       "Notes:\n",
       "[1] Standard Errors assume that the covariance matrix of the errors is correctly specified.\n",
       "\"\"\""
      ]
     },
     "execution_count": 62,
     "metadata": {},
     "output_type": "execute_result"
    }
   ],
   "source": [
    "results = px.get_trendline_results(fig)\n",
    "results.px_fit_results.iloc[0].summary()"
   ]
  },
  {
   "cell_type": "code",
   "execution_count": 51,
   "metadata": {},
   "outputs": [
    {
     "data": {
      "text/html": [
       "<table class=\"simpletable\">\n",
       "<caption>OLS Regression Results</caption>\n",
       "<tr>\n",
       "  <th>Dep. Variable:</th>            <td>y</td>        <th>  R-squared:         </th> <td>   0.092</td>\n",
       "</tr>\n",
       "<tr>\n",
       "  <th>Model:</th>                   <td>OLS</td>       <th>  Adj. R-squared:    </th> <td>   0.060</td>\n",
       "</tr>\n",
       "<tr>\n",
       "  <th>Method:</th>             <td>Least Squares</td>  <th>  F-statistic:       </th> <td>   2.851</td>\n",
       "</tr>\n",
       "<tr>\n",
       "  <th>Date:</th>             <td>Tue, 19 Apr 2022</td> <th>  Prob (F-statistic):</th>  <td> 0.102</td> \n",
       "</tr>\n",
       "<tr>\n",
       "  <th>Time:</th>                 <td>08:44:56</td>     <th>  Log-Likelihood:    </th> <td> -144.93</td>\n",
       "</tr>\n",
       "<tr>\n",
       "  <th>No. Observations:</th>      <td>    30</td>      <th>  AIC:               </th> <td>   293.9</td>\n",
       "</tr>\n",
       "<tr>\n",
       "  <th>Df Residuals:</th>          <td>    28</td>      <th>  BIC:               </th> <td>   296.7</td>\n",
       "</tr>\n",
       "<tr>\n",
       "  <th>Df Model:</th>              <td>     1</td>      <th>                     </th>     <td> </td>   \n",
       "</tr>\n",
       "<tr>\n",
       "  <th>Covariance Type:</th>      <td>nonrobust</td>    <th>                     </th>     <td> </td>   \n",
       "</tr>\n",
       "</table>\n",
       "<table class=\"simpletable\">\n",
       "<tr>\n",
       "    <td></td>       <th>coef</th>     <th>std err</th>      <th>t</th>      <th>P>|t|</th>  <th>[0.025</th>    <th>0.975]</th>  \n",
       "</tr>\n",
       "<tr>\n",
       "  <th>const</th> <td> -483.4075</td> <td>  345.325</td> <td>   -1.400</td> <td> 0.173</td> <td>-1190.774</td> <td>  223.959</td>\n",
       "</tr>\n",
       "<tr>\n",
       "  <th>x1</th>    <td>   80.6490</td> <td>   47.764</td> <td>    1.688</td> <td> 0.102</td> <td>  -17.191</td> <td>  178.489</td>\n",
       "</tr>\n",
       "</table>\n",
       "<table class=\"simpletable\">\n",
       "<tr>\n",
       "  <th>Omnibus:</th>       <td>23.158</td> <th>  Durbin-Watson:     </th> <td>   1.988</td>\n",
       "</tr>\n",
       "<tr>\n",
       "  <th>Prob(Omnibus):</th> <td> 0.000</td> <th>  Jarque-Bera (JB):  </th> <td>  37.098</td>\n",
       "</tr>\n",
       "<tr>\n",
       "  <th>Skew:</th>          <td> 1.812</td> <th>  Prob(JB):          </th> <td>8.79e-09</td>\n",
       "</tr>\n",
       "<tr>\n",
       "  <th>Kurtosis:</th>      <td> 7.067</td> <th>  Cond. No.          </th> <td>    444.</td>\n",
       "</tr>\n",
       "</table><br/><br/>Notes:<br/>[1] Standard Errors assume that the covariance matrix of the errors is correctly specified."
      ],
      "text/plain": [
       "<class 'statsmodels.iolib.summary.Summary'>\n",
       "\"\"\"\n",
       "                            OLS Regression Results                            \n",
       "==============================================================================\n",
       "Dep. Variable:                      y   R-squared:                       0.092\n",
       "Model:                            OLS   Adj. R-squared:                  0.060\n",
       "Method:                 Least Squares   F-statistic:                     2.851\n",
       "Date:                Tue, 19 Apr 2022   Prob (F-statistic):              0.102\n",
       "Time:                        08:44:56   Log-Likelihood:                -144.93\n",
       "No. Observations:                  30   AIC:                             293.9\n",
       "Df Residuals:                      28   BIC:                             296.7\n",
       "Df Model:                           1                                         \n",
       "Covariance Type:            nonrobust                                         \n",
       "==============================================================================\n",
       "                 coef    std err          t      P>|t|      [0.025      0.975]\n",
       "------------------------------------------------------------------------------\n",
       "const       -483.4075    345.325     -1.400      0.173   -1190.774     223.959\n",
       "x1            80.6490     47.764      1.688      0.102     -17.191     178.489\n",
       "==============================================================================\n",
       "Omnibus:                       23.158   Durbin-Watson:                   1.988\n",
       "Prob(Omnibus):                  0.000   Jarque-Bera (JB):               37.098\n",
       "Skew:                           1.812   Prob(JB):                     8.79e-09\n",
       "Kurtosis:                       7.067   Cond. No.                         444.\n",
       "==============================================================================\n",
       "\n",
       "Notes:\n",
       "[1] Standard Errors assume that the covariance matrix of the errors is correctly specified.\n",
       "\"\"\""
      ]
     },
     "execution_count": 51,
     "metadata": {},
     "output_type": "execute_result"
    }
   ],
   "source": [
    "results = px.get_trendline_results(fig)\n",
    "results.px_fit_results.iloc[0].summary()"
   ]
  },
  {
   "cell_type": "code",
   "execution_count": 8,
   "metadata": {},
   "outputs": [
    {
     "data": {
      "text/html": [
       "<div>\n",
       "<style scoped>\n",
       "    .dataframe tbody tr th:only-of-type {\n",
       "        vertical-align: middle;\n",
       "    }\n",
       "\n",
       "    .dataframe tbody tr th {\n",
       "        vertical-align: top;\n",
       "    }\n",
       "\n",
       "    .dataframe thead th {\n",
       "        text-align: right;\n",
       "    }\n",
       "</style>\n",
       "<table border=\"1\" class=\"dataframe\">\n",
       "  <thead>\n",
       "    <tr style=\"text-align: right;\">\n",
       "      <th></th>\n",
       "      <th>Hours</th>\n",
       "    </tr>\n",
       "    <tr>\n",
       "      <th>Country</th>\n",
       "      <th></th>\n",
       "    </tr>\n",
       "  </thead>\n",
       "  <tbody>\n",
       "    <tr>\n",
       "      <th>Austria</th>\n",
       "      <td>7.183</td>\n",
       "    </tr>\n",
       "    <tr>\n",
       "      <th>Belgium</th>\n",
       "      <td>7.300</td>\n",
       "    </tr>\n",
       "    <tr>\n",
       "      <th>Bulgaria</th>\n",
       "      <td>7.150</td>\n",
       "    </tr>\n",
       "    <tr>\n",
       "      <th>Croatia</th>\n",
       "      <td>7.233</td>\n",
       "    </tr>\n",
       "    <tr>\n",
       "      <th>Czechia</th>\n",
       "      <td>7.183</td>\n",
       "    </tr>\n",
       "    <tr>\n",
       "      <th>Denmark</th>\n",
       "      <td>7.250</td>\n",
       "    </tr>\n",
       "    <tr>\n",
       "      <th>Estonia</th>\n",
       "      <td>7.367</td>\n",
       "    </tr>\n",
       "    <tr>\n",
       "      <th>Finland</th>\n",
       "      <td>7.500</td>\n",
       "    </tr>\n",
       "    <tr>\n",
       "      <th>France (including Monaco)</th>\n",
       "      <td>7.383</td>\n",
       "    </tr>\n",
       "    <tr>\n",
       "      <th>Germany</th>\n",
       "      <td>7.233</td>\n",
       "    </tr>\n",
       "    <tr>\n",
       "      <th>Greece</th>\n",
       "      <td>7.100</td>\n",
       "    </tr>\n",
       "    <tr>\n",
       "      <th>Hungary</th>\n",
       "      <td>7.167</td>\n",
       "    </tr>\n",
       "    <tr>\n",
       "      <th>Iceland</th>\n",
       "      <td>7.383</td>\n",
       "    </tr>\n",
       "    <tr>\n",
       "      <th>Ireland</th>\n",
       "      <td>7.283</td>\n",
       "    </tr>\n",
       "    <tr>\n",
       "      <th>Italy</th>\n",
       "      <td>7.083</td>\n",
       "    </tr>\n",
       "    <tr>\n",
       "      <th>Latvia</th>\n",
       "      <td>7.150</td>\n",
       "    </tr>\n",
       "    <tr>\n",
       "      <th>Lithuania</th>\n",
       "      <td>7.300</td>\n",
       "    </tr>\n",
       "    <tr>\n",
       "      <th>Luxembourg</th>\n",
       "      <td>7.117</td>\n",
       "    </tr>\n",
       "    <tr>\n",
       "      <th>Malta</th>\n",
       "      <td>6.967</td>\n",
       "    </tr>\n",
       "    <tr>\n",
       "      <th>Netherlands</th>\n",
       "      <td>7.467</td>\n",
       "    </tr>\n",
       "    <tr>\n",
       "      <th>Norway</th>\n",
       "      <td>7.333</td>\n",
       "    </tr>\n",
       "    <tr>\n",
       "      <th>Poland</th>\n",
       "      <td>7.083</td>\n",
       "    </tr>\n",
       "    <tr>\n",
       "      <th>Portugal (including the Azores and Madeira)</th>\n",
       "      <td>7.217</td>\n",
       "    </tr>\n",
       "    <tr>\n",
       "      <th>Republic of Cyprus</th>\n",
       "      <td>7.233</td>\n",
       "    </tr>\n",
       "    <tr>\n",
       "      <th>Romania</th>\n",
       "      <td>7.150</td>\n",
       "    </tr>\n",
       "    <tr>\n",
       "      <th>Slovakia</th>\n",
       "      <td>7.200</td>\n",
       "    </tr>\n",
       "    <tr>\n",
       "      <th>Slovenia</th>\n",
       "      <td>7.167</td>\n",
       "    </tr>\n",
       "    <tr>\n",
       "      <th>Spain (including the Balearic Islands)</th>\n",
       "      <td>7.067</td>\n",
       "    </tr>\n",
       "    <tr>\n",
       "      <th>Sweden</th>\n",
       "      <td>7.300</td>\n",
       "    </tr>\n",
       "    <tr>\n",
       "      <th>Switzerland</th>\n",
       "      <td>7.317</td>\n",
       "    </tr>\n",
       "  </tbody>\n",
       "</table>\n",
       "</div>"
      ],
      "text/plain": [
       "                                             Hours\n",
       "Country                                           \n",
       "Austria                                      7.183\n",
       "Belgium                                      7.300\n",
       "Bulgaria                                     7.150\n",
       "Croatia                                      7.233\n",
       "Czechia                                      7.183\n",
       "Denmark                                      7.250\n",
       "Estonia                                      7.367\n",
       "Finland                                      7.500\n",
       "France (including Monaco)                    7.383\n",
       "Germany                                      7.233\n",
       "Greece                                       7.100\n",
       "Hungary                                      7.167\n",
       "Iceland                                      7.383\n",
       "Ireland                                      7.283\n",
       "Italy                                        7.083\n",
       "Latvia                                       7.150\n",
       "Lithuania                                    7.300\n",
       "Luxembourg                                   7.117\n",
       "Malta                                        6.967\n",
       "Netherlands                                  7.467\n",
       "Norway                                       7.333\n",
       "Poland                                       7.083\n",
       "Portugal (including the Azores and Madeira)  7.217\n",
       "Republic of Cyprus                           7.233\n",
       "Romania                                      7.150\n",
       "Slovakia                                     7.200\n",
       "Slovenia                                     7.167\n",
       "Spain (including the Balearic Islands)       7.067\n",
       "Sweden                                       7.300\n",
       "Switzerland                                  7.317"
      ]
     },
     "execution_count": 8,
     "metadata": {},
     "output_type": "execute_result"
    }
   ],
   "source": [
    "df_new = sleep_prod[['Hours']]\n",
    "df_new\n"
   ]
  },
  {
   "cell_type": "code",
   "execution_count": 10,
   "metadata": {},
   "outputs": [],
   "source": [
    "df_new.to_csv('sleep_df.csv', index=True)"
   ]
  },
  {
   "cell_type": "code",
   "execution_count": null,
   "metadata": {},
   "outputs": [],
   "source": []
  }
 ],
 "metadata": {
  "interpreter": {
   "hash": "d9037ccdad3fabb5bb8678f281cb7a02ec268bc4ce525d0aa4ccd22958a1aadb"
  },
  "kernelspec": {
   "display_name": "Python 3",
   "language": "python",
   "name": "python3"
  },
  "language_info": {
   "codemirror_mode": {
    "name": "ipython",
    "version": 3
   },
   "file_extension": ".py",
   "mimetype": "text/x-python",
   "name": "python",
   "nbconvert_exporter": "python",
   "pygments_lexer": "ipython3",
   "version": "3.9.12"
  }
 },
 "nbformat": 4,
 "nbformat_minor": 2
}
